{
 "cells": [
  {
   "cell_type": "markdown",
   "metadata": {},
   "source": [
    "# Data processing for FlexSUS"
   ]
  },
  {
   "cell_type": "markdown",
   "metadata": {},
   "source": [
    "institution: DTU\n",
    "\n",
    "author: [tilseb](mailto:tilseb@dtu.dk)\n",
    "\n",
    "date created: 2020-01-30\n",
    "\n",
    "licensed under: [GNU GENERAL PUBLIC LICENSE Version 3, 29 June 2007](https://www.gnu.org/licenses/gpl-3.0.html)"
   ]
  },
  {
   "cell_type": "markdown",
   "metadata": {},
   "source": [
    "## Installation"
   ]
  },
  {
   "cell_type": "markdown",
   "metadata": {},
   "source": [
    "1. Installation via miniconda. Get miniconda with Python 3.7 [here](https://docs.conda.io/en/latest/miniconda.html).\n",
    "2. Open the anaconda promt: press `start button` , type `anaconda promt` and hit enter.\n",
    "3. Navigate to the folder containing this script: `cd <path_to_folder>`\n",
    "3. Use the requirements.yml file in the root directory to set up the environment: `conda env create -f requirements.yml`\n",
    "5. Activate the flexus environment: `conda activate flexsus`\n",
    "5. Open the notebook: `jupyter notebook`"
   ]
  },
  {
   "cell_type": "markdown",
   "metadata": {},
   "source": [
    "## Description"
   ]
  },
  {
   "cell_type": "markdown",
   "metadata": {},
   "source": [
    "## Content"
   ]
  },
  {
   "cell_type": "markdown",
   "metadata": {},
   "source": [
    "## Script set-up"
   ]
  },
  {
   "cell_type": "code",
   "execution_count": 1,
   "metadata": {},
   "outputs": [],
   "source": [
    "# import packages\n",
    "import os\n",
    "import pandas as pd"
   ]
  },
  {
   "cell_type": "code",
   "execution_count": 2,
   "metadata": {},
   "outputs": [],
   "source": [
    "# make directories\n",
    "dirs = {'output'}\n",
    "for i in dirs:\n",
    "    if not os.path.isdir(i):\n",
    "        os.mkdir(i)"
   ]
  },
  {
   "cell_type": "markdown",
   "metadata": {},
   "source": [
    "## Define output resolution"
   ]
  },
  {
   "cell_type": "code",
   "execution_count": 3,
   "metadata": {},
   "outputs": [],
   "source": [
    "# set of considered countries (if empty, select all)\n",
    "ccc = {'DENMARK'}"
   ]
  },
  {
   "cell_type": "code",
   "execution_count": 4,
   "metadata": {},
   "outputs": [],
   "source": [
    "# set of years (if empty, select all)\n",
    "yyy = {}  # 2025, 2035, 2045"
   ]
  },
  {
   "cell_type": "markdown",
   "metadata": {},
   "source": [
    "## Load data"
   ]
  },
  {
   "cell_type": "code",
   "execution_count": 19,
   "metadata": {},
   "outputs": [],
   "source": [
    "# get list of data files\n",
    "lf = [i.split('.')[0] for i in os.listdir('data')]\n",
    "#lf = os.listdir('data')"
   ]
  },
  {
   "cell_type": "raw",
   "metadata": {},
   "source": [
    "import csv\n",
    "with open('variable_spec.csv', 'w', newline='') as vs:\n",
    "    w = csv.writer(vs, delimiter=',')\n",
    "    w.writerow(lf)"
   ]
  },
  {
   "cell_type": "markdown",
   "metadata": {},
   "source": [
    "## Load and process data "
   ]
  },
  {
   "cell_type": "code",
   "execution_count": 20,
   "metadata": {},
   "outputs": [],
   "source": [
    "def readData(f):\n",
    "    return pd.read_csv('data/' + f + '.csv', encoding='utf8', engine='c', low_memory=False)"
   ]
  },
  {
   "cell_type": "code",
   "execution_count": 41,
   "metadata": {},
   "outputs": [],
   "source": [
    "def epsToZeros(df):\n",
    "    df = df.replace('Eps', 0)\n",
    "    return df"
   ]
  },
  {
   "cell_type": "code",
   "execution_count": 10,
   "metadata": {},
   "outputs": [],
   "source": [
    "def filterYearAndCountry(df,y,c):\n",
    "    if y: df = df.loc[~df.Dim3.isin(set(df.Dim3).difference(y)), :]\n",
    "    if c: df = df.loc[~df.Dim4.isin(set(df.Dim4).difference(c)), :]\n",
    "    return df"
   ]
  },
  {
   "cell_type": "code",
   "execution_count": 11,
   "metadata": {},
   "outputs": [],
   "source": [
    "def makeValFloat(df):\n",
    "    df.Val = df.Val.astype(float)\n",
    "    return df"
   ]
  },
  {
   "cell_type": "code",
   "execution_count": 38,
   "metadata": {},
   "outputs": [
    {
     "data": {
      "text/plain": [
       "['ECONOMY_ELEC_TRANSMISSION',\n",
       " 'ECONOMY_GENERATION',\n",
       " 'ECONOMY_HEAT_TRANSMISSION',\n",
       " 'ELEC_DEMAND',\n",
       " 'ELEC_PRICE',\n",
       " 'ELEC_PRICE_HOURLY',\n",
       " 'ELEC_TRANSMISSION_CAPACITY',\n",
       " 'ELEC_TRANSMISSION_FLOW',\n",
       " 'EMISSIONS_CO2',\n",
       " 'ENERGY_PRODUCTION',\n",
       " 'FUEL_CONSUMPTION',\n",
       " 'GENERATION_CAPACITY',\n",
       " 'HEAT_DEMAND',\n",
       " 'HEAT_PRICE',\n",
       " 'HEAT_PRICE_HOURLY',\n",
       " 'HEAT_TRANSMISSION_CAPACITY',\n",
       " 'HEAT_TRANSMISSION_FLOW',\n",
       " 'STORAGE_CAPACITY',\n",
       " 'SYSTEM_COSTS']"
      ]
     },
     "execution_count": 38,
     "metadata": {},
     "output_type": "execute_result"
    }
   ],
   "source": [
    "lf"
   ]
  },
  {
   "cell_type": "markdown",
   "metadata": {},
   "source": [
    "### ECONOMY_ELEC_TRANSMISSION"
   ]
  },
  {
   "cell_type": "code",
   "execution_count": 48,
   "metadata": {},
   "outputs": [
    {
     "data": {
      "text/plain": [
       "'ECONOMY_ELEC_TRANSMISSION'"
      ]
     },
     "execution_count": 48,
     "metadata": {},
     "output_type": "execute_result"
    }
   ],
   "source": [
    "lf[0]"
   ]
  },
  {
   "cell_type": "code",
   "execution_count": 45,
   "metadata": {},
   "outputs": [
    {
     "data": {
      "text/html": [
       "<div>\n",
       "<style scoped>\n",
       "    .dataframe tbody tr th:only-of-type {\n",
       "        vertical-align: middle;\n",
       "    }\n",
       "\n",
       "    .dataframe tbody tr th {\n",
       "        vertical-align: top;\n",
       "    }\n",
       "\n",
       "    .dataframe thead th {\n",
       "        text-align: right;\n",
       "    }\n",
       "</style>\n",
       "<table border=\"1\" class=\"dataframe\">\n",
       "  <thead>\n",
       "    <tr style=\"text-align: right;\">\n",
       "      <th></th>\n",
       "      <th>Dim1</th>\n",
       "      <th>Dim2</th>\n",
       "      <th>Dim3</th>\n",
       "      <th>Dim4</th>\n",
       "      <th>Dim5</th>\n",
       "      <th>Dim6</th>\n",
       "      <th>Dim7</th>\n",
       "      <th>Dim8</th>\n",
       "      <th>Val</th>\n",
       "    </tr>\n",
       "  </thead>\n",
       "  <tbody>\n",
       "    <tr>\n",
       "      <th>14</th>\n",
       "      <td>ScenarioResults_181_270</td>\n",
       "      <td>Scenario181</td>\n",
       "      <td>2025</td>\n",
       "      <td>DENMARK</td>\n",
       "      <td>DK1</td>\n",
       "      <td>COSTS</td>\n",
       "      <td>TRANSMISSION_OPERATIONAL_COSTS</td>\n",
       "      <td>Mmoney</td>\n",
       "      <td>0.001645</td>\n",
       "    </tr>\n",
       "    <tr>\n",
       "      <th>15</th>\n",
       "      <td>ScenarioResults_181_270</td>\n",
       "      <td>Scenario181</td>\n",
       "      <td>2025</td>\n",
       "      <td>DENMARK</td>\n",
       "      <td>DK1</td>\n",
       "      <td>COSTS</td>\n",
       "      <td>TRANSMISSION_TRADE_COSTS</td>\n",
       "      <td>Mmoney</td>\n",
       "      <td>34.881906</td>\n",
       "    </tr>\n",
       "  </tbody>\n",
       "</table>\n",
       "</div>"
      ],
      "text/plain": [
       "                       Dim1         Dim2  Dim3     Dim4 Dim5   Dim6  \\\n",
       "14  ScenarioResults_181_270  Scenario181  2025  DENMARK  DK1  COSTS   \n",
       "15  ScenarioResults_181_270  Scenario181  2025  DENMARK  DK1  COSTS   \n",
       "\n",
       "                              Dim7    Dim8        Val  \n",
       "14  TRANSMISSION_OPERATIONAL_COSTS  Mmoney   0.001645  \n",
       "15        TRANSMISSION_TRADE_COSTS  Mmoney  34.881906  "
      ]
     },
     "execution_count": 45,
     "metadata": {},
     "output_type": "execute_result"
    }
   ],
   "source": [
    "# ECONOMY_ELEC_TRANSMISSION\n",
    "df0 = readData(lf[0])\n",
    "df0 = epsToZeros(df0)\n",
    "df0 = filterYearAndCountry(df0,yyy,ccc)\n",
    "df0 = makeValFloat(df0)\n",
    "df0.head(2)"
   ]
  },
  {
   "cell_type": "code",
   "execution_count": 46,
   "metadata": {},
   "outputs": [
    {
     "data": {
      "text/html": [
       "<div>\n",
       "<style scoped>\n",
       "    .dataframe tbody tr th:only-of-type {\n",
       "        vertical-align: middle;\n",
       "    }\n",
       "\n",
       "    .dataframe tbody tr th {\n",
       "        vertical-align: top;\n",
       "    }\n",
       "\n",
       "    .dataframe thead tr th {\n",
       "        text-align: left;\n",
       "    }\n",
       "\n",
       "    .dataframe thead tr:last-of-type th {\n",
       "        text-align: right;\n",
       "    }\n",
       "</style>\n",
       "<table border=\"1\" class=\"dataframe\">\n",
       "  <thead>\n",
       "    <tr>\n",
       "      <th></th>\n",
       "      <th colspan=\"4\" halign=\"left\">ECONOMY_ELEC_TRANSMISSION</th>\n",
       "    </tr>\n",
       "    <tr>\n",
       "      <th>Dim7</th>\n",
       "      <th>TRANSMISSION_CAPITAL_COSTS</th>\n",
       "      <th>TRANSMISSION_OPERATIONAL_COSTS</th>\n",
       "      <th>TRANSMISSION_TRADE_COSTS</th>\n",
       "      <th>TRANSMISSION_TRADE_INCOME</th>\n",
       "    </tr>\n",
       "    <tr>\n",
       "      <th>Dim2</th>\n",
       "      <th></th>\n",
       "      <th></th>\n",
       "      <th></th>\n",
       "      <th></th>\n",
       "    </tr>\n",
       "  </thead>\n",
       "  <tbody>\n",
       "    <tr>\n",
       "      <th>Scenario1</th>\n",
       "      <td>417.131961</td>\n",
       "      <td>0.020614</td>\n",
       "      <td>223.822992</td>\n",
       "      <td>10198.187747</td>\n",
       "    </tr>\n",
       "    <tr>\n",
       "      <th>Scenario10</th>\n",
       "      <td>295.729468</td>\n",
       "      <td>0.009370</td>\n",
       "      <td>392.203384</td>\n",
       "      <td>5148.391004</td>\n",
       "    </tr>\n",
       "  </tbody>\n",
       "</table>\n",
       "</div>"
      ],
      "text/plain": [
       "            ECONOMY_ELEC_TRANSMISSION                                 \\\n",
       "Dim7       TRANSMISSION_CAPITAL_COSTS TRANSMISSION_OPERATIONAL_COSTS   \n",
       "Dim2                                                                   \n",
       "Scenario1                  417.131961                       0.020614   \n",
       "Scenario10                 295.729468                       0.009370   \n",
       "\n",
       "                                                               \n",
       "Dim7       TRANSMISSION_TRADE_COSTS TRANSMISSION_TRADE_INCOME  \n",
       "Dim2                                                           \n",
       "Scenario1                223.822992              10198.187747  \n",
       "Scenario10               392.203384               5148.391004  "
      ]
     },
     "execution_count": 46,
     "metadata": {},
     "output_type": "execute_result"
    }
   ],
   "source": [
    "# group data frame\n",
    "df0 = df0.groupby(['Dim7','Dim2'])['Val'].sum().unstack().T\n",
    "df0 = df0.fillna(0)\n",
    "df0.columns = pd.MultiIndex.from_product([[lf[0]], df0.columns])\n",
    "df0.head(2)"
   ]
  },
  {
   "cell_type": "markdown",
   "metadata": {},
   "source": [
    "### ECONOMY_GENERATION"
   ]
  },
  {
   "cell_type": "code",
   "execution_count": 49,
   "metadata": {},
   "outputs": [
    {
     "data": {
      "text/plain": [
       "'ECONOMY_GENERATION'"
      ]
     },
     "execution_count": 49,
     "metadata": {},
     "output_type": "execute_result"
    }
   ],
   "source": [
    "lf[1]"
   ]
  },
  {
   "cell_type": "code",
   "execution_count": 47,
   "metadata": {},
   "outputs": [
    {
     "data": {
      "text/html": [
       "<div>\n",
       "<style scoped>\n",
       "    .dataframe tbody tr th:only-of-type {\n",
       "        vertical-align: middle;\n",
       "    }\n",
       "\n",
       "    .dataframe tbody tr th {\n",
       "        vertical-align: top;\n",
       "    }\n",
       "\n",
       "    .dataframe thead th {\n",
       "        text-align: right;\n",
       "    }\n",
       "</style>\n",
       "<table border=\"1\" class=\"dataframe\">\n",
       "  <thead>\n",
       "    <tr style=\"text-align: right;\">\n",
       "      <th></th>\n",
       "      <th>Dim1</th>\n",
       "      <th>Dim2</th>\n",
       "      <th>Dim3</th>\n",
       "      <th>Dim4</th>\n",
       "      <th>Dim5</th>\n",
       "      <th>Dim6</th>\n",
       "      <th>Dim7</th>\n",
       "      <th>Dim8</th>\n",
       "      <th>Dim9</th>\n",
       "      <th>Dim10</th>\n",
       "      <th>Dim11</th>\n",
       "      <th>Dim12</th>\n",
       "      <th>Val</th>\n",
       "    </tr>\n",
       "  </thead>\n",
       "  <tbody>\n",
       "    <tr>\n",
       "      <th>1412</th>\n",
       "      <td>ScenarioResults_181_270</td>\n",
       "      <td>Scenario181</td>\n",
       "      <td>2025</td>\n",
       "      <td>DENMARK</td>\n",
       "      <td>DK1</td>\n",
       "      <td>DK1_Large</td>\n",
       "      <td>GNR_BO_BIOIL_E-85</td>\n",
       "      <td>BIOOIL</td>\n",
       "      <td>BOILERS</td>\n",
       "      <td>COSTS</td>\n",
       "      <td>GENERATION_FIXED_COSTS</td>\n",
       "      <td>Mmoney</td>\n",
       "      <td>0.220143</td>\n",
       "    </tr>\n",
       "    <tr>\n",
       "      <th>1413</th>\n",
       "      <td>ScenarioResults_181_270</td>\n",
       "      <td>Scenario181</td>\n",
       "      <td>2025</td>\n",
       "      <td>DENMARK</td>\n",
       "      <td>DK1</td>\n",
       "      <td>DK1_Large</td>\n",
       "      <td>GNR_BO_BIOIL_E-85</td>\n",
       "      <td>BIOOIL</td>\n",
       "      <td>BOILERS</td>\n",
       "      <td>COSTS</td>\n",
       "      <td>GENERATION_OPERATIONAL_COSTS</td>\n",
       "      <td>Mmoney</td>\n",
       "      <td>0.403046</td>\n",
       "    </tr>\n",
       "  </tbody>\n",
       "</table>\n",
       "</div>"
      ],
      "text/plain": [
       "                         Dim1         Dim2  Dim3     Dim4 Dim5       Dim6  \\\n",
       "1412  ScenarioResults_181_270  Scenario181  2025  DENMARK  DK1  DK1_Large   \n",
       "1413  ScenarioResults_181_270  Scenario181  2025  DENMARK  DK1  DK1_Large   \n",
       "\n",
       "                   Dim7    Dim8     Dim9  Dim10                         Dim11  \\\n",
       "1412  GNR_BO_BIOIL_E-85  BIOOIL  BOILERS  COSTS        GENERATION_FIXED_COSTS   \n",
       "1413  GNR_BO_BIOIL_E-85  BIOOIL  BOILERS  COSTS  GENERATION_OPERATIONAL_COSTS   \n",
       "\n",
       "       Dim12       Val  \n",
       "1412  Mmoney  0.220143  \n",
       "1413  Mmoney  0.403046  "
      ]
     },
     "execution_count": 47,
     "metadata": {},
     "output_type": "execute_result"
    }
   ],
   "source": [
    "# ECONOMY_GENERATION\n",
    "df1 = readData(lf[1])\n",
    "df1 = epsToZeros(df1)\n",
    "df1 = filterYearAndCountry(df1,yyy,ccc)\n",
    "df1 = makeValFloat(df1)\n",
    "df1.head(2)"
   ]
  },
  {
   "cell_type": "code",
   "execution_count": 50,
   "metadata": {},
   "outputs": [
    {
     "data": {
      "text/html": [
       "<div>\n",
       "<style scoped>\n",
       "    .dataframe tbody tr th:only-of-type {\n",
       "        vertical-align: middle;\n",
       "    }\n",
       "\n",
       "    .dataframe tbody tr th {\n",
       "        vertical-align: top;\n",
       "    }\n",
       "\n",
       "    .dataframe thead tr th {\n",
       "        text-align: left;\n",
       "    }\n",
       "\n",
       "    .dataframe thead tr:last-of-type th {\n",
       "        text-align: right;\n",
       "    }\n",
       "</style>\n",
       "<table border=\"1\" class=\"dataframe\">\n",
       "  <thead>\n",
       "    <tr>\n",
       "      <th></th>\n",
       "      <th colspan=\"13\" halign=\"left\">ECONOMY_GENERATION</th>\n",
       "    </tr>\n",
       "    <tr>\n",
       "      <th>Dim11</th>\n",
       "      <th>ELECTRICITY_SALE</th>\n",
       "      <th>ENERGY_SPECIFIC_REVENUE</th>\n",
       "      <th>GENERATION_CAPITAL_COSTS</th>\n",
       "      <th>GENERATION_CO2_TAX</th>\n",
       "      <th>GENERATION_FIXED_COSTS</th>\n",
       "      <th>GENERATION_FUEL_COSTS</th>\n",
       "      <th>GENERATION_GRID_TARIFFS</th>\n",
       "      <th>GENERATION_OPERATIONAL_COSTS</th>\n",
       "      <th>GENERATION_OTHER_EMI_TAX</th>\n",
       "      <th>GENERATION_TAXES</th>\n",
       "      <th>GENERATION_UC_COSTS</th>\n",
       "      <th>HEAT_SALE</th>\n",
       "      <th>TOTAL_REVENUE</th>\n",
       "    </tr>\n",
       "    <tr>\n",
       "      <th>Dim2</th>\n",
       "      <th></th>\n",
       "      <th></th>\n",
       "      <th></th>\n",
       "      <th></th>\n",
       "      <th></th>\n",
       "      <th></th>\n",
       "      <th></th>\n",
       "      <th></th>\n",
       "      <th></th>\n",
       "      <th></th>\n",
       "      <th></th>\n",
       "      <th></th>\n",
       "      <th></th>\n",
       "    </tr>\n",
       "  </thead>\n",
       "  <tbody>\n",
       "    <tr>\n",
       "      <th>Scenario1</th>\n",
       "      <td>12210.059270</td>\n",
       "      <td>31621.444182</td>\n",
       "      <td>6940.383171</td>\n",
       "      <td>86.642451</td>\n",
       "      <td>2664.404139</td>\n",
       "      <td>2620.16481</td>\n",
       "      <td>56.057248</td>\n",
       "      <td>749.952190</td>\n",
       "      <td>0.020144</td>\n",
       "      <td>87.905015</td>\n",
       "      <td>86.366213</td>\n",
       "      <td>5405.295318</td>\n",
       "      <td>4323.459207</td>\n",
       "    </tr>\n",
       "    <tr>\n",
       "      <th>Scenario10</th>\n",
       "      <td>4098.555644</td>\n",
       "      <td>29221.484573</td>\n",
       "      <td>3209.519551</td>\n",
       "      <td>219.152990</td>\n",
       "      <td>1049.003067</td>\n",
       "      <td>936.82982</td>\n",
       "      <td>245.660960</td>\n",
       "      <td>538.911484</td>\n",
       "      <td>0.012272</td>\n",
       "      <td>1971.637897</td>\n",
       "      <td>103.645321</td>\n",
       "      <td>7820.944328</td>\n",
       "      <td>3645.126609</td>\n",
       "    </tr>\n",
       "  </tbody>\n",
       "</table>\n",
       "</div>"
      ],
      "text/plain": [
       "           ECONOMY_GENERATION                          \\\n",
       "Dim11        ELECTRICITY_SALE ENERGY_SPECIFIC_REVENUE   \n",
       "Dim2                                                    \n",
       "Scenario1        12210.059270            31621.444182   \n",
       "Scenario10        4098.555644            29221.484573   \n",
       "\n",
       "                                                                               \\\n",
       "Dim11      GENERATION_CAPITAL_COSTS GENERATION_CO2_TAX GENERATION_FIXED_COSTS   \n",
       "Dim2                                                                            \n",
       "Scenario1               6940.383171          86.642451            2664.404139   \n",
       "Scenario10              3209.519551         219.152990            1049.003067   \n",
       "\n",
       "                                                          \\\n",
       "Dim11      GENERATION_FUEL_COSTS GENERATION_GRID_TARIFFS   \n",
       "Dim2                                                       \n",
       "Scenario1             2620.16481               56.057248   \n",
       "Scenario10             936.82982              245.660960   \n",
       "\n",
       "                                                                  \\\n",
       "Dim11      GENERATION_OPERATIONAL_COSTS GENERATION_OTHER_EMI_TAX   \n",
       "Dim2                                                               \n",
       "Scenario1                    749.952190                 0.020144   \n",
       "Scenario10                   538.911484                 0.012272   \n",
       "\n",
       "                                                                            \n",
       "Dim11      GENERATION_TAXES GENERATION_UC_COSTS    HEAT_SALE TOTAL_REVENUE  \n",
       "Dim2                                                                        \n",
       "Scenario1         87.905015           86.366213  5405.295318   4323.459207  \n",
       "Scenario10      1971.637897          103.645321  7820.944328   3645.126609  "
      ]
     },
     "execution_count": 50,
     "metadata": {},
     "output_type": "execute_result"
    }
   ],
   "source": [
    "# group data frame\n",
    "df1 = df1.groupby(['Dim11','Dim2'])['Val'].sum().unstack().T\n",
    "df1 = df1.fillna(0)\n",
    "df1.columns = pd.MultiIndex.from_product([[lf[1]], df1.columns])\n",
    "df1.head(2)"
   ]
  },
  {
   "cell_type": "markdown",
   "metadata": {},
   "source": [
    "### ECONOMY_HEAT_TRANSMISSION"
   ]
  },
  {
   "cell_type": "code",
   "execution_count": 51,
   "metadata": {},
   "outputs": [
    {
     "data": {
      "text/plain": [
       "'ECONOMY_HEAT_TRANSMISSION'"
      ]
     },
     "execution_count": 51,
     "metadata": {},
     "output_type": "execute_result"
    }
   ],
   "source": [
    "lf[2]"
   ]
  },
  {
   "cell_type": "code",
   "execution_count": 52,
   "metadata": {},
   "outputs": [
    {
     "data": {
      "text/html": [
       "<div>\n",
       "<style scoped>\n",
       "    .dataframe tbody tr th:only-of-type {\n",
       "        vertical-align: middle;\n",
       "    }\n",
       "\n",
       "    .dataframe tbody tr th {\n",
       "        vertical-align: top;\n",
       "    }\n",
       "\n",
       "    .dataframe thead th {\n",
       "        text-align: right;\n",
       "    }\n",
       "</style>\n",
       "<table border=\"1\" class=\"dataframe\">\n",
       "  <thead>\n",
       "    <tr style=\"text-align: right;\">\n",
       "      <th></th>\n",
       "      <th>Dim1</th>\n",
       "      <th>Dim2</th>\n",
       "      <th>Dim3</th>\n",
       "      <th>Dim4</th>\n",
       "      <th>Dim5</th>\n",
       "      <th>Dim6</th>\n",
       "      <th>Dim7</th>\n",
       "      <th>Dim8</th>\n",
       "      <th>Dim9</th>\n",
       "      <th>Val</th>\n",
       "    </tr>\n",
       "  </thead>\n",
       "  <tbody>\n",
       "    <tr>\n",
       "      <th>33</th>\n",
       "      <td>ScenarioResults_181_270</td>\n",
       "      <td>Scenario181</td>\n",
       "      <td>2025</td>\n",
       "      <td>DENMARK</td>\n",
       "      <td>DK1</td>\n",
       "      <td>DK1_Large</td>\n",
       "      <td>COSTS</td>\n",
       "      <td>TRANSMISSION_TRADE_COSTS</td>\n",
       "      <td>Mmoney</td>\n",
       "      <td>24.516919</td>\n",
       "    </tr>\n",
       "    <tr>\n",
       "      <th>34</th>\n",
       "      <td>ScenarioResults_181_270</td>\n",
       "      <td>Scenario181</td>\n",
       "      <td>2025</td>\n",
       "      <td>DENMARK</td>\n",
       "      <td>DK1</td>\n",
       "      <td>DK1_Large</td>\n",
       "      <td>COSTS</td>\n",
       "      <td>HEAT_TRANSMISSION_OPERATIONAL_COSTS</td>\n",
       "      <td>Mmoney</td>\n",
       "      <td>0.000001</td>\n",
       "    </tr>\n",
       "  </tbody>\n",
       "</table>\n",
       "</div>"
      ],
      "text/plain": [
       "                       Dim1         Dim2  Dim3     Dim4 Dim5       Dim6  \\\n",
       "33  ScenarioResults_181_270  Scenario181  2025  DENMARK  DK1  DK1_Large   \n",
       "34  ScenarioResults_181_270  Scenario181  2025  DENMARK  DK1  DK1_Large   \n",
       "\n",
       "     Dim7                                 Dim8    Dim9        Val  \n",
       "33  COSTS             TRANSMISSION_TRADE_COSTS  Mmoney  24.516919  \n",
       "34  COSTS  HEAT_TRANSMISSION_OPERATIONAL_COSTS  Mmoney   0.000001  "
      ]
     },
     "execution_count": 52,
     "metadata": {},
     "output_type": "execute_result"
    }
   ],
   "source": [
    "# ECONOMY_HEAT_TRANSMISSION\n",
    "df2 = readData(lf[2])\n",
    "df2 = eps2zeros(df2)\n",
    "df2 = filterYearAndCountry(df2,yyy,ccc)\n",
    "df2 = makeValFloat(df2)\n",
    "df2.head(2)"
   ]
  },
  {
   "cell_type": "code",
   "execution_count": 53,
   "metadata": {
    "scrolled": true
   },
   "outputs": [
    {
     "data": {
      "text/html": [
       "<div>\n",
       "<style scoped>\n",
       "    .dataframe tbody tr th:only-of-type {\n",
       "        vertical-align: middle;\n",
       "    }\n",
       "\n",
       "    .dataframe tbody tr th {\n",
       "        vertical-align: top;\n",
       "    }\n",
       "\n",
       "    .dataframe thead tr th {\n",
       "        text-align: left;\n",
       "    }\n",
       "\n",
       "    .dataframe thead tr:last-of-type th {\n",
       "        text-align: right;\n",
       "    }\n",
       "</style>\n",
       "<table border=\"1\" class=\"dataframe\">\n",
       "  <thead>\n",
       "    <tr>\n",
       "      <th></th>\n",
       "      <th colspan=\"4\" halign=\"left\">ECONOMY_HEAT_TRANSMISSION</th>\n",
       "    </tr>\n",
       "    <tr>\n",
       "      <th>Dim8</th>\n",
       "      <th>HEAT_TRANSMISSION_CAPITAL_COSTS</th>\n",
       "      <th>HEAT_TRANSMISSION_OPERATIONAL_COSTS</th>\n",
       "      <th>TRANSMISSION_TRADE_COSTS</th>\n",
       "      <th>TRANSMISSION_TRADE_INCOME</th>\n",
       "    </tr>\n",
       "    <tr>\n",
       "      <th>Dim2</th>\n",
       "      <th></th>\n",
       "      <th></th>\n",
       "      <th></th>\n",
       "      <th></th>\n",
       "    </tr>\n",
       "  </thead>\n",
       "  <tbody>\n",
       "    <tr>\n",
       "      <th>Scenario1</th>\n",
       "      <td>0.0</td>\n",
       "      <td>0.000225</td>\n",
       "      <td>630.736822</td>\n",
       "      <td>630.736822</td>\n",
       "    </tr>\n",
       "    <tr>\n",
       "      <th>Scenario10</th>\n",
       "      <td>0.0</td>\n",
       "      <td>0.000518</td>\n",
       "      <td>461.310127</td>\n",
       "      <td>461.310127</td>\n",
       "    </tr>\n",
       "  </tbody>\n",
       "</table>\n",
       "</div>"
      ],
      "text/plain": [
       "                 ECONOMY_HEAT_TRANSMISSION  \\\n",
       "Dim8       HEAT_TRANSMISSION_CAPITAL_COSTS   \n",
       "Dim2                                         \n",
       "Scenario1                              0.0   \n",
       "Scenario10                             0.0   \n",
       "\n",
       "                                                                         \\\n",
       "Dim8       HEAT_TRANSMISSION_OPERATIONAL_COSTS TRANSMISSION_TRADE_COSTS   \n",
       "Dim2                                                                      \n",
       "Scenario1                             0.000225               630.736822   \n",
       "Scenario10                            0.000518               461.310127   \n",
       "\n",
       "                                      \n",
       "Dim8       TRANSMISSION_TRADE_INCOME  \n",
       "Dim2                                  \n",
       "Scenario1                 630.736822  \n",
       "Scenario10                461.310127  "
      ]
     },
     "execution_count": 53,
     "metadata": {},
     "output_type": "execute_result"
    }
   ],
   "source": [
    "# group data frame\n",
    "df2 = df2.groupby(['Dim8','Dim2'])['Val'].sum().unstack().T\n",
    "df2 = df2.fillna(0)\n",
    "df2.columns = pd.MultiIndex.from_product([[lf[2]], df2.columns])\n",
    "df2.head(2)"
   ]
  },
  {
   "cell_type": "markdown",
   "metadata": {},
   "source": [
    "## ELEC_DEMAND"
   ]
  },
  {
   "cell_type": "code",
   "execution_count": 39,
   "metadata": {},
   "outputs": [
    {
     "data": {
      "text/plain": [
       "'ELEC_DEMAND'"
      ]
     },
     "execution_count": 39,
     "metadata": {},
     "output_type": "execute_result"
    }
   ],
   "source": [
    "lf[3]"
   ]
  },
  {
   "cell_type": "code",
   "execution_count": 62,
   "metadata": {},
   "outputs": [
    {
     "data": {
      "text/html": [
       "<div>\n",
       "<style scoped>\n",
       "    .dataframe tbody tr th:only-of-type {\n",
       "        vertical-align: middle;\n",
       "    }\n",
       "\n",
       "    .dataframe tbody tr th {\n",
       "        vertical-align: top;\n",
       "    }\n",
       "\n",
       "    .dataframe thead th {\n",
       "        text-align: right;\n",
       "    }\n",
       "</style>\n",
       "<table border=\"1\" class=\"dataframe\">\n",
       "  <thead>\n",
       "    <tr style=\"text-align: right;\">\n",
       "      <th></th>\n",
       "      <th>Dim1</th>\n",
       "      <th>Dim2</th>\n",
       "      <th>Dim3</th>\n",
       "      <th>Dim4</th>\n",
       "      <th>Dim5</th>\n",
       "      <th>Dim6</th>\n",
       "      <th>Dim7</th>\n",
       "      <th>Val</th>\n",
       "    </tr>\n",
       "  </thead>\n",
       "  <tbody>\n",
       "    <tr>\n",
       "      <th>15</th>\n",
       "      <td>ScenarioResults_181_270</td>\n",
       "      <td>Scenario181</td>\n",
       "      <td>2025</td>\n",
       "      <td>DENMARK</td>\n",
       "      <td>DK1</td>\n",
       "      <td>EXOGENOUS</td>\n",
       "      <td>TWh</td>\n",
       "      <td>19.791304</td>\n",
       "    </tr>\n",
       "    <tr>\n",
       "      <th>16</th>\n",
       "      <td>ScenarioResults_181_270</td>\n",
       "      <td>Scenario181</td>\n",
       "      <td>2025</td>\n",
       "      <td>DENMARK</td>\n",
       "      <td>DK1</td>\n",
       "      <td>ENDO_EV</td>\n",
       "      <td>TWh</td>\n",
       "      <td>0.589469</td>\n",
       "    </tr>\n",
       "  </tbody>\n",
       "</table>\n",
       "</div>"
      ],
      "text/plain": [
       "                       Dim1         Dim2  Dim3     Dim4 Dim5       Dim6 Dim7  \\\n",
       "15  ScenarioResults_181_270  Scenario181  2025  DENMARK  DK1  EXOGENOUS  TWh   \n",
       "16  ScenarioResults_181_270  Scenario181  2025  DENMARK  DK1    ENDO_EV  TWh   \n",
       "\n",
       "          Val  \n",
       "15  19.791304  \n",
       "16   0.589469  "
      ]
     },
     "execution_count": 62,
     "metadata": {},
     "output_type": "execute_result"
    }
   ],
   "source": [
    "# ELEC_DEMAND\n",
    "df3 = readData(lf[3])\n",
    "df3 = epsToZeros(df3)\n",
    "df3 = filterYearAndCountry(df3,yyy,ccc)\n",
    "df3 = makeValFloat(df3)\n",
    "df3.head(2)"
   ]
  },
  {
   "cell_type": "code",
   "execution_count": 63,
   "metadata": {},
   "outputs": [
    {
     "data": {
      "text/html": [
       "<div>\n",
       "<style scoped>\n",
       "    .dataframe tbody tr th:only-of-type {\n",
       "        vertical-align: middle;\n",
       "    }\n",
       "\n",
       "    .dataframe tbody tr th {\n",
       "        vertical-align: top;\n",
       "    }\n",
       "\n",
       "    .dataframe thead tr th {\n",
       "        text-align: left;\n",
       "    }\n",
       "\n",
       "    .dataframe thead tr:last-of-type th {\n",
       "        text-align: right;\n",
       "    }\n",
       "</style>\n",
       "<table border=\"1\" class=\"dataframe\">\n",
       "  <thead>\n",
       "    <tr>\n",
       "      <th></th>\n",
       "      <th colspan=\"5\" halign=\"left\">ELEC_DEMAND</th>\n",
       "    </tr>\n",
       "    <tr>\n",
       "      <th>Dim6</th>\n",
       "      <th>ENDO_ELBOILER</th>\n",
       "      <th>ENDO_EV</th>\n",
       "      <th>ENDO_HEATPUMP</th>\n",
       "      <th>ENDO_INTRASTO</th>\n",
       "      <th>EXOGENOUS</th>\n",
       "    </tr>\n",
       "    <tr>\n",
       "      <th>Dim2</th>\n",
       "      <th></th>\n",
       "      <th></th>\n",
       "      <th></th>\n",
       "      <th></th>\n",
       "      <th></th>\n",
       "    </tr>\n",
       "  </thead>\n",
       "  <tbody>\n",
       "    <tr>\n",
       "      <th>Scenario1</th>\n",
       "      <td>0.017731</td>\n",
       "      <td>7.389184</td>\n",
       "      <td>2.440897</td>\n",
       "      <td>0.549655</td>\n",
       "      <td>100.122479</td>\n",
       "    </tr>\n",
       "    <tr>\n",
       "      <th>Scenario10</th>\n",
       "      <td>0.241952</td>\n",
       "      <td>7.389184</td>\n",
       "      <td>19.760165</td>\n",
       "      <td>0.000000</td>\n",
       "      <td>100.122479</td>\n",
       "    </tr>\n",
       "  </tbody>\n",
       "</table>\n",
       "</div>"
      ],
      "text/plain": [
       "             ELEC_DEMAND                                                  \n",
       "Dim6       ENDO_ELBOILER   ENDO_EV ENDO_HEATPUMP ENDO_INTRASTO   EXOGENOUS\n",
       "Dim2                                                                      \n",
       "Scenario1       0.017731  7.389184      2.440897      0.549655  100.122479\n",
       "Scenario10      0.241952  7.389184     19.760165      0.000000  100.122479"
      ]
     },
     "execution_count": 63,
     "metadata": {},
     "output_type": "execute_result"
    }
   ],
   "source": [
    "# group data frame\n",
    "df3 = df3.groupby(['Dim6','Dim2'])['Val'].sum().unstack().T\n",
    "df3 = df3.fillna(0)\n",
    "df3.columns = pd.MultiIndex.from_product([[lf[3]], df3.columns])\n",
    "df3.head(2)"
   ]
  },
  {
   "cell_type": "markdown",
   "metadata": {},
   "source": [
    "## ELEC_PRICE"
   ]
  },
  {
   "cell_type": "code",
   "execution_count": 64,
   "metadata": {},
   "outputs": [
    {
     "data": {
      "text/plain": [
       "'ELEC_PRICE'"
      ]
     },
     "execution_count": 64,
     "metadata": {},
     "output_type": "execute_result"
    }
   ],
   "source": [
    "lf[4]"
   ]
  },
  {
   "cell_type": "code",
   "execution_count": 68,
   "metadata": {},
   "outputs": [
    {
     "data": {
      "text/html": [
       "<div>\n",
       "<style scoped>\n",
       "    .dataframe tbody tr th:only-of-type {\n",
       "        vertical-align: middle;\n",
       "    }\n",
       "\n",
       "    .dataframe tbody tr th {\n",
       "        vertical-align: top;\n",
       "    }\n",
       "\n",
       "    .dataframe thead th {\n",
       "        text-align: right;\n",
       "    }\n",
       "</style>\n",
       "<table border=\"1\" class=\"dataframe\">\n",
       "  <thead>\n",
       "    <tr style=\"text-align: right;\">\n",
       "      <th></th>\n",
       "      <th>Dim1</th>\n",
       "      <th>Dim2</th>\n",
       "      <th>Dim3</th>\n",
       "      <th>Dim4</th>\n",
       "      <th>Dim5</th>\n",
       "      <th>Dim6</th>\n",
       "      <th>Dim7</th>\n",
       "      <th>Val</th>\n",
       "    </tr>\n",
       "  </thead>\n",
       "  <tbody>\n",
       "    <tr>\n",
       "      <th>5</th>\n",
       "      <td>ScenarioResults_181_270</td>\n",
       "      <td>Scenario181</td>\n",
       "      <td>2025</td>\n",
       "      <td>DENMARK</td>\n",
       "      <td>DK1</td>\n",
       "      <td>AVERAGE</td>\n",
       "      <td>Money_per_MWh</td>\n",
       "      <td>54.854580</td>\n",
       "    </tr>\n",
       "    <tr>\n",
       "      <th>6</th>\n",
       "      <td>ScenarioResults_181_270</td>\n",
       "      <td>Scenario181</td>\n",
       "      <td>2025</td>\n",
       "      <td>DENMARK</td>\n",
       "      <td>DK2</td>\n",
       "      <td>AVERAGE</td>\n",
       "      <td>Money_per_MWh</td>\n",
       "      <td>54.078051</td>\n",
       "    </tr>\n",
       "  </tbody>\n",
       "</table>\n",
       "</div>"
      ],
      "text/plain": [
       "                      Dim1         Dim2  Dim3     Dim4 Dim5     Dim6  \\\n",
       "5  ScenarioResults_181_270  Scenario181  2025  DENMARK  DK1  AVERAGE   \n",
       "6  ScenarioResults_181_270  Scenario181  2025  DENMARK  DK2  AVERAGE   \n",
       "\n",
       "            Dim7        Val  \n",
       "5  Money_per_MWh  54.854580  \n",
       "6  Money_per_MWh  54.078051  "
      ]
     },
     "execution_count": 68,
     "metadata": {},
     "output_type": "execute_result"
    }
   ],
   "source": [
    "# ELEC_DEMAND\n",
    "df4 = readData(lf[4])\n",
    "df4 = epsToZeros(df4)\n",
    "df4 = filterYearAndCountry(df4,yyy,ccc)\n",
    "df4 = makeValFloat(df4)\n",
    "df4.head(2)"
   ]
  },
  {
   "cell_type": "code",
   "execution_count": 69,
   "metadata": {},
   "outputs": [
    {
     "data": {
      "text/html": [
       "<div>\n",
       "<style scoped>\n",
       "    .dataframe tbody tr th:only-of-type {\n",
       "        vertical-align: middle;\n",
       "    }\n",
       "\n",
       "    .dataframe tbody tr th {\n",
       "        vertical-align: top;\n",
       "    }\n",
       "\n",
       "    .dataframe thead tr th {\n",
       "        text-align: left;\n",
       "    }\n",
       "\n",
       "    .dataframe thead tr:last-of-type th {\n",
       "        text-align: right;\n",
       "    }\n",
       "</style>\n",
       "<table border=\"1\" class=\"dataframe\">\n",
       "  <thead>\n",
       "    <tr>\n",
       "      <th></th>\n",
       "      <th>ELEC_PRICE</th>\n",
       "    </tr>\n",
       "    <tr>\n",
       "      <th>Dim7</th>\n",
       "      <th>Money_per_MWh</th>\n",
       "    </tr>\n",
       "    <tr>\n",
       "      <th>Dim2</th>\n",
       "      <th></th>\n",
       "    </tr>\n",
       "  </thead>\n",
       "  <tbody>\n",
       "    <tr>\n",
       "      <th>Scenario1</th>\n",
       "      <td>54.064789</td>\n",
       "    </tr>\n",
       "    <tr>\n",
       "      <th>Scenario10</th>\n",
       "      <td>58.679853</td>\n",
       "    </tr>\n",
       "  </tbody>\n",
       "</table>\n",
       "</div>"
      ],
      "text/plain": [
       "              ELEC_PRICE\n",
       "Dim7       Money_per_MWh\n",
       "Dim2                    \n",
       "Scenario1      54.064789\n",
       "Scenario10     58.679853"
      ]
     },
     "execution_count": 69,
     "metadata": {},
     "output_type": "execute_result"
    }
   ],
   "source": [
    "# group data frame\n",
    "df4 = df4.groupby(['Dim7','Dim2'])['Val'].mean().unstack().T\n",
    "df4 = df4.fillna(0)\n",
    "df4.columns = pd.MultiIndex.from_product([[lf[4]], df4.columns])\n",
    "df4.head(2)"
   ]
  },
  {
   "cell_type": "markdown",
   "metadata": {},
   "source": [
    "## ELEC_PRICE_HOURLY"
   ]
  },
  {
   "cell_type": "code",
   "execution_count": 70,
   "metadata": {},
   "outputs": [
    {
     "data": {
      "text/plain": [
       "'ELEC_PRICE_HOURLY'"
      ]
     },
     "execution_count": 70,
     "metadata": {},
     "output_type": "execute_result"
    }
   ],
   "source": [
    "lf[5]"
   ]
  },
  {
   "cell_type": "code",
   "execution_count": 76,
   "metadata": {},
   "outputs": [
    {
     "data": {
      "text/html": [
       "<div>\n",
       "<style scoped>\n",
       "    .dataframe tbody tr th:only-of-type {\n",
       "        vertical-align: middle;\n",
       "    }\n",
       "\n",
       "    .dataframe tbody tr th {\n",
       "        vertical-align: top;\n",
       "    }\n",
       "\n",
       "    .dataframe thead th {\n",
       "        text-align: right;\n",
       "    }\n",
       "</style>\n",
       "<table border=\"1\" class=\"dataframe\">\n",
       "  <thead>\n",
       "    <tr style=\"text-align: right;\">\n",
       "      <th></th>\n",
       "      <th>Dim1</th>\n",
       "      <th>Dim2</th>\n",
       "      <th>Dim3</th>\n",
       "      <th>Dim4</th>\n",
       "      <th>Dim5</th>\n",
       "      <th>Dim6</th>\n",
       "      <th>Dim7</th>\n",
       "      <th>Dim8</th>\n",
       "      <th>Val</th>\n",
       "    </tr>\n",
       "  </thead>\n",
       "  <tbody>\n",
       "    <tr>\n",
       "      <th>625</th>\n",
       "      <td>ScenarioResults_181_270</td>\n",
       "      <td>Scenario181</td>\n",
       "      <td>2025</td>\n",
       "      <td>DENMARK</td>\n",
       "      <td>DK1</td>\n",
       "      <td>S01</td>\n",
       "      <td>T073</td>\n",
       "      <td>Money_per_MWh</td>\n",
       "      <td>36.322361</td>\n",
       "    </tr>\n",
       "    <tr>\n",
       "      <th>626</th>\n",
       "      <td>ScenarioResults_181_270</td>\n",
       "      <td>Scenario181</td>\n",
       "      <td>2025</td>\n",
       "      <td>DENMARK</td>\n",
       "      <td>DK1</td>\n",
       "      <td>S01</td>\n",
       "      <td>T076</td>\n",
       "      <td>Money_per_MWh</td>\n",
       "      <td>29.869310</td>\n",
       "    </tr>\n",
       "  </tbody>\n",
       "</table>\n",
       "</div>"
      ],
      "text/plain": [
       "                        Dim1         Dim2  Dim3     Dim4 Dim5 Dim6  Dim7  \\\n",
       "625  ScenarioResults_181_270  Scenario181  2025  DENMARK  DK1  S01  T073   \n",
       "626  ScenarioResults_181_270  Scenario181  2025  DENMARK  DK1  S01  T076   \n",
       "\n",
       "              Dim8        Val  \n",
       "625  Money_per_MWh  36.322361  \n",
       "626  Money_per_MWh  29.869310  "
      ]
     },
     "execution_count": 76,
     "metadata": {},
     "output_type": "execute_result"
    }
   ],
   "source": [
    "# ELEC_DEMAND\n",
    "df5 = readData(lf[5])\n",
    "df5 = epsToZeros(df5)\n",
    "df5 = filterYearAndCountry(df5,yyy,ccc)\n",
    "df5 = makeValFloat(df5)\n",
    "df5.head(2)"
   ]
  },
  {
   "cell_type": "code",
   "execution_count": 77,
   "metadata": {},
   "outputs": [
    {
     "data": {
      "text/html": [
       "<div>\n",
       "<style scoped>\n",
       "    .dataframe tbody tr th:only-of-type {\n",
       "        vertical-align: middle;\n",
       "    }\n",
       "\n",
       "    .dataframe tbody tr th {\n",
       "        vertical-align: top;\n",
       "    }\n",
       "\n",
       "    .dataframe thead tr th {\n",
       "        text-align: left;\n",
       "    }\n",
       "\n",
       "    .dataframe thead tr:last-of-type th {\n",
       "        text-align: right;\n",
       "    }\n",
       "</style>\n",
       "<table border=\"1\" class=\"dataframe\">\n",
       "  <thead>\n",
       "    <tr>\n",
       "      <th></th>\n",
       "      <th colspan=\"5\" halign=\"left\">ELEC_PRICE_HOURLY</th>\n",
       "    </tr>\n",
       "    <tr>\n",
       "      <th>Dim6</th>\n",
       "      <th>S01</th>\n",
       "      <th>S11</th>\n",
       "      <th>S22</th>\n",
       "      <th>S32</th>\n",
       "      <th>S43</th>\n",
       "    </tr>\n",
       "    <tr>\n",
       "      <th>Dim2</th>\n",
       "      <th></th>\n",
       "      <th></th>\n",
       "      <th></th>\n",
       "      <th></th>\n",
       "      <th></th>\n",
       "    </tr>\n",
       "  </thead>\n",
       "  <tbody>\n",
       "    <tr>\n",
       "      <th>Scenario1</th>\n",
       "      <td>31.226674</td>\n",
       "      <td>74.843637</td>\n",
       "      <td>46.551809</td>\n",
       "      <td>46.288509</td>\n",
       "      <td>71.413314</td>\n",
       "    </tr>\n",
       "    <tr>\n",
       "      <th>Scenario10</th>\n",
       "      <td>34.390692</td>\n",
       "      <td>78.171579</td>\n",
       "      <td>51.718559</td>\n",
       "      <td>54.248490</td>\n",
       "      <td>74.869942</td>\n",
       "    </tr>\n",
       "  </tbody>\n",
       "</table>\n",
       "</div>"
      ],
      "text/plain": [
       "           ELEC_PRICE_HOURLY                                            \n",
       "Dim6                     S01        S11        S22        S32        S43\n",
       "Dim2                                                                    \n",
       "Scenario1          31.226674  74.843637  46.551809  46.288509  71.413314\n",
       "Scenario10         34.390692  78.171579  51.718559  54.248490  74.869942"
      ]
     },
     "execution_count": 77,
     "metadata": {},
     "output_type": "execute_result"
    }
   ],
   "source": [
    "# group data frame\n",
    "df5 = df5.groupby(['Dim6','Dim2'])['Val'].mean().unstack().T\n",
    "df5 = df5.fillna(0)\n",
    "df5.columns = pd.MultiIndex.from_product([[lf[5]], df5.columns])\n",
    "df5.head(2)"
   ]
  }
 ],
 "metadata": {
  "kernelspec": {
   "display_name": "Python 3",
   "language": "python",
   "name": "python3"
  },
  "language_info": {
   "codemirror_mode": {
    "name": "ipython",
    "version": 3
   },
   "file_extension": ".py",
   "mimetype": "text/x-python",
   "name": "python",
   "nbconvert_exporter": "python",
   "pygments_lexer": "ipython3",
   "version": "3.7.6"
  }
 },
 "nbformat": 4,
 "nbformat_minor": 4
}
