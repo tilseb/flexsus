{
 "cells": [
  {
   "cell_type": "markdown",
   "metadata": {},
   "source": [
    "# Data processing for FlexSUS"
   ]
  },
  {
   "cell_type": "markdown",
   "metadata": {},
   "source": [
    "institution: DTU\n",
    "\n",
    "author: [tilseb](mailto:tilseb@dtu.dk)\n",
    "\n",
    "date created: 2020-01-30\n",
    "\n",
    "licensed under: [GNU GENERAL PUBLIC LICENSE Version 3, 29 June 2007](https://www.gnu.org/licenses/gpl-3.0.html)"
   ]
  },
  {
   "cell_type": "markdown",
   "metadata": {},
   "source": [
    "## Installation"
   ]
  },
  {
   "cell_type": "markdown",
   "metadata": {},
   "source": [
    "1. Installation via miniconda. Get miniconda with Python 3.7 [here](https://docs.conda.io/en/latest/miniconda.html).\n",
    "2. Open the anaconda promt: press `start button` , type `anaconda promt` and hit enter.\n",
    "3. Navigate to the folder containing this script: `cd <path_to_folder>`\n",
    "3. Use the requirements.yml file in the root directory to set up the environment: `conda env create -f requirements.yml`\n",
    "5. Activate the flexus environment: `conda activate flexsus`\n",
    "5. Open the notebook: `jupyter notebook`"
   ]
  },
  {
   "cell_type": "markdown",
   "metadata": {},
   "source": [
    "## Description"
   ]
  },
  {
   "cell_type": "markdown",
   "metadata": {},
   "source": [
    "## Content"
   ]
  },
  {
   "cell_type": "markdown",
   "metadata": {},
   "source": [
    "## Script set-up"
   ]
  },
  {
   "cell_type": "code",
   "execution_count": 1,
   "metadata": {},
   "outputs": [],
   "source": [
    "# import packages\n",
    "import os\n",
    "import pandas as pd"
   ]
  },
  {
   "cell_type": "code",
   "execution_count": 2,
   "metadata": {},
   "outputs": [],
   "source": [
    "# make directories\n",
    "dirs = {'output'}\n",
    "for i in dirs:\n",
    "    if not os.path.isdir(i):\n",
    "        os.mkdir(i)"
   ]
  },
  {
   "cell_type": "markdown",
   "metadata": {},
   "source": [
    "## Define output resolution"
   ]
  },
  {
   "cell_type": "code",
   "execution_count": 138,
   "metadata": {},
   "outputs": [],
   "source": [
    "# set of considered countries (if empty, select all)\n",
    "ccc = {'DENMARK'}\n",
    "rrr = {'DK1', 'DK2'}"
   ]
  },
  {
   "cell_type": "code",
   "execution_count": 4,
   "metadata": {},
   "outputs": [],
   "source": [
    "# set of years (if empty, select all)\n",
    "yyy = {}  # 2025, 2035, 2045"
   ]
  },
  {
   "cell_type": "markdown",
   "metadata": {},
   "source": [
    "## Load data"
   ]
  },
  {
   "cell_type": "code",
   "execution_count": 19,
   "metadata": {},
   "outputs": [],
   "source": [
    "# get list of data files\n",
    "lf = [i.split('.')[0] for i in os.listdir('data')]\n",
    "#lf = os.listdir('data')"
   ]
  },
  {
   "cell_type": "raw",
   "metadata": {},
   "source": [
    "import csv\n",
    "with open('variable_spec.csv', 'w', newline='') as vs:\n",
    "    w = csv.writer(vs, delimiter=',')\n",
    "    w.writerow(lf)"
   ]
  },
  {
   "cell_type": "markdown",
   "metadata": {},
   "source": [
    "## Load and process data "
   ]
  },
  {
   "cell_type": "code",
   "execution_count": 20,
   "metadata": {},
   "outputs": [],
   "source": [
    "def readData(f):\n",
    "    return pd.read_csv('data/' + f + '.csv', encoding='utf8', engine='c', low_memory=False)"
   ]
  },
  {
   "cell_type": "code",
   "execution_count": 41,
   "metadata": {},
   "outputs": [],
   "source": [
    "def epsToZeros(df):\n",
    "    df = df.replace('Eps', 0)\n",
    "    return df"
   ]
  },
  {
   "cell_type": "code",
   "execution_count": 10,
   "metadata": {},
   "outputs": [],
   "source": [
    "def filterYearAndCountry(df,y,c):\n",
    "    if y: df = df.loc[~df.Dim3.isin(set(df.Dim3).difference(y)), :]\n",
    "    if c: df = df.loc[~df.Dim4.isin(set(df.Dim4).difference(c)), :]\n",
    "    return df"
   ]
  },
  {
   "cell_type": "code",
   "execution_count": 11,
   "metadata": {},
   "outputs": [],
   "source": [
    "def makeValFloat(df):\n",
    "    df.Val = df.Val.astype(float)\n",
    "    return df"
   ]
  },
  {
   "cell_type": "code",
   "execution_count": 38,
   "metadata": {},
   "outputs": [
    {
     "data": {
      "text/plain": [
       "['ECONOMY_ELEC_TRANSMISSION',\n",
       " 'ECONOMY_GENERATION',\n",
       " 'ECONOMY_HEAT_TRANSMISSION',\n",
       " 'ELEC_DEMAND',\n",
       " 'ELEC_PRICE',\n",
       " 'ELEC_PRICE_HOURLY',\n",
       " 'ELEC_TRANSMISSION_CAPACITY',\n",
       " 'ELEC_TRANSMISSION_FLOW',\n",
       " 'EMISSIONS_CO2',\n",
       " 'ENERGY_PRODUCTION',\n",
       " 'FUEL_CONSUMPTION',\n",
       " 'GENERATION_CAPACITY',\n",
       " 'HEAT_DEMAND',\n",
       " 'HEAT_PRICE',\n",
       " 'HEAT_PRICE_HOURLY',\n",
       " 'HEAT_TRANSMISSION_CAPACITY',\n",
       " 'HEAT_TRANSMISSION_FLOW',\n",
       " 'STORAGE_CAPACITY',\n",
       " 'SYSTEM_COSTS']"
      ]
     },
     "execution_count": 38,
     "metadata": {},
     "output_type": "execute_result"
    }
   ],
   "source": [
    "lf"
   ]
  },
  {
   "cell_type": "markdown",
   "metadata": {},
   "source": [
    "### ECONOMY_ELEC_TRANSMISSION"
   ]
  },
  {
   "cell_type": "code",
   "execution_count": 48,
   "metadata": {},
   "outputs": [
    {
     "data": {
      "text/plain": [
       "'ECONOMY_ELEC_TRANSMISSION'"
      ]
     },
     "execution_count": 48,
     "metadata": {},
     "output_type": "execute_result"
    }
   ],
   "source": [
    "lf[0]"
   ]
  },
  {
   "cell_type": "code",
   "execution_count": 45,
   "metadata": {},
   "outputs": [
    {
     "data": {
      "text/html": [
       "<div>\n",
       "<style scoped>\n",
       "    .dataframe tbody tr th:only-of-type {\n",
       "        vertical-align: middle;\n",
       "    }\n",
       "\n",
       "    .dataframe tbody tr th {\n",
       "        vertical-align: top;\n",
       "    }\n",
       "\n",
       "    .dataframe thead th {\n",
       "        text-align: right;\n",
       "    }\n",
       "</style>\n",
       "<table border=\"1\" class=\"dataframe\">\n",
       "  <thead>\n",
       "    <tr style=\"text-align: right;\">\n",
       "      <th></th>\n",
       "      <th>Dim1</th>\n",
       "      <th>Dim2</th>\n",
       "      <th>Dim3</th>\n",
       "      <th>Dim4</th>\n",
       "      <th>Dim5</th>\n",
       "      <th>Dim6</th>\n",
       "      <th>Dim7</th>\n",
       "      <th>Dim8</th>\n",
       "      <th>Val</th>\n",
       "    </tr>\n",
       "  </thead>\n",
       "  <tbody>\n",
       "    <tr>\n",
       "      <th>14</th>\n",
       "      <td>ScenarioResults_181_270</td>\n",
       "      <td>Scenario181</td>\n",
       "      <td>2025</td>\n",
       "      <td>DENMARK</td>\n",
       "      <td>DK1</td>\n",
       "      <td>COSTS</td>\n",
       "      <td>TRANSMISSION_OPERATIONAL_COSTS</td>\n",
       "      <td>Mmoney</td>\n",
       "      <td>0.001645</td>\n",
       "    </tr>\n",
       "    <tr>\n",
       "      <th>15</th>\n",
       "      <td>ScenarioResults_181_270</td>\n",
       "      <td>Scenario181</td>\n",
       "      <td>2025</td>\n",
       "      <td>DENMARK</td>\n",
       "      <td>DK1</td>\n",
       "      <td>COSTS</td>\n",
       "      <td>TRANSMISSION_TRADE_COSTS</td>\n",
       "      <td>Mmoney</td>\n",
       "      <td>34.881906</td>\n",
       "    </tr>\n",
       "  </tbody>\n",
       "</table>\n",
       "</div>"
      ],
      "text/plain": [
       "                       Dim1         Dim2  Dim3     Dim4 Dim5   Dim6  \\\n",
       "14  ScenarioResults_181_270  Scenario181  2025  DENMARK  DK1  COSTS   \n",
       "15  ScenarioResults_181_270  Scenario181  2025  DENMARK  DK1  COSTS   \n",
       "\n",
       "                              Dim7    Dim8        Val  \n",
       "14  TRANSMISSION_OPERATIONAL_COSTS  Mmoney   0.001645  \n",
       "15        TRANSMISSION_TRADE_COSTS  Mmoney  34.881906  "
      ]
     },
     "execution_count": 45,
     "metadata": {},
     "output_type": "execute_result"
    }
   ],
   "source": [
    "# ECONOMY_ELEC_TRANSMISSION\n",
    "df0 = readData(lf[0])\n",
    "df0 = epsToZeros(df0)\n",
    "df0 = filterYearAndCountry(df0,yyy,ccc)\n",
    "df0 = makeValFloat(df0)\n",
    "df0.head(2)"
   ]
  },
  {
   "cell_type": "code",
   "execution_count": 46,
   "metadata": {},
   "outputs": [
    {
     "data": {
      "text/html": [
       "<div>\n",
       "<style scoped>\n",
       "    .dataframe tbody tr th:only-of-type {\n",
       "        vertical-align: middle;\n",
       "    }\n",
       "\n",
       "    .dataframe tbody tr th {\n",
       "        vertical-align: top;\n",
       "    }\n",
       "\n",
       "    .dataframe thead tr th {\n",
       "        text-align: left;\n",
       "    }\n",
       "\n",
       "    .dataframe thead tr:last-of-type th {\n",
       "        text-align: right;\n",
       "    }\n",
       "</style>\n",
       "<table border=\"1\" class=\"dataframe\">\n",
       "  <thead>\n",
       "    <tr>\n",
       "      <th></th>\n",
       "      <th colspan=\"4\" halign=\"left\">ECONOMY_ELEC_TRANSMISSION</th>\n",
       "    </tr>\n",
       "    <tr>\n",
       "      <th>Dim7</th>\n",
       "      <th>TRANSMISSION_CAPITAL_COSTS</th>\n",
       "      <th>TRANSMISSION_OPERATIONAL_COSTS</th>\n",
       "      <th>TRANSMISSION_TRADE_COSTS</th>\n",
       "      <th>TRANSMISSION_TRADE_INCOME</th>\n",
       "    </tr>\n",
       "    <tr>\n",
       "      <th>Dim2</th>\n",
       "      <th></th>\n",
       "      <th></th>\n",
       "      <th></th>\n",
       "      <th></th>\n",
       "    </tr>\n",
       "  </thead>\n",
       "  <tbody>\n",
       "    <tr>\n",
       "      <th>Scenario1</th>\n",
       "      <td>417.131961</td>\n",
       "      <td>0.020614</td>\n",
       "      <td>223.822992</td>\n",
       "      <td>10198.187747</td>\n",
       "    </tr>\n",
       "    <tr>\n",
       "      <th>Scenario10</th>\n",
       "      <td>295.729468</td>\n",
       "      <td>0.009370</td>\n",
       "      <td>392.203384</td>\n",
       "      <td>5148.391004</td>\n",
       "    </tr>\n",
       "  </tbody>\n",
       "</table>\n",
       "</div>"
      ],
      "text/plain": [
       "            ECONOMY_ELEC_TRANSMISSION                                 \\\n",
       "Dim7       TRANSMISSION_CAPITAL_COSTS TRANSMISSION_OPERATIONAL_COSTS   \n",
       "Dim2                                                                   \n",
       "Scenario1                  417.131961                       0.020614   \n",
       "Scenario10                 295.729468                       0.009370   \n",
       "\n",
       "                                                               \n",
       "Dim7       TRANSMISSION_TRADE_COSTS TRANSMISSION_TRADE_INCOME  \n",
       "Dim2                                                           \n",
       "Scenario1                223.822992              10198.187747  \n",
       "Scenario10               392.203384               5148.391004  "
      ]
     },
     "execution_count": 46,
     "metadata": {},
     "output_type": "execute_result"
    }
   ],
   "source": [
    "# group data frame\n",
    "df0 = df0.groupby(['Dim7','Dim2'])['Val'].sum().unstack().T\n",
    "df0 = df0.fillna(0)\n",
    "df0.columns = pd.MultiIndex.from_product([[lf[0]], df0.columns])\n",
    "df0.head(2)"
   ]
  },
  {
   "cell_type": "markdown",
   "metadata": {},
   "source": [
    "### ECONOMY_GENERATION"
   ]
  },
  {
   "cell_type": "code",
   "execution_count": 49,
   "metadata": {},
   "outputs": [
    {
     "data": {
      "text/plain": [
       "'ECONOMY_GENERATION'"
      ]
     },
     "execution_count": 49,
     "metadata": {},
     "output_type": "execute_result"
    }
   ],
   "source": [
    "lf[1]"
   ]
  },
  {
   "cell_type": "code",
   "execution_count": 47,
   "metadata": {},
   "outputs": [
    {
     "data": {
      "text/html": [
       "<div>\n",
       "<style scoped>\n",
       "    .dataframe tbody tr th:only-of-type {\n",
       "        vertical-align: middle;\n",
       "    }\n",
       "\n",
       "    .dataframe tbody tr th {\n",
       "        vertical-align: top;\n",
       "    }\n",
       "\n",
       "    .dataframe thead th {\n",
       "        text-align: right;\n",
       "    }\n",
       "</style>\n",
       "<table border=\"1\" class=\"dataframe\">\n",
       "  <thead>\n",
       "    <tr style=\"text-align: right;\">\n",
       "      <th></th>\n",
       "      <th>Dim1</th>\n",
       "      <th>Dim2</th>\n",
       "      <th>Dim3</th>\n",
       "      <th>Dim4</th>\n",
       "      <th>Dim5</th>\n",
       "      <th>Dim6</th>\n",
       "      <th>Dim7</th>\n",
       "      <th>Dim8</th>\n",
       "      <th>Dim9</th>\n",
       "      <th>Dim10</th>\n",
       "      <th>Dim11</th>\n",
       "      <th>Dim12</th>\n",
       "      <th>Val</th>\n",
       "    </tr>\n",
       "  </thead>\n",
       "  <tbody>\n",
       "    <tr>\n",
       "      <th>1412</th>\n",
       "      <td>ScenarioResults_181_270</td>\n",
       "      <td>Scenario181</td>\n",
       "      <td>2025</td>\n",
       "      <td>DENMARK</td>\n",
       "      <td>DK1</td>\n",
       "      <td>DK1_Large</td>\n",
       "      <td>GNR_BO_BIOIL_E-85</td>\n",
       "      <td>BIOOIL</td>\n",
       "      <td>BOILERS</td>\n",
       "      <td>COSTS</td>\n",
       "      <td>GENERATION_FIXED_COSTS</td>\n",
       "      <td>Mmoney</td>\n",
       "      <td>0.220143</td>\n",
       "    </tr>\n",
       "    <tr>\n",
       "      <th>1413</th>\n",
       "      <td>ScenarioResults_181_270</td>\n",
       "      <td>Scenario181</td>\n",
       "      <td>2025</td>\n",
       "      <td>DENMARK</td>\n",
       "      <td>DK1</td>\n",
       "      <td>DK1_Large</td>\n",
       "      <td>GNR_BO_BIOIL_E-85</td>\n",
       "      <td>BIOOIL</td>\n",
       "      <td>BOILERS</td>\n",
       "      <td>COSTS</td>\n",
       "      <td>GENERATION_OPERATIONAL_COSTS</td>\n",
       "      <td>Mmoney</td>\n",
       "      <td>0.403046</td>\n",
       "    </tr>\n",
       "  </tbody>\n",
       "</table>\n",
       "</div>"
      ],
      "text/plain": [
       "                         Dim1         Dim2  Dim3     Dim4 Dim5       Dim6  \\\n",
       "1412  ScenarioResults_181_270  Scenario181  2025  DENMARK  DK1  DK1_Large   \n",
       "1413  ScenarioResults_181_270  Scenario181  2025  DENMARK  DK1  DK1_Large   \n",
       "\n",
       "                   Dim7    Dim8     Dim9  Dim10                         Dim11  \\\n",
       "1412  GNR_BO_BIOIL_E-85  BIOOIL  BOILERS  COSTS        GENERATION_FIXED_COSTS   \n",
       "1413  GNR_BO_BIOIL_E-85  BIOOIL  BOILERS  COSTS  GENERATION_OPERATIONAL_COSTS   \n",
       "\n",
       "       Dim12       Val  \n",
       "1412  Mmoney  0.220143  \n",
       "1413  Mmoney  0.403046  "
      ]
     },
     "execution_count": 47,
     "metadata": {},
     "output_type": "execute_result"
    }
   ],
   "source": [
    "# ECONOMY_GENERATION\n",
    "df1 = readData(lf[1])\n",
    "df1 = epsToZeros(df1)\n",
    "df1 = filterYearAndCountry(df1,yyy,ccc)\n",
    "df1 = makeValFloat(df1)\n",
    "df1.head(2)"
   ]
  },
  {
   "cell_type": "code",
   "execution_count": 50,
   "metadata": {},
   "outputs": [
    {
     "data": {
      "text/html": [
       "<div>\n",
       "<style scoped>\n",
       "    .dataframe tbody tr th:only-of-type {\n",
       "        vertical-align: middle;\n",
       "    }\n",
       "\n",
       "    .dataframe tbody tr th {\n",
       "        vertical-align: top;\n",
       "    }\n",
       "\n",
       "    .dataframe thead tr th {\n",
       "        text-align: left;\n",
       "    }\n",
       "\n",
       "    .dataframe thead tr:last-of-type th {\n",
       "        text-align: right;\n",
       "    }\n",
       "</style>\n",
       "<table border=\"1\" class=\"dataframe\">\n",
       "  <thead>\n",
       "    <tr>\n",
       "      <th></th>\n",
       "      <th colspan=\"13\" halign=\"left\">ECONOMY_GENERATION</th>\n",
       "    </tr>\n",
       "    <tr>\n",
       "      <th>Dim11</th>\n",
       "      <th>ELECTRICITY_SALE</th>\n",
       "      <th>ENERGY_SPECIFIC_REVENUE</th>\n",
       "      <th>GENERATION_CAPITAL_COSTS</th>\n",
       "      <th>GENERATION_CO2_TAX</th>\n",
       "      <th>GENERATION_FIXED_COSTS</th>\n",
       "      <th>GENERATION_FUEL_COSTS</th>\n",
       "      <th>GENERATION_GRID_TARIFFS</th>\n",
       "      <th>GENERATION_OPERATIONAL_COSTS</th>\n",
       "      <th>GENERATION_OTHER_EMI_TAX</th>\n",
       "      <th>GENERATION_TAXES</th>\n",
       "      <th>GENERATION_UC_COSTS</th>\n",
       "      <th>HEAT_SALE</th>\n",
       "      <th>TOTAL_REVENUE</th>\n",
       "    </tr>\n",
       "    <tr>\n",
       "      <th>Dim2</th>\n",
       "      <th></th>\n",
       "      <th></th>\n",
       "      <th></th>\n",
       "      <th></th>\n",
       "      <th></th>\n",
       "      <th></th>\n",
       "      <th></th>\n",
       "      <th></th>\n",
       "      <th></th>\n",
       "      <th></th>\n",
       "      <th></th>\n",
       "      <th></th>\n",
       "      <th></th>\n",
       "    </tr>\n",
       "  </thead>\n",
       "  <tbody>\n",
       "    <tr>\n",
       "      <th>Scenario1</th>\n",
       "      <td>12210.059270</td>\n",
       "      <td>31621.444182</td>\n",
       "      <td>6940.383171</td>\n",
       "      <td>86.642451</td>\n",
       "      <td>2664.404139</td>\n",
       "      <td>2620.16481</td>\n",
       "      <td>56.057248</td>\n",
       "      <td>749.952190</td>\n",
       "      <td>0.020144</td>\n",
       "      <td>87.905015</td>\n",
       "      <td>86.366213</td>\n",
       "      <td>5405.295318</td>\n",
       "      <td>4323.459207</td>\n",
       "    </tr>\n",
       "    <tr>\n",
       "      <th>Scenario10</th>\n",
       "      <td>4098.555644</td>\n",
       "      <td>29221.484573</td>\n",
       "      <td>3209.519551</td>\n",
       "      <td>219.152990</td>\n",
       "      <td>1049.003067</td>\n",
       "      <td>936.82982</td>\n",
       "      <td>245.660960</td>\n",
       "      <td>538.911484</td>\n",
       "      <td>0.012272</td>\n",
       "      <td>1971.637897</td>\n",
       "      <td>103.645321</td>\n",
       "      <td>7820.944328</td>\n",
       "      <td>3645.126609</td>\n",
       "    </tr>\n",
       "  </tbody>\n",
       "</table>\n",
       "</div>"
      ],
      "text/plain": [
       "           ECONOMY_GENERATION                          \\\n",
       "Dim11        ELECTRICITY_SALE ENERGY_SPECIFIC_REVENUE   \n",
       "Dim2                                                    \n",
       "Scenario1        12210.059270            31621.444182   \n",
       "Scenario10        4098.555644            29221.484573   \n",
       "\n",
       "                                                                               \\\n",
       "Dim11      GENERATION_CAPITAL_COSTS GENERATION_CO2_TAX GENERATION_FIXED_COSTS   \n",
       "Dim2                                                                            \n",
       "Scenario1               6940.383171          86.642451            2664.404139   \n",
       "Scenario10              3209.519551         219.152990            1049.003067   \n",
       "\n",
       "                                                          \\\n",
       "Dim11      GENERATION_FUEL_COSTS GENERATION_GRID_TARIFFS   \n",
       "Dim2                                                       \n",
       "Scenario1             2620.16481               56.057248   \n",
       "Scenario10             936.82982              245.660960   \n",
       "\n",
       "                                                                  \\\n",
       "Dim11      GENERATION_OPERATIONAL_COSTS GENERATION_OTHER_EMI_TAX   \n",
       "Dim2                                                               \n",
       "Scenario1                    749.952190                 0.020144   \n",
       "Scenario10                   538.911484                 0.012272   \n",
       "\n",
       "                                                                            \n",
       "Dim11      GENERATION_TAXES GENERATION_UC_COSTS    HEAT_SALE TOTAL_REVENUE  \n",
       "Dim2                                                                        \n",
       "Scenario1         87.905015           86.366213  5405.295318   4323.459207  \n",
       "Scenario10      1971.637897          103.645321  7820.944328   3645.126609  "
      ]
     },
     "execution_count": 50,
     "metadata": {},
     "output_type": "execute_result"
    }
   ],
   "source": [
    "# group data frame\n",
    "df1 = df1.groupby(['Dim11','Dim2'])['Val'].sum().unstack().T\n",
    "df1 = df1.fillna(0)\n",
    "df1.columns = pd.MultiIndex.from_product([[lf[1]], df1.columns])\n",
    "df1.head(2)"
   ]
  },
  {
   "cell_type": "markdown",
   "metadata": {},
   "source": [
    "### ECONOMY_HEAT_TRANSMISSION"
   ]
  },
  {
   "cell_type": "code",
   "execution_count": 51,
   "metadata": {},
   "outputs": [
    {
     "data": {
      "text/plain": [
       "'ECONOMY_HEAT_TRANSMISSION'"
      ]
     },
     "execution_count": 51,
     "metadata": {},
     "output_type": "execute_result"
    }
   ],
   "source": [
    "lf[2]"
   ]
  },
  {
   "cell_type": "code",
   "execution_count": 52,
   "metadata": {},
   "outputs": [
    {
     "data": {
      "text/html": [
       "<div>\n",
       "<style scoped>\n",
       "    .dataframe tbody tr th:only-of-type {\n",
       "        vertical-align: middle;\n",
       "    }\n",
       "\n",
       "    .dataframe tbody tr th {\n",
       "        vertical-align: top;\n",
       "    }\n",
       "\n",
       "    .dataframe thead th {\n",
       "        text-align: right;\n",
       "    }\n",
       "</style>\n",
       "<table border=\"1\" class=\"dataframe\">\n",
       "  <thead>\n",
       "    <tr style=\"text-align: right;\">\n",
       "      <th></th>\n",
       "      <th>Dim1</th>\n",
       "      <th>Dim2</th>\n",
       "      <th>Dim3</th>\n",
       "      <th>Dim4</th>\n",
       "      <th>Dim5</th>\n",
       "      <th>Dim6</th>\n",
       "      <th>Dim7</th>\n",
       "      <th>Dim8</th>\n",
       "      <th>Dim9</th>\n",
       "      <th>Val</th>\n",
       "    </tr>\n",
       "  </thead>\n",
       "  <tbody>\n",
       "    <tr>\n",
       "      <th>33</th>\n",
       "      <td>ScenarioResults_181_270</td>\n",
       "      <td>Scenario181</td>\n",
       "      <td>2025</td>\n",
       "      <td>DENMARK</td>\n",
       "      <td>DK1</td>\n",
       "      <td>DK1_Large</td>\n",
       "      <td>COSTS</td>\n",
       "      <td>TRANSMISSION_TRADE_COSTS</td>\n",
       "      <td>Mmoney</td>\n",
       "      <td>24.516919</td>\n",
       "    </tr>\n",
       "    <tr>\n",
       "      <th>34</th>\n",
       "      <td>ScenarioResults_181_270</td>\n",
       "      <td>Scenario181</td>\n",
       "      <td>2025</td>\n",
       "      <td>DENMARK</td>\n",
       "      <td>DK1</td>\n",
       "      <td>DK1_Large</td>\n",
       "      <td>COSTS</td>\n",
       "      <td>HEAT_TRANSMISSION_OPERATIONAL_COSTS</td>\n",
       "      <td>Mmoney</td>\n",
       "      <td>0.000001</td>\n",
       "    </tr>\n",
       "  </tbody>\n",
       "</table>\n",
       "</div>"
      ],
      "text/plain": [
       "                       Dim1         Dim2  Dim3     Dim4 Dim5       Dim6  \\\n",
       "33  ScenarioResults_181_270  Scenario181  2025  DENMARK  DK1  DK1_Large   \n",
       "34  ScenarioResults_181_270  Scenario181  2025  DENMARK  DK1  DK1_Large   \n",
       "\n",
       "     Dim7                                 Dim8    Dim9        Val  \n",
       "33  COSTS             TRANSMISSION_TRADE_COSTS  Mmoney  24.516919  \n",
       "34  COSTS  HEAT_TRANSMISSION_OPERATIONAL_COSTS  Mmoney   0.000001  "
      ]
     },
     "execution_count": 52,
     "metadata": {},
     "output_type": "execute_result"
    }
   ],
   "source": [
    "# ECONOMY_HEAT_TRANSMISSION\n",
    "df2 = readData(lf[2])\n",
    "df2 = eps2zeros(df2)\n",
    "df2 = filterYearAndCountry(df2,yyy,ccc)\n",
    "df2 = makeValFloat(df2)\n",
    "df2.head(2)"
   ]
  },
  {
   "cell_type": "code",
   "execution_count": 53,
   "metadata": {
    "scrolled": true
   },
   "outputs": [
    {
     "data": {
      "text/html": [
       "<div>\n",
       "<style scoped>\n",
       "    .dataframe tbody tr th:only-of-type {\n",
       "        vertical-align: middle;\n",
       "    }\n",
       "\n",
       "    .dataframe tbody tr th {\n",
       "        vertical-align: top;\n",
       "    }\n",
       "\n",
       "    .dataframe thead tr th {\n",
       "        text-align: left;\n",
       "    }\n",
       "\n",
       "    .dataframe thead tr:last-of-type th {\n",
       "        text-align: right;\n",
       "    }\n",
       "</style>\n",
       "<table border=\"1\" class=\"dataframe\">\n",
       "  <thead>\n",
       "    <tr>\n",
       "      <th></th>\n",
       "      <th colspan=\"4\" halign=\"left\">ECONOMY_HEAT_TRANSMISSION</th>\n",
       "    </tr>\n",
       "    <tr>\n",
       "      <th>Dim8</th>\n",
       "      <th>HEAT_TRANSMISSION_CAPITAL_COSTS</th>\n",
       "      <th>HEAT_TRANSMISSION_OPERATIONAL_COSTS</th>\n",
       "      <th>TRANSMISSION_TRADE_COSTS</th>\n",
       "      <th>TRANSMISSION_TRADE_INCOME</th>\n",
       "    </tr>\n",
       "    <tr>\n",
       "      <th>Dim2</th>\n",
       "      <th></th>\n",
       "      <th></th>\n",
       "      <th></th>\n",
       "      <th></th>\n",
       "    </tr>\n",
       "  </thead>\n",
       "  <tbody>\n",
       "    <tr>\n",
       "      <th>Scenario1</th>\n",
       "      <td>0.0</td>\n",
       "      <td>0.000225</td>\n",
       "      <td>630.736822</td>\n",
       "      <td>630.736822</td>\n",
       "    </tr>\n",
       "    <tr>\n",
       "      <th>Scenario10</th>\n",
       "      <td>0.0</td>\n",
       "      <td>0.000518</td>\n",
       "      <td>461.310127</td>\n",
       "      <td>461.310127</td>\n",
       "    </tr>\n",
       "  </tbody>\n",
       "</table>\n",
       "</div>"
      ],
      "text/plain": [
       "                 ECONOMY_HEAT_TRANSMISSION  \\\n",
       "Dim8       HEAT_TRANSMISSION_CAPITAL_COSTS   \n",
       "Dim2                                         \n",
       "Scenario1                              0.0   \n",
       "Scenario10                             0.0   \n",
       "\n",
       "                                                                         \\\n",
       "Dim8       HEAT_TRANSMISSION_OPERATIONAL_COSTS TRANSMISSION_TRADE_COSTS   \n",
       "Dim2                                                                      \n",
       "Scenario1                             0.000225               630.736822   \n",
       "Scenario10                            0.000518               461.310127   \n",
       "\n",
       "                                      \n",
       "Dim8       TRANSMISSION_TRADE_INCOME  \n",
       "Dim2                                  \n",
       "Scenario1                 630.736822  \n",
       "Scenario10                461.310127  "
      ]
     },
     "execution_count": 53,
     "metadata": {},
     "output_type": "execute_result"
    }
   ],
   "source": [
    "# group data frame\n",
    "df2 = df2.groupby(['Dim8','Dim2'])['Val'].sum().unstack().T\n",
    "df2 = df2.fillna(0)\n",
    "df2.columns = pd.MultiIndex.from_product([[lf[2]], df2.columns])\n",
    "df2.head(2)"
   ]
  },
  {
   "cell_type": "markdown",
   "metadata": {},
   "source": [
    "## ELEC_DEMAND"
   ]
  },
  {
   "cell_type": "code",
   "execution_count": 39,
   "metadata": {},
   "outputs": [
    {
     "data": {
      "text/plain": [
       "'ELEC_DEMAND'"
      ]
     },
     "execution_count": 39,
     "metadata": {},
     "output_type": "execute_result"
    }
   ],
   "source": [
    "lf[3]"
   ]
  },
  {
   "cell_type": "code",
   "execution_count": 62,
   "metadata": {},
   "outputs": [
    {
     "data": {
      "text/html": [
       "<div>\n",
       "<style scoped>\n",
       "    .dataframe tbody tr th:only-of-type {\n",
       "        vertical-align: middle;\n",
       "    }\n",
       "\n",
       "    .dataframe tbody tr th {\n",
       "        vertical-align: top;\n",
       "    }\n",
       "\n",
       "    .dataframe thead th {\n",
       "        text-align: right;\n",
       "    }\n",
       "</style>\n",
       "<table border=\"1\" class=\"dataframe\">\n",
       "  <thead>\n",
       "    <tr style=\"text-align: right;\">\n",
       "      <th></th>\n",
       "      <th>Dim1</th>\n",
       "      <th>Dim2</th>\n",
       "      <th>Dim3</th>\n",
       "      <th>Dim4</th>\n",
       "      <th>Dim5</th>\n",
       "      <th>Dim6</th>\n",
       "      <th>Dim7</th>\n",
       "      <th>Val</th>\n",
       "    </tr>\n",
       "  </thead>\n",
       "  <tbody>\n",
       "    <tr>\n",
       "      <th>15</th>\n",
       "      <td>ScenarioResults_181_270</td>\n",
       "      <td>Scenario181</td>\n",
       "      <td>2025</td>\n",
       "      <td>DENMARK</td>\n",
       "      <td>DK1</td>\n",
       "      <td>EXOGENOUS</td>\n",
       "      <td>TWh</td>\n",
       "      <td>19.791304</td>\n",
       "    </tr>\n",
       "    <tr>\n",
       "      <th>16</th>\n",
       "      <td>ScenarioResults_181_270</td>\n",
       "      <td>Scenario181</td>\n",
       "      <td>2025</td>\n",
       "      <td>DENMARK</td>\n",
       "      <td>DK1</td>\n",
       "      <td>ENDO_EV</td>\n",
       "      <td>TWh</td>\n",
       "      <td>0.589469</td>\n",
       "    </tr>\n",
       "  </tbody>\n",
       "</table>\n",
       "</div>"
      ],
      "text/plain": [
       "                       Dim1         Dim2  Dim3     Dim4 Dim5       Dim6 Dim7  \\\n",
       "15  ScenarioResults_181_270  Scenario181  2025  DENMARK  DK1  EXOGENOUS  TWh   \n",
       "16  ScenarioResults_181_270  Scenario181  2025  DENMARK  DK1    ENDO_EV  TWh   \n",
       "\n",
       "          Val  \n",
       "15  19.791304  \n",
       "16   0.589469  "
      ]
     },
     "execution_count": 62,
     "metadata": {},
     "output_type": "execute_result"
    }
   ],
   "source": [
    "# ELEC_DEMAND\n",
    "df3 = readData(lf[3])\n",
    "df3 = epsToZeros(df3)\n",
    "df3 = filterYearAndCountry(df3,yyy,ccc)\n",
    "df3 = makeValFloat(df3)\n",
    "df3.head(2)"
   ]
  },
  {
   "cell_type": "code",
   "execution_count": 63,
   "metadata": {},
   "outputs": [
    {
     "data": {
      "text/html": [
       "<div>\n",
       "<style scoped>\n",
       "    .dataframe tbody tr th:only-of-type {\n",
       "        vertical-align: middle;\n",
       "    }\n",
       "\n",
       "    .dataframe tbody tr th {\n",
       "        vertical-align: top;\n",
       "    }\n",
       "\n",
       "    .dataframe thead tr th {\n",
       "        text-align: left;\n",
       "    }\n",
       "\n",
       "    .dataframe thead tr:last-of-type th {\n",
       "        text-align: right;\n",
       "    }\n",
       "</style>\n",
       "<table border=\"1\" class=\"dataframe\">\n",
       "  <thead>\n",
       "    <tr>\n",
       "      <th></th>\n",
       "      <th colspan=\"5\" halign=\"left\">ELEC_DEMAND</th>\n",
       "    </tr>\n",
       "    <tr>\n",
       "      <th>Dim6</th>\n",
       "      <th>ENDO_ELBOILER</th>\n",
       "      <th>ENDO_EV</th>\n",
       "      <th>ENDO_HEATPUMP</th>\n",
       "      <th>ENDO_INTRASTO</th>\n",
       "      <th>EXOGENOUS</th>\n",
       "    </tr>\n",
       "    <tr>\n",
       "      <th>Dim2</th>\n",
       "      <th></th>\n",
       "      <th></th>\n",
       "      <th></th>\n",
       "      <th></th>\n",
       "      <th></th>\n",
       "    </tr>\n",
       "  </thead>\n",
       "  <tbody>\n",
       "    <tr>\n",
       "      <th>Scenario1</th>\n",
       "      <td>0.017731</td>\n",
       "      <td>7.389184</td>\n",
       "      <td>2.440897</td>\n",
       "      <td>0.549655</td>\n",
       "      <td>100.122479</td>\n",
       "    </tr>\n",
       "    <tr>\n",
       "      <th>Scenario10</th>\n",
       "      <td>0.241952</td>\n",
       "      <td>7.389184</td>\n",
       "      <td>19.760165</td>\n",
       "      <td>0.000000</td>\n",
       "      <td>100.122479</td>\n",
       "    </tr>\n",
       "  </tbody>\n",
       "</table>\n",
       "</div>"
      ],
      "text/plain": [
       "             ELEC_DEMAND                                                  \n",
       "Dim6       ENDO_ELBOILER   ENDO_EV ENDO_HEATPUMP ENDO_INTRASTO   EXOGENOUS\n",
       "Dim2                                                                      \n",
       "Scenario1       0.017731  7.389184      2.440897      0.549655  100.122479\n",
       "Scenario10      0.241952  7.389184     19.760165      0.000000  100.122479"
      ]
     },
     "execution_count": 63,
     "metadata": {},
     "output_type": "execute_result"
    }
   ],
   "source": [
    "# group data frame\n",
    "df3 = df3.groupby(['Dim6','Dim2'])['Val'].sum().unstack().T\n",
    "df3 = df3.fillna(0)\n",
    "df3.columns = pd.MultiIndex.from_product([[lf[3]], df3.columns])\n",
    "df3.head(2)"
   ]
  },
  {
   "cell_type": "markdown",
   "metadata": {},
   "source": [
    "## ELEC_PRICE"
   ]
  },
  {
   "cell_type": "code",
   "execution_count": 64,
   "metadata": {},
   "outputs": [
    {
     "data": {
      "text/plain": [
       "'ELEC_PRICE'"
      ]
     },
     "execution_count": 64,
     "metadata": {},
     "output_type": "execute_result"
    }
   ],
   "source": [
    "lf[4]"
   ]
  },
  {
   "cell_type": "code",
   "execution_count": 68,
   "metadata": {},
   "outputs": [
    {
     "data": {
      "text/html": [
       "<div>\n",
       "<style scoped>\n",
       "    .dataframe tbody tr th:only-of-type {\n",
       "        vertical-align: middle;\n",
       "    }\n",
       "\n",
       "    .dataframe tbody tr th {\n",
       "        vertical-align: top;\n",
       "    }\n",
       "\n",
       "    .dataframe thead th {\n",
       "        text-align: right;\n",
       "    }\n",
       "</style>\n",
       "<table border=\"1\" class=\"dataframe\">\n",
       "  <thead>\n",
       "    <tr style=\"text-align: right;\">\n",
       "      <th></th>\n",
       "      <th>Dim1</th>\n",
       "      <th>Dim2</th>\n",
       "      <th>Dim3</th>\n",
       "      <th>Dim4</th>\n",
       "      <th>Dim5</th>\n",
       "      <th>Dim6</th>\n",
       "      <th>Dim7</th>\n",
       "      <th>Val</th>\n",
       "    </tr>\n",
       "  </thead>\n",
       "  <tbody>\n",
       "    <tr>\n",
       "      <th>5</th>\n",
       "      <td>ScenarioResults_181_270</td>\n",
       "      <td>Scenario181</td>\n",
       "      <td>2025</td>\n",
       "      <td>DENMARK</td>\n",
       "      <td>DK1</td>\n",
       "      <td>AVERAGE</td>\n",
       "      <td>Money_per_MWh</td>\n",
       "      <td>54.854580</td>\n",
       "    </tr>\n",
       "    <tr>\n",
       "      <th>6</th>\n",
       "      <td>ScenarioResults_181_270</td>\n",
       "      <td>Scenario181</td>\n",
       "      <td>2025</td>\n",
       "      <td>DENMARK</td>\n",
       "      <td>DK2</td>\n",
       "      <td>AVERAGE</td>\n",
       "      <td>Money_per_MWh</td>\n",
       "      <td>54.078051</td>\n",
       "    </tr>\n",
       "  </tbody>\n",
       "</table>\n",
       "</div>"
      ],
      "text/plain": [
       "                      Dim1         Dim2  Dim3     Dim4 Dim5     Dim6  \\\n",
       "5  ScenarioResults_181_270  Scenario181  2025  DENMARK  DK1  AVERAGE   \n",
       "6  ScenarioResults_181_270  Scenario181  2025  DENMARK  DK2  AVERAGE   \n",
       "\n",
       "            Dim7        Val  \n",
       "5  Money_per_MWh  54.854580  \n",
       "6  Money_per_MWh  54.078051  "
      ]
     },
     "execution_count": 68,
     "metadata": {},
     "output_type": "execute_result"
    }
   ],
   "source": [
    "# ELEC_DEMAND\n",
    "df4 = readData(lf[4])\n",
    "df4 = epsToZeros(df4)\n",
    "df4 = filterYearAndCountry(df4,yyy,ccc)\n",
    "df4 = makeValFloat(df4)\n",
    "df4.head(2)"
   ]
  },
  {
   "cell_type": "code",
   "execution_count": 69,
   "metadata": {},
   "outputs": [
    {
     "data": {
      "text/html": [
       "<div>\n",
       "<style scoped>\n",
       "    .dataframe tbody tr th:only-of-type {\n",
       "        vertical-align: middle;\n",
       "    }\n",
       "\n",
       "    .dataframe tbody tr th {\n",
       "        vertical-align: top;\n",
       "    }\n",
       "\n",
       "    .dataframe thead tr th {\n",
       "        text-align: left;\n",
       "    }\n",
       "\n",
       "    .dataframe thead tr:last-of-type th {\n",
       "        text-align: right;\n",
       "    }\n",
       "</style>\n",
       "<table border=\"1\" class=\"dataframe\">\n",
       "  <thead>\n",
       "    <tr>\n",
       "      <th></th>\n",
       "      <th>ELEC_PRICE</th>\n",
       "    </tr>\n",
       "    <tr>\n",
       "      <th>Dim7</th>\n",
       "      <th>Money_per_MWh</th>\n",
       "    </tr>\n",
       "    <tr>\n",
       "      <th>Dim2</th>\n",
       "      <th></th>\n",
       "    </tr>\n",
       "  </thead>\n",
       "  <tbody>\n",
       "    <tr>\n",
       "      <th>Scenario1</th>\n",
       "      <td>54.064789</td>\n",
       "    </tr>\n",
       "    <tr>\n",
       "      <th>Scenario10</th>\n",
       "      <td>58.679853</td>\n",
       "    </tr>\n",
       "  </tbody>\n",
       "</table>\n",
       "</div>"
      ],
      "text/plain": [
       "              ELEC_PRICE\n",
       "Dim7       Money_per_MWh\n",
       "Dim2                    \n",
       "Scenario1      54.064789\n",
       "Scenario10     58.679853"
      ]
     },
     "execution_count": 69,
     "metadata": {},
     "output_type": "execute_result"
    }
   ],
   "source": [
    "# group data frame\n",
    "df4 = df4.groupby(['Dim7','Dim2'])['Val'].mean().unstack().T\n",
    "df4 = df4.fillna(0)\n",
    "df4.columns = pd.MultiIndex.from_product([[lf[4]], df4.columns])\n",
    "df4.head(2)"
   ]
  },
  {
   "cell_type": "markdown",
   "metadata": {},
   "source": [
    "## ELEC_PRICE_HOURLY"
   ]
  },
  {
   "cell_type": "code",
   "execution_count": 70,
   "metadata": {},
   "outputs": [
    {
     "data": {
      "text/plain": [
       "'ELEC_PRICE_HOURLY'"
      ]
     },
     "execution_count": 70,
     "metadata": {},
     "output_type": "execute_result"
    }
   ],
   "source": [
    "lf[5]"
   ]
  },
  {
   "cell_type": "code",
   "execution_count": 228,
   "metadata": {},
   "outputs": [
    {
     "data": {
      "text/html": [
       "<div>\n",
       "<style scoped>\n",
       "    .dataframe tbody tr th:only-of-type {\n",
       "        vertical-align: middle;\n",
       "    }\n",
       "\n",
       "    .dataframe tbody tr th {\n",
       "        vertical-align: top;\n",
       "    }\n",
       "\n",
       "    .dataframe thead th {\n",
       "        text-align: right;\n",
       "    }\n",
       "</style>\n",
       "<table border=\"1\" class=\"dataframe\">\n",
       "  <thead>\n",
       "    <tr style=\"text-align: right;\">\n",
       "      <th></th>\n",
       "      <th>Dim1</th>\n",
       "      <th>Dim2</th>\n",
       "      <th>Dim3</th>\n",
       "      <th>Dim4</th>\n",
       "      <th>Dim5</th>\n",
       "      <th>Dim6</th>\n",
       "      <th>Dim7</th>\n",
       "      <th>Dim8</th>\n",
       "      <th>Val</th>\n",
       "    </tr>\n",
       "  </thead>\n",
       "  <tbody>\n",
       "    <tr>\n",
       "      <th>625</th>\n",
       "      <td>ScenarioResults_181_270</td>\n",
       "      <td>Scenario181</td>\n",
       "      <td>2025</td>\n",
       "      <td>DENMARK</td>\n",
       "      <td>DK1</td>\n",
       "      <td>S01</td>\n",
       "      <td>T073</td>\n",
       "      <td>Money_per_MWh</td>\n",
       "      <td>36.322361</td>\n",
       "    </tr>\n",
       "    <tr>\n",
       "      <th>626</th>\n",
       "      <td>ScenarioResults_181_270</td>\n",
       "      <td>Scenario181</td>\n",
       "      <td>2025</td>\n",
       "      <td>DENMARK</td>\n",
       "      <td>DK1</td>\n",
       "      <td>S01</td>\n",
       "      <td>T076</td>\n",
       "      <td>Money_per_MWh</td>\n",
       "      <td>29.869310</td>\n",
       "    </tr>\n",
       "  </tbody>\n",
       "</table>\n",
       "</div>"
      ],
      "text/plain": [
       "                        Dim1         Dim2  Dim3     Dim4 Dim5 Dim6  Dim7  \\\n",
       "625  ScenarioResults_181_270  Scenario181  2025  DENMARK  DK1  S01  T073   \n",
       "626  ScenarioResults_181_270  Scenario181  2025  DENMARK  DK1  S01  T076   \n",
       "\n",
       "              Dim8        Val  \n",
       "625  Money_per_MWh  36.322361  \n",
       "626  Money_per_MWh  29.869310  "
      ]
     },
     "execution_count": 228,
     "metadata": {},
     "output_type": "execute_result"
    }
   ],
   "source": [
    "# ELEC_DEMAND\n",
    "df5 = readData(lf[5])\n",
    "df5 = epsToZeros(df5)\n",
    "df5 = filterYearAndCountry(df5,yyy,ccc)\n",
    "df5 = makeValFloat(df5)\n",
    "df5.head(2)"
   ]
  },
  {
   "cell_type": "code",
   "execution_count": 229,
   "metadata": {},
   "outputs": [
    {
     "data": {
      "text/html": [
       "<div>\n",
       "<style scoped>\n",
       "    .dataframe tbody tr th:only-of-type {\n",
       "        vertical-align: middle;\n",
       "    }\n",
       "\n",
       "    .dataframe tbody tr th {\n",
       "        vertical-align: top;\n",
       "    }\n",
       "\n",
       "    .dataframe thead tr th {\n",
       "        text-align: left;\n",
       "    }\n",
       "\n",
       "    .dataframe thead tr:last-of-type th {\n",
       "        text-align: right;\n",
       "    }\n",
       "</style>\n",
       "<table border=\"1\" class=\"dataframe\">\n",
       "  <thead>\n",
       "    <tr>\n",
       "      <th></th>\n",
       "      <th colspan=\"5\" halign=\"left\">ELEC_PRICE_HOURLY</th>\n",
       "    </tr>\n",
       "    <tr>\n",
       "      <th>Dim6</th>\n",
       "      <th>S01</th>\n",
       "      <th>S11</th>\n",
       "      <th>S22</th>\n",
       "      <th>S32</th>\n",
       "      <th>S43</th>\n",
       "    </tr>\n",
       "    <tr>\n",
       "      <th>Dim2</th>\n",
       "      <th></th>\n",
       "      <th></th>\n",
       "      <th></th>\n",
       "      <th></th>\n",
       "      <th></th>\n",
       "    </tr>\n",
       "  </thead>\n",
       "  <tbody>\n",
       "    <tr>\n",
       "      <th>Scenario1</th>\n",
       "      <td>31.226674</td>\n",
       "      <td>74.843637</td>\n",
       "      <td>46.551809</td>\n",
       "      <td>46.288509</td>\n",
       "      <td>71.413314</td>\n",
       "    </tr>\n",
       "    <tr>\n",
       "      <th>Scenario10</th>\n",
       "      <td>34.390692</td>\n",
       "      <td>78.171579</td>\n",
       "      <td>51.718559</td>\n",
       "      <td>54.248490</td>\n",
       "      <td>74.869942</td>\n",
       "    </tr>\n",
       "  </tbody>\n",
       "</table>\n",
       "</div>"
      ],
      "text/plain": [
       "           ELEC_PRICE_HOURLY                                            \n",
       "Dim6                     S01        S11        S22        S32        S43\n",
       "Dim2                                                                    \n",
       "Scenario1          31.226674  74.843637  46.551809  46.288509  71.413314\n",
       "Scenario10         34.390692  78.171579  51.718559  54.248490  74.869942"
      ]
     },
     "execution_count": 229,
     "metadata": {},
     "output_type": "execute_result"
    }
   ],
   "source": [
    "# group data frame\n",
    "df5 = df5.groupby(['Dim6','Dim2'])['Val'].mean().unstack().T\n",
    "df5 = df5.fillna(0)\n",
    "df5.columns = pd.MultiIndex.from_product([[lf[5]], df5.columns])\n",
    "df5.head(2)"
   ]
  },
  {
   "cell_type": "markdown",
   "metadata": {},
   "source": [
    "## ELEC_TRANSMISSION_CAPACITY"
   ]
  },
  {
   "cell_type": "code",
   "execution_count": 78,
   "metadata": {},
   "outputs": [
    {
     "data": {
      "text/plain": [
       "'ELEC_TRANSMISSION_CAPACITY'"
      ]
     },
     "execution_count": 78,
     "metadata": {},
     "output_type": "execute_result"
    }
   ],
   "source": [
    "lf[6]"
   ]
  },
  {
   "cell_type": "code",
   "execution_count": 233,
   "metadata": {},
   "outputs": [
    {
     "data": {
      "text/html": [
       "<div>\n",
       "<style scoped>\n",
       "    .dataframe tbody tr th:only-of-type {\n",
       "        vertical-align: middle;\n",
       "    }\n",
       "\n",
       "    .dataframe tbody tr th {\n",
       "        vertical-align: top;\n",
       "    }\n",
       "\n",
       "    .dataframe thead th {\n",
       "        text-align: right;\n",
       "    }\n",
       "</style>\n",
       "<table border=\"1\" class=\"dataframe\">\n",
       "  <thead>\n",
       "    <tr style=\"text-align: right;\">\n",
       "      <th></th>\n",
       "      <th>Dim1</th>\n",
       "      <th>Dim2</th>\n",
       "      <th>Dim3</th>\n",
       "      <th>Dim4</th>\n",
       "      <th>Dim5</th>\n",
       "      <th>Dim6</th>\n",
       "      <th>Dim7</th>\n",
       "      <th>Dim8</th>\n",
       "      <th>Val</th>\n",
       "      <th>direction</th>\n",
       "    </tr>\n",
       "  </thead>\n",
       "  <tbody>\n",
       "    <tr>\n",
       "      <th>21</th>\n",
       "      <td>ScenarioResults_181_270</td>\n",
       "      <td>Scenario181</td>\n",
       "      <td>2025</td>\n",
       "      <td>DENMARK</td>\n",
       "      <td>DK1</td>\n",
       "      <td>NO2</td>\n",
       "      <td>EXOGENOUS</td>\n",
       "      <td>GW</td>\n",
       "      <td>1.632</td>\n",
       "      <td>DK1_NO2</td>\n",
       "    </tr>\n",
       "    <tr>\n",
       "      <th>22</th>\n",
       "      <td>ScenarioResults_181_270</td>\n",
       "      <td>Scenario181</td>\n",
       "      <td>2025</td>\n",
       "      <td>DENMARK</td>\n",
       "      <td>DK1</td>\n",
       "      <td>DK2</td>\n",
       "      <td>EXOGENOUS</td>\n",
       "      <td>GW</td>\n",
       "      <td>0.590</td>\n",
       "      <td>DK1_DK2</td>\n",
       "    </tr>\n",
       "  </tbody>\n",
       "</table>\n",
       "</div>"
      ],
      "text/plain": [
       "                       Dim1         Dim2  Dim3     Dim4 Dim5 Dim6       Dim7  \\\n",
       "21  ScenarioResults_181_270  Scenario181  2025  DENMARK  DK1  NO2  EXOGENOUS   \n",
       "22  ScenarioResults_181_270  Scenario181  2025  DENMARK  DK1  DK2  EXOGENOUS   \n",
       "\n",
       "   Dim8    Val direction  \n",
       "21   GW  1.632   DK1_NO2  \n",
       "22   GW  0.590   DK1_DK2  "
      ]
     },
     "execution_count": 233,
     "metadata": {},
     "output_type": "execute_result"
    }
   ],
   "source": [
    "# ELEC_DEMAND\n",
    "df6 = readData(lf[6])\n",
    "df6 = epsToZeros(df6)\n",
    "df6 = filterYearAndCountry(df6,yyy,ccc)\n",
    "df6 = makeValFloat(df6)\n",
    "df6['direction'] = df6.Dim5 + '_' + df6.Dim6\n",
    "df6 = df6.loc[(df6.direction.str.contains('|'.join(rrr))==True), :]\n",
    "df6.head(2)"
   ]
  },
  {
   "cell_type": "code",
   "execution_count": 234,
   "metadata": {},
   "outputs": [
    {
     "data": {
      "text/html": [
       "<div>\n",
       "<style scoped>\n",
       "    .dataframe tbody tr th:only-of-type {\n",
       "        vertical-align: middle;\n",
       "    }\n",
       "\n",
       "    .dataframe tbody tr th {\n",
       "        vertical-align: top;\n",
       "    }\n",
       "\n",
       "    .dataframe thead tr th {\n",
       "        text-align: left;\n",
       "    }\n",
       "\n",
       "    .dataframe thead tr:last-of-type th {\n",
       "        text-align: right;\n",
       "    }\n",
       "</style>\n",
       "<table border=\"1\" class=\"dataframe\">\n",
       "  <thead>\n",
       "    <tr>\n",
       "      <th></th>\n",
       "      <th colspan=\"9\" halign=\"left\">ELEC_TRANSMISSION_CAPACITY</th>\n",
       "    </tr>\n",
       "    <tr>\n",
       "      <th>direction</th>\n",
       "      <th>DK1_DE4-N</th>\n",
       "      <th>DK1_DK2</th>\n",
       "      <th>DK1_NL</th>\n",
       "      <th>DK1_NO2</th>\n",
       "      <th>DK1_SE3</th>\n",
       "      <th>DK1_UK</th>\n",
       "      <th>DK2_DE4-E</th>\n",
       "      <th>DK2_DK1</th>\n",
       "      <th>DK2_SE4</th>\n",
       "    </tr>\n",
       "    <tr>\n",
       "      <th>Dim2</th>\n",
       "      <th></th>\n",
       "      <th></th>\n",
       "      <th></th>\n",
       "      <th></th>\n",
       "      <th></th>\n",
       "      <th></th>\n",
       "      <th></th>\n",
       "      <th></th>\n",
       "      <th></th>\n",
       "    </tr>\n",
       "  </thead>\n",
       "  <tbody>\n",
       "    <tr>\n",
       "      <th>Scenario1</th>\n",
       "      <td>10.411282</td>\n",
       "      <td>1.77</td>\n",
       "      <td>9.375176</td>\n",
       "      <td>4.896000</td>\n",
       "      <td>9.519111</td>\n",
       "      <td>4.2</td>\n",
       "      <td>5.651687</td>\n",
       "      <td>1.8</td>\n",
       "      <td>5.100000</td>\n",
       "    </tr>\n",
       "    <tr>\n",
       "      <th>Scenario10</th>\n",
       "      <td>9.060000</td>\n",
       "      <td>1.77</td>\n",
       "      <td>4.089523</td>\n",
       "      <td>5.124768</td>\n",
       "      <td>11.571565</td>\n",
       "      <td>4.2</td>\n",
       "      <td>2.955000</td>\n",
       "      <td>1.8</td>\n",
       "      <td>6.892446</td>\n",
       "    </tr>\n",
       "  </tbody>\n",
       "</table>\n",
       "</div>"
      ],
      "text/plain": [
       "           ELEC_TRANSMISSION_CAPACITY                                         \\\n",
       "direction                   DK1_DE4-N DK1_DK2    DK1_NL   DK1_NO2    DK1_SE3   \n",
       "Dim2                                                                           \n",
       "Scenario1                   10.411282    1.77  9.375176  4.896000   9.519111   \n",
       "Scenario10                   9.060000    1.77  4.089523  5.124768  11.571565   \n",
       "\n",
       "                                               \n",
       "direction  DK1_UK DK2_DE4-E DK2_DK1   DK2_SE4  \n",
       "Dim2                                           \n",
       "Scenario1     4.2  5.651687     1.8  5.100000  \n",
       "Scenario10    4.2  2.955000     1.8  6.892446  "
      ]
     },
     "execution_count": 234,
     "metadata": {},
     "output_type": "execute_result"
    }
   ],
   "source": [
    "# group data frame\n",
    "df6 = df6.groupby(['direction','Dim2'])['Val'].sum().unstack().T\n",
    "df6 = df6.fillna(0)\n",
    "df6.columns = pd.MultiIndex.from_product([[lf[6]], df6.columns])\n",
    "df6.head(2)"
   ]
  },
  {
   "cell_type": "markdown",
   "metadata": {},
   "source": [
    "## ELEC_TRANSMISSION_FLOW"
   ]
  },
  {
   "cell_type": "code",
   "execution_count": 83,
   "metadata": {
    "scrolled": true
   },
   "outputs": [
    {
     "data": {
      "text/plain": [
       "'ELEC_TRANSMISSION_FLOW'"
      ]
     },
     "execution_count": 83,
     "metadata": {},
     "output_type": "execute_result"
    }
   ],
   "source": [
    "lf[7]"
   ]
  },
  {
   "cell_type": "code",
   "execution_count": 180,
   "metadata": {
    "scrolled": true
   },
   "outputs": [
    {
     "data": {
      "text/html": [
       "<div>\n",
       "<style scoped>\n",
       "    .dataframe tbody tr th:only-of-type {\n",
       "        vertical-align: middle;\n",
       "    }\n",
       "\n",
       "    .dataframe tbody tr th {\n",
       "        vertical-align: top;\n",
       "    }\n",
       "\n",
       "    .dataframe thead th {\n",
       "        text-align: right;\n",
       "    }\n",
       "</style>\n",
       "<table border=\"1\" class=\"dataframe\">\n",
       "  <thead>\n",
       "    <tr style=\"text-align: right;\">\n",
       "      <th></th>\n",
       "      <th>Dim1</th>\n",
       "      <th>Dim2</th>\n",
       "      <th>Dim3</th>\n",
       "      <th>Dim4</th>\n",
       "      <th>Dim5</th>\n",
       "      <th>Dim6</th>\n",
       "      <th>Dim7</th>\n",
       "      <th>Val</th>\n",
       "      <th>direction</th>\n",
       "    </tr>\n",
       "  </thead>\n",
       "  <tbody>\n",
       "    <tr>\n",
       "      <th>5</th>\n",
       "      <td>ScenarioResults_181_270</td>\n",
       "      <td>Scenario181</td>\n",
       "      <td>2025</td>\n",
       "      <td>NORWAY</td>\n",
       "      <td>NO2</td>\n",
       "      <td>DK1</td>\n",
       "      <td>TWh</td>\n",
       "      <td>7.602892</td>\n",
       "      <td>NO2_DK1</td>\n",
       "    </tr>\n",
       "    <tr>\n",
       "      <th>19</th>\n",
       "      <td>ScenarioResults_181_270</td>\n",
       "      <td>Scenario181</td>\n",
       "      <td>2025</td>\n",
       "      <td>DENMARK</td>\n",
       "      <td>DK1</td>\n",
       "      <td>NO2</td>\n",
       "      <td>TWh</td>\n",
       "      <td>1.352829</td>\n",
       "      <td>DK1_NO2</td>\n",
       "    </tr>\n",
       "  </tbody>\n",
       "</table>\n",
       "</div>"
      ],
      "text/plain": [
       "                       Dim1         Dim2  Dim3     Dim4 Dim5 Dim6 Dim7  \\\n",
       "5   ScenarioResults_181_270  Scenario181  2025   NORWAY  NO2  DK1  TWh   \n",
       "19  ScenarioResults_181_270  Scenario181  2025  DENMARK  DK1  NO2  TWh   \n",
       "\n",
       "         Val direction  \n",
       "5   7.602892   NO2_DK1  \n",
       "19  1.352829   DK1_NO2  "
      ]
     },
     "execution_count": 180,
     "metadata": {},
     "output_type": "execute_result"
    }
   ],
   "source": [
    "# ELEC_DEMAND\n",
    "df7 = readData(lf[7])\n",
    "df7 = epsToZeros(df7)\n",
    "df7 = filterYearAndCountry(df7,yyy,{})\n",
    "df7 = makeValFloat(df7)\n",
    "df7['direction'] = df7.Dim5 + '_' + df7.Dim6\n",
    "df7 = df7.loc[(df7.direction.str.contains('|'.join(rrr))==True), :]\n",
    "df7.head(2)"
   ]
  },
  {
   "cell_type": "code",
   "execution_count": 181,
   "metadata": {
    "scrolled": true
   },
   "outputs": [
    {
     "data": {
      "text/html": [
       "<div>\n",
       "<style scoped>\n",
       "    .dataframe tbody tr th:only-of-type {\n",
       "        vertical-align: middle;\n",
       "    }\n",
       "\n",
       "    .dataframe tbody tr th {\n",
       "        vertical-align: top;\n",
       "    }\n",
       "\n",
       "    .dataframe thead tr th {\n",
       "        text-align: left;\n",
       "    }\n",
       "\n",
       "    .dataframe thead tr:last-of-type th {\n",
       "        text-align: right;\n",
       "    }\n",
       "</style>\n",
       "<table border=\"1\" class=\"dataframe\">\n",
       "  <thead>\n",
       "    <tr>\n",
       "      <th></th>\n",
       "      <th colspan=\"16\" halign=\"left\">ELEC_TRANSMISSION_FLOW</th>\n",
       "    </tr>\n",
       "    <tr>\n",
       "      <th>direction</th>\n",
       "      <th>DE4-E_DK2</th>\n",
       "      <th>DE4-N_DK1</th>\n",
       "      <th>DK1_DE4-N</th>\n",
       "      <th>DK1_DK2</th>\n",
       "      <th>DK1_NL</th>\n",
       "      <th>DK1_NO2</th>\n",
       "      <th>DK1_SE3</th>\n",
       "      <th>DK1_UK</th>\n",
       "      <th>DK2_DE4-E</th>\n",
       "      <th>DK2_DK1</th>\n",
       "      <th>DK2_SE4</th>\n",
       "      <th>NL_DK1</th>\n",
       "      <th>NO2_DK1</th>\n",
       "      <th>SE3_DK1</th>\n",
       "      <th>SE4_DK2</th>\n",
       "      <th>UK_DK1</th>\n",
       "    </tr>\n",
       "    <tr>\n",
       "      <th>Dim2</th>\n",
       "      <th></th>\n",
       "      <th></th>\n",
       "      <th></th>\n",
       "      <th></th>\n",
       "      <th></th>\n",
       "      <th></th>\n",
       "      <th></th>\n",
       "      <th></th>\n",
       "      <th></th>\n",
       "      <th></th>\n",
       "      <th></th>\n",
       "      <th></th>\n",
       "      <th></th>\n",
       "      <th></th>\n",
       "      <th></th>\n",
       "      <th></th>\n",
       "    </tr>\n",
       "  </thead>\n",
       "  <tbody>\n",
       "    <tr>\n",
       "      <th>Scenario1</th>\n",
       "      <td>0.060723</td>\n",
       "      <td>0.498527</td>\n",
       "      <td>52.263303</td>\n",
       "      <td>3.300211</td>\n",
       "      <td>51.288917</td>\n",
       "      <td>7.427024</td>\n",
       "      <td>26.622734</td>\n",
       "      <td>18.645123</td>\n",
       "      <td>30.606655</td>\n",
       "      <td>1.998565</td>\n",
       "      <td>9.547093</td>\n",
       "      <td>4.493234</td>\n",
       "      <td>13.833772</td>\n",
       "      <td>31.765463</td>\n",
       "      <td>10.255517</td>\n",
       "      <td>6.740544</td>\n",
       "    </tr>\n",
       "    <tr>\n",
       "      <th>Scenario10</th>\n",
       "      <td>6.642211</td>\n",
       "      <td>11.211683</td>\n",
       "      <td>22.533587</td>\n",
       "      <td>5.471912</td>\n",
       "      <td>15.292184</td>\n",
       "      <td>2.452366</td>\n",
       "      <td>22.249023</td>\n",
       "      <td>13.229752</td>\n",
       "      <td>8.620229</td>\n",
       "      <td>1.330232</td>\n",
       "      <td>0.499585</td>\n",
       "      <td>6.950268</td>\n",
       "      <td>26.196357</td>\n",
       "      <td>49.469099</td>\n",
       "      <td>28.458313</td>\n",
       "      <td>10.171865</td>\n",
       "    </tr>\n",
       "  </tbody>\n",
       "</table>\n",
       "</div>"
      ],
      "text/plain": [
       "           ELEC_TRANSMISSION_FLOW                                             \\\n",
       "direction               DE4-E_DK2  DE4-N_DK1  DK1_DE4-N   DK1_DK2     DK1_NL   \n",
       "Dim2                                                                           \n",
       "Scenario1                0.060723   0.498527  52.263303  3.300211  51.288917   \n",
       "Scenario10               6.642211  11.211683  22.533587  5.471912  15.292184   \n",
       "\n",
       "                                                                           \\\n",
       "direction    DK1_NO2    DK1_SE3     DK1_UK  DK2_DE4-E   DK2_DK1   DK2_SE4   \n",
       "Dim2                                                                        \n",
       "Scenario1   7.427024  26.622734  18.645123  30.606655  1.998565  9.547093   \n",
       "Scenario10  2.452366  22.249023  13.229752   8.620229  1.330232  0.499585   \n",
       "\n",
       "                                                                  \n",
       "direction     NL_DK1    NO2_DK1    SE3_DK1    SE4_DK2     UK_DK1  \n",
       "Dim2                                                              \n",
       "Scenario1   4.493234  13.833772  31.765463  10.255517   6.740544  \n",
       "Scenario10  6.950268  26.196357  49.469099  28.458313  10.171865  "
      ]
     },
     "execution_count": 181,
     "metadata": {},
     "output_type": "execute_result"
    }
   ],
   "source": [
    "# group data frame\n",
    "df7 = df7.groupby(['direction','Dim2'])['Val'].sum().unstack().T\n",
    "df7 = df7.fillna(0)\n",
    "df7.columns = pd.MultiIndex.from_product([[lf[7]], df7.columns])\n",
    "df7.head(2)"
   ]
  },
  {
   "cell_type": "markdown",
   "metadata": {},
   "source": [
    "## EMISSIONS_CO2"
   ]
  },
  {
   "cell_type": "code",
   "execution_count": 135,
   "metadata": {},
   "outputs": [
    {
     "data": {
      "text/plain": [
       "'EMISSIONS_CO2'"
      ]
     },
     "execution_count": 135,
     "metadata": {},
     "output_type": "execute_result"
    }
   ],
   "source": [
    "lf[8]"
   ]
  },
  {
   "cell_type": "code",
   "execution_count": 193,
   "metadata": {},
   "outputs": [
    {
     "data": {
      "text/html": [
       "<div>\n",
       "<style scoped>\n",
       "    .dataframe tbody tr th:only-of-type {\n",
       "        vertical-align: middle;\n",
       "    }\n",
       "\n",
       "    .dataframe tbody tr th {\n",
       "        vertical-align: top;\n",
       "    }\n",
       "\n",
       "    .dataframe thead th {\n",
       "        text-align: right;\n",
       "    }\n",
       "</style>\n",
       "<table border=\"1\" class=\"dataframe\">\n",
       "  <thead>\n",
       "    <tr style=\"text-align: right;\">\n",
       "      <th></th>\n",
       "      <th>Dim1</th>\n",
       "      <th>Dim2</th>\n",
       "      <th>Dim3</th>\n",
       "      <th>Dim4</th>\n",
       "      <th>Dim5</th>\n",
       "      <th>Dim6</th>\n",
       "      <th>Dim7</th>\n",
       "      <th>Dim8</th>\n",
       "      <th>Dim9</th>\n",
       "      <th>Dim10</th>\n",
       "      <th>Val</th>\n",
       "      <th>technology</th>\n",
       "    </tr>\n",
       "  </thead>\n",
       "  <tbody>\n",
       "    <tr>\n",
       "      <th>35</th>\n",
       "      <td>ScenarioResults_181_270</td>\n",
       "      <td>Scenario181</td>\n",
       "      <td>2025</td>\n",
       "      <td>DENMARK</td>\n",
       "      <td>DK1</td>\n",
       "      <td>DK1_Large</td>\n",
       "      <td>GNR_BO_NGAS_E-104</td>\n",
       "      <td>NATGAS</td>\n",
       "      <td>BOILERS</td>\n",
       "      <td>kton</td>\n",
       "      <td>1.616068</td>\n",
       "      <td>NATGAS_BOILERS</td>\n",
       "    </tr>\n",
       "    <tr>\n",
       "      <th>36</th>\n",
       "      <td>ScenarioResults_181_270</td>\n",
       "      <td>Scenario181</td>\n",
       "      <td>2025</td>\n",
       "      <td>DENMARK</td>\n",
       "      <td>DK1</td>\n",
       "      <td>DK1_Large</td>\n",
       "      <td>GNR_ENG_LIGHTOIL_BP_E-37</td>\n",
       "      <td>LIGHTOIL</td>\n",
       "      <td>CHP-BACK-PRESSURE</td>\n",
       "      <td>kton</td>\n",
       "      <td>2.950632</td>\n",
       "      <td>LIGHTOIL_CHP-BACK-PRESSURE</td>\n",
       "    </tr>\n",
       "  </tbody>\n",
       "</table>\n",
       "</div>"
      ],
      "text/plain": [
       "                       Dim1         Dim2  Dim3     Dim4 Dim5       Dim6  \\\n",
       "35  ScenarioResults_181_270  Scenario181  2025  DENMARK  DK1  DK1_Large   \n",
       "36  ScenarioResults_181_270  Scenario181  2025  DENMARK  DK1  DK1_Large   \n",
       "\n",
       "                        Dim7      Dim8               Dim9 Dim10       Val  \\\n",
       "35         GNR_BO_NGAS_E-104    NATGAS            BOILERS  kton  1.616068   \n",
       "36  GNR_ENG_LIGHTOIL_BP_E-37  LIGHTOIL  CHP-BACK-PRESSURE  kton  2.950632   \n",
       "\n",
       "                    technology  \n",
       "35              NATGAS_BOILERS  \n",
       "36  LIGHTOIL_CHP-BACK-PRESSURE  "
      ]
     },
     "execution_count": 193,
     "metadata": {},
     "output_type": "execute_result"
    }
   ],
   "source": [
    "# EMISSIONS_CO2\n",
    "df8 = readData(lf[8])\n",
    "df8 = epsToZeros(df8)\n",
    "df8 = filterYearAndCountry(df8,yyy,ccc)\n",
    "df8 = makeValFloat(df8)\n",
    "df8['technology'] = df8.Dim8 + '_' + df8.Dim9\n",
    "df8.head(2)"
   ]
  },
  {
   "cell_type": "code",
   "execution_count": 194,
   "metadata": {
    "scrolled": true
   },
   "outputs": [
    {
     "data": {
      "text/html": [
       "<div>\n",
       "<style scoped>\n",
       "    .dataframe tbody tr th:only-of-type {\n",
       "        vertical-align: middle;\n",
       "    }\n",
       "\n",
       "    .dataframe tbody tr th {\n",
       "        vertical-align: top;\n",
       "    }\n",
       "\n",
       "    .dataframe thead tr th {\n",
       "        text-align: left;\n",
       "    }\n",
       "\n",
       "    .dataframe thead tr:last-of-type th {\n",
       "        text-align: right;\n",
       "    }\n",
       "</style>\n",
       "<table border=\"1\" class=\"dataframe\">\n",
       "  <thead>\n",
       "    <tr>\n",
       "      <th></th>\n",
       "      <th colspan=\"14\" halign=\"left\">EMISSIONS_CO2</th>\n",
       "    </tr>\n",
       "    <tr>\n",
       "      <th>technology</th>\n",
       "      <th>COAL_BOILERS</th>\n",
       "      <th>COAL_CHP-BACK-PRESSURE</th>\n",
       "      <th>COAL_CHP-EXTRACTION</th>\n",
       "      <th>COAL_CONDENSING</th>\n",
       "      <th>FUELOIL_BOILERS</th>\n",
       "      <th>FUELOIL_CHP-BACK-PRESSURE</th>\n",
       "      <th>FUELOIL_CONDENSING</th>\n",
       "      <th>LIGHTOIL_BOILERS</th>\n",
       "      <th>LIGHTOIL_CHP-BACK-PRESSURE</th>\n",
       "      <th>LIGHTOIL_CONDENSING</th>\n",
       "      <th>NATGAS_BOILERS</th>\n",
       "      <th>NATGAS_CHP-BACK-PRESSURE</th>\n",
       "      <th>NATGAS_CHP-EXTRACTION</th>\n",
       "      <th>NATGAS_CONDENSING</th>\n",
       "    </tr>\n",
       "    <tr>\n",
       "      <th>Dim2</th>\n",
       "      <th></th>\n",
       "      <th></th>\n",
       "      <th></th>\n",
       "      <th></th>\n",
       "      <th></th>\n",
       "      <th></th>\n",
       "      <th></th>\n",
       "      <th></th>\n",
       "      <th></th>\n",
       "      <th></th>\n",
       "      <th></th>\n",
       "      <th></th>\n",
       "      <th></th>\n",
       "      <th></th>\n",
       "    </tr>\n",
       "  </thead>\n",
       "  <tbody>\n",
       "    <tr>\n",
       "      <th>Scenario1</th>\n",
       "      <td>0.000000</td>\n",
       "      <td>41.917468</td>\n",
       "      <td>6.883196e-09</td>\n",
       "      <td>0.0</td>\n",
       "      <td>0.000000</td>\n",
       "      <td>0.000000</td>\n",
       "      <td>0.031298</td>\n",
       "      <td>0.000000</td>\n",
       "      <td>6.170311</td>\n",
       "      <td>9.072628</td>\n",
       "      <td>2.858547</td>\n",
       "      <td>55.022099</td>\n",
       "      <td>0.0</td>\n",
       "      <td>773.219416</td>\n",
       "    </tr>\n",
       "    <tr>\n",
       "      <th>Scenario10</th>\n",
       "      <td>5.326626</td>\n",
       "      <td>894.718410</td>\n",
       "      <td>4.328434e+03</td>\n",
       "      <td>0.0</td>\n",
       "      <td>0.439693</td>\n",
       "      <td>1.958605</td>\n",
       "      <td>0.031298</td>\n",
       "      <td>5.551103</td>\n",
       "      <td>6.854302</td>\n",
       "      <td>9.072628</td>\n",
       "      <td>897.469777</td>\n",
       "      <td>211.306336</td>\n",
       "      <td>0.0</td>\n",
       "      <td>6.199197</td>\n",
       "    </tr>\n",
       "  </tbody>\n",
       "</table>\n",
       "</div>"
      ],
      "text/plain": [
       "           EMISSIONS_CO2                                             \\\n",
       "technology  COAL_BOILERS COAL_CHP-BACK-PRESSURE COAL_CHP-EXTRACTION   \n",
       "Dim2                                                                  \n",
       "Scenario1       0.000000              41.917468        6.883196e-09   \n",
       "Scenario10      5.326626             894.718410        4.328434e+03   \n",
       "\n",
       "                                                                      \\\n",
       "technology COAL_CONDENSING FUELOIL_BOILERS FUELOIL_CHP-BACK-PRESSURE   \n",
       "Dim2                                                                   \n",
       "Scenario1              0.0        0.000000                  0.000000   \n",
       "Scenario10             0.0        0.439693                  1.958605   \n",
       "\n",
       "                                                                           \\\n",
       "technology FUELOIL_CONDENSING LIGHTOIL_BOILERS LIGHTOIL_CHP-BACK-PRESSURE   \n",
       "Dim2                                                                        \n",
       "Scenario1            0.031298         0.000000                   6.170311   \n",
       "Scenario10           0.031298         5.551103                   6.854302   \n",
       "\n",
       "                                                                        \\\n",
       "technology LIGHTOIL_CONDENSING NATGAS_BOILERS NATGAS_CHP-BACK-PRESSURE   \n",
       "Dim2                                                                     \n",
       "Scenario1             9.072628       2.858547                55.022099   \n",
       "Scenario10            9.072628     897.469777               211.306336   \n",
       "\n",
       "                                                    \n",
       "technology NATGAS_CHP-EXTRACTION NATGAS_CONDENSING  \n",
       "Dim2                                                \n",
       "Scenario1                    0.0        773.219416  \n",
       "Scenario10                   0.0          6.199197  "
      ]
     },
     "execution_count": 194,
     "metadata": {},
     "output_type": "execute_result"
    }
   ],
   "source": [
    "# group data frame\n",
    "df8 = df8.groupby(['technology','Dim2'])['Val'].sum().unstack().T\n",
    "df8 = df8.fillna(0)\n",
    "df8.columns = pd.MultiIndex.from_product([[lf[8]], df8.columns])\n",
    "df8.head(2)"
   ]
  },
  {
   "cell_type": "markdown",
   "metadata": {},
   "source": [
    "## ENERGY_PRODUCTION"
   ]
  },
  {
   "cell_type": "code",
   "execution_count": 187,
   "metadata": {},
   "outputs": [
    {
     "data": {
      "text/plain": [
       "'ENERGY_PRODUCTION'"
      ]
     },
     "execution_count": 187,
     "metadata": {},
     "output_type": "execute_result"
    }
   ],
   "source": [
    "lf[9]"
   ]
  },
  {
   "cell_type": "code",
   "execution_count": 190,
   "metadata": {},
   "outputs": [
    {
     "data": {
      "text/html": [
       "<div>\n",
       "<style scoped>\n",
       "    .dataframe tbody tr th:only-of-type {\n",
       "        vertical-align: middle;\n",
       "    }\n",
       "\n",
       "    .dataframe tbody tr th {\n",
       "        vertical-align: top;\n",
       "    }\n",
       "\n",
       "    .dataframe thead th {\n",
       "        text-align: right;\n",
       "    }\n",
       "</style>\n",
       "<table border=\"1\" class=\"dataframe\">\n",
       "  <thead>\n",
       "    <tr style=\"text-align: right;\">\n",
       "      <th></th>\n",
       "      <th>Dim1</th>\n",
       "      <th>Dim2</th>\n",
       "      <th>Dim3</th>\n",
       "      <th>Dim4</th>\n",
       "      <th>Dim5</th>\n",
       "      <th>Dim6</th>\n",
       "      <th>Dim7</th>\n",
       "      <th>Dim8</th>\n",
       "      <th>Dim9</th>\n",
       "      <th>Dim10</th>\n",
       "      <th>Dim11</th>\n",
       "      <th>Val</th>\n",
       "      <th>technology</th>\n",
       "    </tr>\n",
       "  </thead>\n",
       "  <tbody>\n",
       "    <tr>\n",
       "      <th>214</th>\n",
       "      <td>ScenarioResults_181_270</td>\n",
       "      <td>Scenario181</td>\n",
       "      <td>2025</td>\n",
       "      <td>DENMARK</td>\n",
       "      <td>DK1</td>\n",
       "      <td>DK1_Large</td>\n",
       "      <td>GNR_BO_BIOIL_E-85</td>\n",
       "      <td>BIOOIL</td>\n",
       "      <td>HEAT</td>\n",
       "      <td>BOILERS</td>\n",
       "      <td>TWh</td>\n",
       "      <td>0.365835</td>\n",
       "      <td>HEAT_BIOOIL_BOILERS</td>\n",
       "    </tr>\n",
       "    <tr>\n",
       "      <th>215</th>\n",
       "      <td>ScenarioResults_181_270</td>\n",
       "      <td>Scenario181</td>\n",
       "      <td>2025</td>\n",
       "      <td>DENMARK</td>\n",
       "      <td>DK1</td>\n",
       "      <td>DK1_Large</td>\n",
       "      <td>GNR_BO_BIOIL_E-93</td>\n",
       "      <td>BIOOIL</td>\n",
       "      <td>HEAT</td>\n",
       "      <td>BOILERS</td>\n",
       "      <td>TWh</td>\n",
       "      <td>0.077228</td>\n",
       "      <td>HEAT_BIOOIL_BOILERS</td>\n",
       "    </tr>\n",
       "  </tbody>\n",
       "</table>\n",
       "</div>"
      ],
      "text/plain": [
       "                        Dim1         Dim2  Dim3     Dim4 Dim5       Dim6  \\\n",
       "214  ScenarioResults_181_270  Scenario181  2025  DENMARK  DK1  DK1_Large   \n",
       "215  ScenarioResults_181_270  Scenario181  2025  DENMARK  DK1  DK1_Large   \n",
       "\n",
       "                  Dim7    Dim8  Dim9    Dim10 Dim11       Val  \\\n",
       "214  GNR_BO_BIOIL_E-85  BIOOIL  HEAT  BOILERS   TWh  0.365835   \n",
       "215  GNR_BO_BIOIL_E-93  BIOOIL  HEAT  BOILERS   TWh  0.077228   \n",
       "\n",
       "              technology  \n",
       "214  HEAT_BIOOIL_BOILERS  \n",
       "215  HEAT_BIOOIL_BOILERS  "
      ]
     },
     "execution_count": 190,
     "metadata": {},
     "output_type": "execute_result"
    }
   ],
   "source": [
    "# ENERGY_PRODUCTION\n",
    "df9 = readData(lf[9])\n",
    "df9 = epsToZeros(df9)\n",
    "df9 = filterYearAndCountry(df9,yyy,ccc)\n",
    "df9 = makeValFloat(df9)\n",
    "df9['technology'] = df9.Dim9 + '_' + df9.Dim8 + '_' + df9.Dim10\n",
    "df9.head(2)"
   ]
  },
  {
   "cell_type": "code",
   "execution_count": 191,
   "metadata": {},
   "outputs": [
    {
     "data": {
      "text/html": [
       "<div>\n",
       "<style scoped>\n",
       "    .dataframe tbody tr th:only-of-type {\n",
       "        vertical-align: middle;\n",
       "    }\n",
       "\n",
       "    .dataframe tbody tr th {\n",
       "        vertical-align: top;\n",
       "    }\n",
       "\n",
       "    .dataframe thead tr th {\n",
       "        text-align: left;\n",
       "    }\n",
       "\n",
       "    .dataframe thead tr:last-of-type th {\n",
       "        text-align: right;\n",
       "    }\n",
       "</style>\n",
       "<table border=\"1\" class=\"dataframe\">\n",
       "  <thead>\n",
       "    <tr>\n",
       "      <th></th>\n",
       "      <th colspan=\"21\" halign=\"left\">ENERGY_PRODUCTION</th>\n",
       "    </tr>\n",
       "    <tr>\n",
       "      <th>technology</th>\n",
       "      <th>ELECTRICITY_BIOGAS_CHP-BACK-PRESSURE</th>\n",
       "      <th>ELECTRICITY_BIOGAS_CONDENSING</th>\n",
       "      <th>ELECTRICITY_COAL_CHP-BACK-PRESSURE</th>\n",
       "      <th>ELECTRICITY_COAL_CHP-EXTRACTION</th>\n",
       "      <th>ELECTRICITY_COAL_CONDENSING</th>\n",
       "      <th>ELECTRICITY_ELECTRIC_INTRASEASONAL-ELECT-STORAGE</th>\n",
       "      <th>ELECTRICITY_FUELOIL_CHP-BACK-PRESSURE</th>\n",
       "      <th>ELECTRICITY_FUELOIL_CONDENSING</th>\n",
       "      <th>ELECTRICITY_LIGHTOIL_CHP-BACK-PRESSURE</th>\n",
       "      <th>ELECTRICITY_LIGHTOIL_CONDENSING</th>\n",
       "      <th>...</th>\n",
       "      <th>HEAT_STRAW_BOILERS</th>\n",
       "      <th>HEAT_STRAW_CHP-BACK-PRESSURE</th>\n",
       "      <th>HEAT_SUN_SOLAR-HEATING</th>\n",
       "      <th>HEAT_WASTEHEAT_BOILERS</th>\n",
       "      <th>HEAT_WOODCHIPS_BOILERS</th>\n",
       "      <th>HEAT_WOODCHIPS_CHP-BACK-PRESSURE</th>\n",
       "      <th>HEAT_WOODPELLETS_BOILERS</th>\n",
       "      <th>HEAT_WOODPELLETS_CHP-BACK-PRESSURE</th>\n",
       "      <th>HEAT_WOODPELLETS_CHP-EXTRACTION</th>\n",
       "      <th>HEAT_WOODWASTE_BOILERS</th>\n",
       "    </tr>\n",
       "    <tr>\n",
       "      <th>Dim2</th>\n",
       "      <th></th>\n",
       "      <th></th>\n",
       "      <th></th>\n",
       "      <th></th>\n",
       "      <th></th>\n",
       "      <th></th>\n",
       "      <th></th>\n",
       "      <th></th>\n",
       "      <th></th>\n",
       "      <th></th>\n",
       "      <th></th>\n",
       "      <th></th>\n",
       "      <th></th>\n",
       "      <th></th>\n",
       "      <th></th>\n",
       "      <th></th>\n",
       "      <th></th>\n",
       "      <th></th>\n",
       "      <th></th>\n",
       "      <th></th>\n",
       "      <th></th>\n",
       "    </tr>\n",
       "  </thead>\n",
       "  <tbody>\n",
       "    <tr>\n",
       "      <th>Scenario1</th>\n",
       "      <td>0.142967</td>\n",
       "      <td>0.000373</td>\n",
       "      <td>0.046772</td>\n",
       "      <td>6.815530e-12</td>\n",
       "      <td>0.0</td>\n",
       "      <td>7.647365</td>\n",
       "      <td>0.0000</td>\n",
       "      <td>0.000049</td>\n",
       "      <td>0.008555</td>\n",
       "      <td>0.013303</td>\n",
       "      <td>...</td>\n",
       "      <td>4.020378</td>\n",
       "      <td>15.861445</td>\n",
       "      <td>6.048965</td>\n",
       "      <td>0.474354</td>\n",
       "      <td>5.069544</td>\n",
       "      <td>83.567709</td>\n",
       "      <td>0.00000</td>\n",
       "      <td>2.631275</td>\n",
       "      <td>1.066647</td>\n",
       "      <td>0.831019</td>\n",
       "    </tr>\n",
       "    <tr>\n",
       "      <th>Scenario10</th>\n",
       "      <td>1.977862</td>\n",
       "      <td>0.000250</td>\n",
       "      <td>0.979251</td>\n",
       "      <td>4.641724e+00</td>\n",
       "      <td>0.0</td>\n",
       "      <td>0.000000</td>\n",
       "      <td>0.0025</td>\n",
       "      <td>0.000049</td>\n",
       "      <td>0.009506</td>\n",
       "      <td>0.013303</td>\n",
       "      <td>...</td>\n",
       "      <td>0.147762</td>\n",
       "      <td>0.750449</td>\n",
       "      <td>1.145687</td>\n",
       "      <td>0.474354</td>\n",
       "      <td>31.960424</td>\n",
       "      <td>4.428785</td>\n",
       "      <td>0.09084</td>\n",
       "      <td>0.007574</td>\n",
       "      <td>1.064476</td>\n",
       "      <td>0.799486</td>\n",
       "    </tr>\n",
       "  </tbody>\n",
       "</table>\n",
       "<p>2 rows × 50 columns</p>\n",
       "</div>"
      ],
      "text/plain": [
       "                              ENERGY_PRODUCTION                                \\\n",
       "technology ELECTRICITY_BIOGAS_CHP-BACK-PRESSURE ELECTRICITY_BIOGAS_CONDENSING   \n",
       "Dim2                                                                            \n",
       "Scenario1                              0.142967                      0.000373   \n",
       "Scenario10                             1.977862                      0.000250   \n",
       "\n",
       "                                                                               \\\n",
       "technology ELECTRICITY_COAL_CHP-BACK-PRESSURE ELECTRICITY_COAL_CHP-EXTRACTION   \n",
       "Dim2                                                                            \n",
       "Scenario1                            0.046772                    6.815530e-12   \n",
       "Scenario10                           0.979251                    4.641724e+00   \n",
       "\n",
       "                                        \\\n",
       "technology ELECTRICITY_COAL_CONDENSING   \n",
       "Dim2                                     \n",
       "Scenario1                          0.0   \n",
       "Scenario10                         0.0   \n",
       "\n",
       "                                                             \\\n",
       "technology ELECTRICITY_ELECTRIC_INTRASEASONAL-ELECT-STORAGE   \n",
       "Dim2                                                          \n",
       "Scenario1                                          7.647365   \n",
       "Scenario10                                         0.000000   \n",
       "\n",
       "                                                  \\\n",
       "technology ELECTRICITY_FUELOIL_CHP-BACK-PRESSURE   \n",
       "Dim2                                               \n",
       "Scenario1                                 0.0000   \n",
       "Scenario10                                0.0025   \n",
       "\n",
       "                                           \\\n",
       "technology ELECTRICITY_FUELOIL_CONDENSING   \n",
       "Dim2                                        \n",
       "Scenario1                        0.000049   \n",
       "Scenario10                       0.000049   \n",
       "\n",
       "                                                   \\\n",
       "technology ELECTRICITY_LIGHTOIL_CHP-BACK-PRESSURE   \n",
       "Dim2                                                \n",
       "Scenario1                                0.008555   \n",
       "Scenario10                               0.009506   \n",
       "\n",
       "                                            ...                     \\\n",
       "technology ELECTRICITY_LIGHTOIL_CONDENSING  ... HEAT_STRAW_BOILERS   \n",
       "Dim2                                        ...                      \n",
       "Scenario1                         0.013303  ...           4.020378   \n",
       "Scenario10                        0.013303  ...           0.147762   \n",
       "\n",
       "                                                                \\\n",
       "technology HEAT_STRAW_CHP-BACK-PRESSURE HEAT_SUN_SOLAR-HEATING   \n",
       "Dim2                                                             \n",
       "Scenario1                     15.861445               6.048965   \n",
       "Scenario10                     0.750449               1.145687   \n",
       "\n",
       "                                                          \\\n",
       "technology HEAT_WASTEHEAT_BOILERS HEAT_WOODCHIPS_BOILERS   \n",
       "Dim2                                                       \n",
       "Scenario1                0.474354               5.069544   \n",
       "Scenario10               0.474354              31.960424   \n",
       "\n",
       "                                                                      \\\n",
       "technology HEAT_WOODCHIPS_CHP-BACK-PRESSURE HEAT_WOODPELLETS_BOILERS   \n",
       "Dim2                                                                   \n",
       "Scenario1                         83.567709                  0.00000   \n",
       "Scenario10                         4.428785                  0.09084   \n",
       "\n",
       "                                                                               \\\n",
       "technology HEAT_WOODPELLETS_CHP-BACK-PRESSURE HEAT_WOODPELLETS_CHP-EXTRACTION   \n",
       "Dim2                                                                            \n",
       "Scenario1                            2.631275                        1.066647   \n",
       "Scenario10                           0.007574                        1.064476   \n",
       "\n",
       "                                   \n",
       "technology HEAT_WOODWASTE_BOILERS  \n",
       "Dim2                               \n",
       "Scenario1                0.831019  \n",
       "Scenario10               0.799486  \n",
       "\n",
       "[2 rows x 50 columns]"
      ]
     },
     "execution_count": 191,
     "metadata": {},
     "output_type": "execute_result"
    }
   ],
   "source": [
    "# group data frame\n",
    "df9 = df9.groupby(['technology','Dim2'])['Val'].sum().unstack().T\n",
    "df9 = df9.fillna(0)\n",
    "df9.columns = pd.MultiIndex.from_product([[lf[9]], df9.columns])\n",
    "df9.head(2)"
   ]
  },
  {
   "cell_type": "markdown",
   "metadata": {},
   "source": [
    "## FUEL_CONSUMPTION"
   ]
  },
  {
   "cell_type": "code",
   "execution_count": 195,
   "metadata": {},
   "outputs": [
    {
     "data": {
      "text/plain": [
       "'FUEL_CONSUMPTION'"
      ]
     },
     "execution_count": 195,
     "metadata": {},
     "output_type": "execute_result"
    }
   ],
   "source": [
    "lf[10]"
   ]
  },
  {
   "cell_type": "code",
   "execution_count": 200,
   "metadata": {},
   "outputs": [
    {
     "data": {
      "text/html": [
       "<div>\n",
       "<style scoped>\n",
       "    .dataframe tbody tr th:only-of-type {\n",
       "        vertical-align: middle;\n",
       "    }\n",
       "\n",
       "    .dataframe tbody tr th {\n",
       "        vertical-align: top;\n",
       "    }\n",
       "\n",
       "    .dataframe thead th {\n",
       "        text-align: right;\n",
       "    }\n",
       "</style>\n",
       "<table border=\"1\" class=\"dataframe\">\n",
       "  <thead>\n",
       "    <tr style=\"text-align: right;\">\n",
       "      <th></th>\n",
       "      <th>Dim1</th>\n",
       "      <th>Dim2</th>\n",
       "      <th>Dim3</th>\n",
       "      <th>Dim4</th>\n",
       "      <th>Dim5</th>\n",
       "      <th>Dim6</th>\n",
       "      <th>Dim7</th>\n",
       "      <th>Dim8</th>\n",
       "      <th>Dim9</th>\n",
       "      <th>Dim10</th>\n",
       "      <th>Val</th>\n",
       "      <th>technology</th>\n",
       "    </tr>\n",
       "  </thead>\n",
       "  <tbody>\n",
       "    <tr>\n",
       "      <th>196</th>\n",
       "      <td>ScenarioResults_181_270</td>\n",
       "      <td>Scenario181</td>\n",
       "      <td>2025</td>\n",
       "      <td>DENMARK</td>\n",
       "      <td>DK1</td>\n",
       "      <td>DK1_Large</td>\n",
       "      <td>GNR_BO_BIOIL_E-85</td>\n",
       "      <td>BIOOIL</td>\n",
       "      <td>BOILERS</td>\n",
       "      <td>TWh</td>\n",
       "      <td>0.430394</td>\n",
       "      <td>BIOOIL_BOILERS</td>\n",
       "    </tr>\n",
       "    <tr>\n",
       "      <th>197</th>\n",
       "      <td>ScenarioResults_181_270</td>\n",
       "      <td>Scenario181</td>\n",
       "      <td>2025</td>\n",
       "      <td>DENMARK</td>\n",
       "      <td>DK1</td>\n",
       "      <td>DK1_Large</td>\n",
       "      <td>GNR_BO_BIOIL_E-93</td>\n",
       "      <td>BIOOIL</td>\n",
       "      <td>BOILERS</td>\n",
       "      <td>TWh</td>\n",
       "      <td>0.083041</td>\n",
       "      <td>BIOOIL_BOILERS</td>\n",
       "    </tr>\n",
       "  </tbody>\n",
       "</table>\n",
       "</div>"
      ],
      "text/plain": [
       "                        Dim1         Dim2  Dim3     Dim4 Dim5       Dim6  \\\n",
       "196  ScenarioResults_181_270  Scenario181  2025  DENMARK  DK1  DK1_Large   \n",
       "197  ScenarioResults_181_270  Scenario181  2025  DENMARK  DK1  DK1_Large   \n",
       "\n",
       "                  Dim7    Dim8     Dim9 Dim10       Val      technology  \n",
       "196  GNR_BO_BIOIL_E-85  BIOOIL  BOILERS   TWh  0.430394  BIOOIL_BOILERS  \n",
       "197  GNR_BO_BIOIL_E-93  BIOOIL  BOILERS   TWh  0.083041  BIOOIL_BOILERS  "
      ]
     },
     "execution_count": 200,
     "metadata": {},
     "output_type": "execute_result"
    }
   ],
   "source": [
    "# FUEL_CONSUMPTION\n",
    "df10 = readData(lf[10])\n",
    "df10 = epsToZeros(df10)\n",
    "df10 = filterYearAndCountry(df10,yyy,ccc)\n",
    "df10 = makeValFloat(df10)\n",
    "df10['technology'] = df10.Dim8 + '_' + df10.Dim9\n",
    "df10.head(2)"
   ]
  },
  {
   "cell_type": "code",
   "execution_count": 201,
   "metadata": {},
   "outputs": [
    {
     "data": {
      "text/html": [
       "<div>\n",
       "<style scoped>\n",
       "    .dataframe tbody tr th:only-of-type {\n",
       "        vertical-align: middle;\n",
       "    }\n",
       "\n",
       "    .dataframe tbody tr th {\n",
       "        vertical-align: top;\n",
       "    }\n",
       "\n",
       "    .dataframe thead tr th {\n",
       "        text-align: left;\n",
       "    }\n",
       "\n",
       "    .dataframe thead tr:last-of-type th {\n",
       "        text-align: right;\n",
       "    }\n",
       "</style>\n",
       "<table border=\"1\" class=\"dataframe\">\n",
       "  <thead>\n",
       "    <tr>\n",
       "      <th></th>\n",
       "      <th colspan=\"17\" halign=\"left\">FUEL_CONSUMPTION</th>\n",
       "    </tr>\n",
       "    <tr>\n",
       "      <th>Dim8</th>\n",
       "      <th>BIOGAS</th>\n",
       "      <th>BIOOIL</th>\n",
       "      <th>COAL</th>\n",
       "      <th>ELECTRIC</th>\n",
       "      <th>FUELOIL</th>\n",
       "      <th>HEAT</th>\n",
       "      <th>LIGHTOIL</th>\n",
       "      <th>MUNIWASTE</th>\n",
       "      <th>NATGAS</th>\n",
       "      <th>STRAW</th>\n",
       "      <th>SUN</th>\n",
       "      <th>WASTEHEAT</th>\n",
       "      <th>WATER</th>\n",
       "      <th>WIND</th>\n",
       "      <th>WOODCHIPS</th>\n",
       "      <th>WOODPELLETS</th>\n",
       "      <th>WOODWASTE</th>\n",
       "    </tr>\n",
       "    <tr>\n",
       "      <th>Dim2</th>\n",
       "      <th></th>\n",
       "      <th></th>\n",
       "      <th></th>\n",
       "      <th></th>\n",
       "      <th></th>\n",
       "      <th></th>\n",
       "      <th></th>\n",
       "      <th></th>\n",
       "      <th></th>\n",
       "      <th></th>\n",
       "      <th></th>\n",
       "      <th></th>\n",
       "      <th></th>\n",
       "      <th></th>\n",
       "      <th></th>\n",
       "      <th></th>\n",
       "      <th></th>\n",
       "    </tr>\n",
       "  </thead>\n",
       "  <tbody>\n",
       "    <tr>\n",
       "      <th>Scenario1</th>\n",
       "      <td>0.335388</td>\n",
       "      <td>0.00000</td>\n",
       "      <td>0.123084</td>\n",
       "      <td>10.655648</td>\n",
       "      <td>0.000117</td>\n",
       "      <td>27.200714</td>\n",
       "      <td>0.057218</td>\n",
       "      <td>32.617654</td>\n",
       "      <td>4.115172</td>\n",
       "      <td>22.098829</td>\n",
       "      <td>48.799530</td>\n",
       "      <td>0.474354</td>\n",
       "      <td>0.100566</td>\n",
       "      <td>163.564812</td>\n",
       "      <td>95.554043</td>\n",
       "      <td>6.035170</td>\n",
       "      <td>0.870664</td>\n",
       "    </tr>\n",
       "    <tr>\n",
       "      <th>Scenario10</th>\n",
       "      <td>4.426154</td>\n",
       "      <td>1.38773</td>\n",
       "      <td>15.352594</td>\n",
       "      <td>20.002117</td>\n",
       "      <td>0.009120</td>\n",
       "      <td>0.000000</td>\n",
       "      <td>0.080623</td>\n",
       "      <td>31.989164</td>\n",
       "      <td>5.520773</td>\n",
       "      <td>1.164413</td>\n",
       "      <td>2.847284</td>\n",
       "      <td>0.474354</td>\n",
       "      <td>0.100566</td>\n",
       "      <td>59.727893</td>\n",
       "      <td>32.983738</td>\n",
       "      <td>2.020647</td>\n",
       "      <td>0.836717</td>\n",
       "    </tr>\n",
       "  </tbody>\n",
       "</table>\n",
       "</div>"
      ],
      "text/plain": [
       "           FUEL_CONSUMPTION                                           \\\n",
       "Dim8                 BIOGAS   BIOOIL       COAL   ELECTRIC   FUELOIL   \n",
       "Dim2                                                                   \n",
       "Scenario1          0.335388  0.00000   0.123084  10.655648  0.000117   \n",
       "Scenario10         4.426154  1.38773  15.352594  20.002117  0.009120   \n",
       "\n",
       "                                                                            \\\n",
       "Dim8             HEAT  LIGHTOIL  MUNIWASTE    NATGAS      STRAW        SUN   \n",
       "Dim2                                                                         \n",
       "Scenario1   27.200714  0.057218  32.617654  4.115172  22.098829  48.799530   \n",
       "Scenario10   0.000000  0.080623  31.989164  5.520773   1.164413   2.847284   \n",
       "\n",
       "                                                                             \n",
       "Dim8       WASTEHEAT     WATER        WIND  WOODCHIPS WOODPELLETS WOODWASTE  \n",
       "Dim2                                                                         \n",
       "Scenario1   0.474354  0.100566  163.564812  95.554043    6.035170  0.870664  \n",
       "Scenario10  0.474354  0.100566   59.727893  32.983738    2.020647  0.836717  "
      ]
     },
     "execution_count": 201,
     "metadata": {},
     "output_type": "execute_result"
    }
   ],
   "source": [
    "# group data frame\n",
    "df10 = df10.groupby(['Dim8','Dim2'])['Val'].sum().unstack().T\n",
    "df10 = df10.fillna(0)\n",
    "df10.columns = pd.MultiIndex.from_product([[lf[10]], df10.columns])\n",
    "df10.head(2)"
   ]
  },
  {
   "cell_type": "markdown",
   "metadata": {},
   "source": [
    "## GENERATION_CAPACITY"
   ]
  },
  {
   "cell_type": "code",
   "execution_count": 202,
   "metadata": {},
   "outputs": [
    {
     "data": {
      "text/plain": [
       "'GENERATION_CAPACITY'"
      ]
     },
     "execution_count": 202,
     "metadata": {},
     "output_type": "execute_result"
    }
   ],
   "source": [
    "lf[11]"
   ]
  },
  {
   "cell_type": "code",
   "execution_count": 203,
   "metadata": {},
   "outputs": [
    {
     "data": {
      "text/html": [
       "<div>\n",
       "<style scoped>\n",
       "    .dataframe tbody tr th:only-of-type {\n",
       "        vertical-align: middle;\n",
       "    }\n",
       "\n",
       "    .dataframe tbody tr th {\n",
       "        vertical-align: top;\n",
       "    }\n",
       "\n",
       "    .dataframe thead th {\n",
       "        text-align: right;\n",
       "    }\n",
       "</style>\n",
       "<table border=\"1\" class=\"dataframe\">\n",
       "  <thead>\n",
       "    <tr style=\"text-align: right;\">\n",
       "      <th></th>\n",
       "      <th>Dim1</th>\n",
       "      <th>Dim2</th>\n",
       "      <th>Dim3</th>\n",
       "      <th>Dim4</th>\n",
       "      <th>Dim5</th>\n",
       "      <th>Dim6</th>\n",
       "      <th>Dim7</th>\n",
       "      <th>Dim8</th>\n",
       "      <th>Dim9</th>\n",
       "      <th>Dim10</th>\n",
       "      <th>Dim11</th>\n",
       "      <th>Dim12</th>\n",
       "      <th>Val</th>\n",
       "      <th>technology</th>\n",
       "    </tr>\n",
       "  </thead>\n",
       "  <tbody>\n",
       "    <tr>\n",
       "      <th>432</th>\n",
       "      <td>ScenarioResults_181_270</td>\n",
       "      <td>Scenario181</td>\n",
       "      <td>2025</td>\n",
       "      <td>DENMARK</td>\n",
       "      <td>DK1</td>\n",
       "      <td>DK1_Large</td>\n",
       "      <td>GNR_BO_ELEC_E-100</td>\n",
       "      <td>ELECTRIC</td>\n",
       "      <td>HEAT</td>\n",
       "      <td>ELECT-TO-HEAT</td>\n",
       "      <td>EXOGENOUS</td>\n",
       "      <td>GW</td>\n",
       "      <td>0.12895</td>\n",
       "      <td>ELECTRIC_HEAT</td>\n",
       "    </tr>\n",
       "    <tr>\n",
       "      <th>433</th>\n",
       "      <td>ScenarioResults_181_270</td>\n",
       "      <td>Scenario181</td>\n",
       "      <td>2025</td>\n",
       "      <td>DENMARK</td>\n",
       "      <td>DK1</td>\n",
       "      <td>DK1_Large</td>\n",
       "      <td>GNR_BO_ELEC_E-100</td>\n",
       "      <td>ELECTRIC</td>\n",
       "      <td>HEAT</td>\n",
       "      <td>ELECT-TO-HEAT</td>\n",
       "      <td>DECOMMISSIONING</td>\n",
       "      <td>GW</td>\n",
       "      <td>-0.12895</td>\n",
       "      <td>ELECTRIC_HEAT</td>\n",
       "    </tr>\n",
       "  </tbody>\n",
       "</table>\n",
       "</div>"
      ],
      "text/plain": [
       "                        Dim1         Dim2  Dim3     Dim4 Dim5       Dim6  \\\n",
       "432  ScenarioResults_181_270  Scenario181  2025  DENMARK  DK1  DK1_Large   \n",
       "433  ScenarioResults_181_270  Scenario181  2025  DENMARK  DK1  DK1_Large   \n",
       "\n",
       "                  Dim7      Dim8  Dim9          Dim10            Dim11 Dim12  \\\n",
       "432  GNR_BO_ELEC_E-100  ELECTRIC  HEAT  ELECT-TO-HEAT        EXOGENOUS    GW   \n",
       "433  GNR_BO_ELEC_E-100  ELECTRIC  HEAT  ELECT-TO-HEAT  DECOMMISSIONING    GW   \n",
       "\n",
       "         Val     technology  \n",
       "432  0.12895  ELECTRIC_HEAT  \n",
       "433 -0.12895  ELECTRIC_HEAT  "
      ]
     },
     "execution_count": 203,
     "metadata": {},
     "output_type": "execute_result"
    }
   ],
   "source": [
    "# GENERATION_CAPACITY\n",
    "df11 = readData(lf[11])\n",
    "df11 = epsToZeros(df11)\n",
    "df11 = filterYearAndCountry(df11,yyy,ccc)\n",
    "df11 = makeValFloat(df11)\n",
    "df11['technology'] = df11.Dim8 + '_' + df11.Dim9\n",
    "df11.head(2)"
   ]
  },
  {
   "cell_type": "code",
   "execution_count": 211,
   "metadata": {},
   "outputs": [
    {
     "data": {
      "text/html": [
       "<div>\n",
       "<style scoped>\n",
       "    .dataframe tbody tr th:only-of-type {\n",
       "        vertical-align: middle;\n",
       "    }\n",
       "\n",
       "    .dataframe tbody tr th {\n",
       "        vertical-align: top;\n",
       "    }\n",
       "\n",
       "    .dataframe thead tr th {\n",
       "        text-align: left;\n",
       "    }\n",
       "\n",
       "    .dataframe thead tr:last-of-type th {\n",
       "        text-align: right;\n",
       "    }\n",
       "</style>\n",
       "<table border=\"1\" class=\"dataframe\">\n",
       "  <thead>\n",
       "    <tr>\n",
       "      <th></th>\n",
       "      <th colspan=\"13\" halign=\"left\">GENERATION_CAPACITY</th>\n",
       "    </tr>\n",
       "    <tr>\n",
       "      <th>Dim10</th>\n",
       "      <th>BOILERS</th>\n",
       "      <th>CHP-BACK-PRESSURE</th>\n",
       "      <th>CHP-EXTRACTION</th>\n",
       "      <th>CONDENSING</th>\n",
       "      <th>ELECT-TO-HEAT</th>\n",
       "      <th>HYDRO-RUN-OF-RIVER</th>\n",
       "      <th>INTERSEASONAL-HEAT-STORAGE</th>\n",
       "      <th>INTRASEASONAL-ELECT-STORAGE</th>\n",
       "      <th>INTRASEASONAL-HEAT-STORAGE</th>\n",
       "      <th>SOLAR-HEATING</th>\n",
       "      <th>SOLAR-PV</th>\n",
       "      <th>WIND-OFF</th>\n",
       "      <th>WIND-ON</th>\n",
       "    </tr>\n",
       "    <tr>\n",
       "      <th>Dim2</th>\n",
       "      <th></th>\n",
       "      <th></th>\n",
       "      <th></th>\n",
       "      <th></th>\n",
       "      <th></th>\n",
       "      <th></th>\n",
       "      <th></th>\n",
       "      <th></th>\n",
       "      <th></th>\n",
       "      <th></th>\n",
       "      <th></th>\n",
       "      <th></th>\n",
       "      <th></th>\n",
       "    </tr>\n",
       "  </thead>\n",
       "  <tbody>\n",
       "    <tr>\n",
       "      <th>Scenario1</th>\n",
       "      <td>1.690526</td>\n",
       "      <td>23.202771</td>\n",
       "      <td>0.588961</td>\n",
       "      <td>15.099901</td>\n",
       "      <td>2.344929</td>\n",
       "      <td>0.020865</td>\n",
       "      <td>6.921221</td>\n",
       "      <td>5.351014</td>\n",
       "      <td>14.620806</td>\n",
       "      <td>8.640058</td>\n",
       "      <td>41.818506</td>\n",
       "      <td>22.559131</td>\n",
       "      <td>24.000000</td>\n",
       "    </tr>\n",
       "    <tr>\n",
       "      <th>Scenario10</th>\n",
       "      <td>17.240726</td>\n",
       "      <td>9.776967</td>\n",
       "      <td>2.508599</td>\n",
       "      <td>0.149460</td>\n",
       "      <td>14.107220</td>\n",
       "      <td>0.020865</td>\n",
       "      <td>0.000000</td>\n",
       "      <td>0.000000</td>\n",
       "      <td>0.000000</td>\n",
       "      <td>1.648190</td>\n",
       "      <td>1.747898</td>\n",
       "      <td>5.591300</td>\n",
       "      <td>13.210993</td>\n",
       "    </tr>\n",
       "  </tbody>\n",
       "</table>\n",
       "</div>"
      ],
      "text/plain": [
       "           GENERATION_CAPACITY                                              \\\n",
       "Dim10                  BOILERS CHP-BACK-PRESSURE CHP-EXTRACTION CONDENSING   \n",
       "Dim2                                                                         \n",
       "Scenario1             1.690526         23.202771       0.588961  15.099901   \n",
       "Scenario10           17.240726          9.776967       2.508599   0.149460   \n",
       "\n",
       "                                                                        \\\n",
       "Dim10      ELECT-TO-HEAT HYDRO-RUN-OF-RIVER INTERSEASONAL-HEAT-STORAGE   \n",
       "Dim2                                                                     \n",
       "Scenario1       2.344929           0.020865                   6.921221   \n",
       "Scenario10     14.107220           0.020865                   0.000000   \n",
       "\n",
       "                                                                   \\\n",
       "Dim10      INTRASEASONAL-ELECT-STORAGE INTRASEASONAL-HEAT-STORAGE   \n",
       "Dim2                                                                \n",
       "Scenario1                     5.351014                  14.620806   \n",
       "Scenario10                    0.000000                   0.000000   \n",
       "\n",
       "                                                           \n",
       "Dim10      SOLAR-HEATING   SOLAR-PV   WIND-OFF    WIND-ON  \n",
       "Dim2                                                       \n",
       "Scenario1       8.640058  41.818506  22.559131  24.000000  \n",
       "Scenario10      1.648190   1.747898   5.591300  13.210993  "
      ]
     },
     "execution_count": 211,
     "metadata": {},
     "output_type": "execute_result"
    }
   ],
   "source": [
    "# group data frame\n",
    "df11 = df11.groupby(['Dim10','Dim2'])['Val'].sum().unstack().T\n",
    "df11 = df11.fillna(0)\n",
    "df11.columns = pd.MultiIndex.from_product([[lf[11]], df11.columns])\n",
    "df11.head(2)"
   ]
  },
  {
   "cell_type": "markdown",
   "metadata": {},
   "source": [
    "## HEAT_DEMAND"
   ]
  },
  {
   "cell_type": "code",
   "execution_count": 213,
   "metadata": {},
   "outputs": [
    {
     "data": {
      "text/plain": [
       "'HEAT_DEMAND'"
      ]
     },
     "execution_count": 213,
     "metadata": {},
     "output_type": "execute_result"
    }
   ],
   "source": [
    "lf[12]"
   ]
  },
  {
   "cell_type": "code",
   "execution_count": 217,
   "metadata": {},
   "outputs": [
    {
     "data": {
      "text/html": [
       "<div>\n",
       "<style scoped>\n",
       "    .dataframe tbody tr th:only-of-type {\n",
       "        vertical-align: middle;\n",
       "    }\n",
       "\n",
       "    .dataframe tbody tr th {\n",
       "        vertical-align: top;\n",
       "    }\n",
       "\n",
       "    .dataframe thead th {\n",
       "        text-align: right;\n",
       "    }\n",
       "</style>\n",
       "<table border=\"1\" class=\"dataframe\">\n",
       "  <thead>\n",
       "    <tr style=\"text-align: right;\">\n",
       "      <th></th>\n",
       "      <th>Dim1</th>\n",
       "      <th>Dim2</th>\n",
       "      <th>Dim3</th>\n",
       "      <th>Dim4</th>\n",
       "      <th>Dim5</th>\n",
       "      <th>Dim6</th>\n",
       "      <th>Dim7</th>\n",
       "      <th>Dim8</th>\n",
       "      <th>Val</th>\n",
       "    </tr>\n",
       "  </thead>\n",
       "  <tbody>\n",
       "    <tr>\n",
       "      <th>45</th>\n",
       "      <td>ScenarioResults_181_270</td>\n",
       "      <td>Scenario181</td>\n",
       "      <td>2025</td>\n",
       "      <td>DENMARK</td>\n",
       "      <td>DK1</td>\n",
       "      <td>DK1_Large</td>\n",
       "      <td>EXOGENOUS</td>\n",
       "      <td>TWh</td>\n",
       "      <td>8.140747</td>\n",
       "    </tr>\n",
       "    <tr>\n",
       "      <th>46</th>\n",
       "      <td>ScenarioResults_181_270</td>\n",
       "      <td>Scenario181</td>\n",
       "      <td>2025</td>\n",
       "      <td>DENMARK</td>\n",
       "      <td>DK1</td>\n",
       "      <td>DK1_Large</td>\n",
       "      <td>ENDO_INTRASTO</td>\n",
       "      <td>TWh</td>\n",
       "      <td>0.004883</td>\n",
       "    </tr>\n",
       "  </tbody>\n",
       "</table>\n",
       "</div>"
      ],
      "text/plain": [
       "                       Dim1         Dim2  Dim3     Dim4 Dim5       Dim6  \\\n",
       "45  ScenarioResults_181_270  Scenario181  2025  DENMARK  DK1  DK1_Large   \n",
       "46  ScenarioResults_181_270  Scenario181  2025  DENMARK  DK1  DK1_Large   \n",
       "\n",
       "             Dim7 Dim8       Val  \n",
       "45      EXOGENOUS  TWh  8.140747  \n",
       "46  ENDO_INTRASTO  TWh  0.004883  "
      ]
     },
     "execution_count": 217,
     "metadata": {},
     "output_type": "execute_result"
    }
   ],
   "source": [
    "# HEAT_DEMAND\n",
    "df12 = readData(lf[12])\n",
    "df12 = epsToZeros(df12)\n",
    "df12 = filterYearAndCountry(df12,yyy,ccc)\n",
    "df12 = makeValFloat(df12)\n",
    "df12.head(2)"
   ]
  },
  {
   "cell_type": "code",
   "execution_count": 218,
   "metadata": {
    "scrolled": true
   },
   "outputs": [
    {
     "data": {
      "text/html": [
       "<div>\n",
       "<style scoped>\n",
       "    .dataframe tbody tr th:only-of-type {\n",
       "        vertical-align: middle;\n",
       "    }\n",
       "\n",
       "    .dataframe tbody tr th {\n",
       "        vertical-align: top;\n",
       "    }\n",
       "\n",
       "    .dataframe thead tr th {\n",
       "        text-align: left;\n",
       "    }\n",
       "\n",
       "    .dataframe thead tr:last-of-type th {\n",
       "        text-align: right;\n",
       "    }\n",
       "</style>\n",
       "<table border=\"1\" class=\"dataframe\">\n",
       "  <thead>\n",
       "    <tr>\n",
       "      <th></th>\n",
       "      <th colspan=\"3\" halign=\"left\">HEAT_DEMAND</th>\n",
       "    </tr>\n",
       "    <tr>\n",
       "      <th>Dim7</th>\n",
       "      <th>ENDO_INTERSTO</th>\n",
       "      <th>ENDO_INTRASTO</th>\n",
       "      <th>EXOGENOUS</th>\n",
       "    </tr>\n",
       "    <tr>\n",
       "      <th>Dim2</th>\n",
       "      <th></th>\n",
       "      <th></th>\n",
       "      <th></th>\n",
       "    </tr>\n",
       "  </thead>\n",
       "  <tbody>\n",
       "    <tr>\n",
       "      <th>Scenario1</th>\n",
       "      <td>4.652332</td>\n",
       "      <td>0.298073</td>\n",
       "      <td>149.765004</td>\n",
       "    </tr>\n",
       "    <tr>\n",
       "      <th>Scenario10</th>\n",
       "      <td>0.000000</td>\n",
       "      <td>0.000000</td>\n",
       "      <td>149.765004</td>\n",
       "    </tr>\n",
       "  </tbody>\n",
       "</table>\n",
       "</div>"
      ],
      "text/plain": [
       "             HEAT_DEMAND                          \n",
       "Dim7       ENDO_INTERSTO ENDO_INTRASTO   EXOGENOUS\n",
       "Dim2                                              \n",
       "Scenario1       4.652332      0.298073  149.765004\n",
       "Scenario10      0.000000      0.000000  149.765004"
      ]
     },
     "execution_count": 218,
     "metadata": {},
     "output_type": "execute_result"
    }
   ],
   "source": [
    "# group data frame\n",
    "df12 = df12.groupby(['Dim7','Dim2'])['Val'].sum().unstack().T\n",
    "df12 = df12.fillna(0)\n",
    "df12.columns = pd.MultiIndex.from_product([[lf[12]], df12.columns])\n",
    "df12.head(2)"
   ]
  },
  {
   "cell_type": "markdown",
   "metadata": {},
   "source": [
    "## HEAT_PRICE"
   ]
  },
  {
   "cell_type": "code",
   "execution_count": 219,
   "metadata": {},
   "outputs": [
    {
     "data": {
      "text/plain": [
       "'HEAT_PRICE'"
      ]
     },
     "execution_count": 219,
     "metadata": {},
     "output_type": "execute_result"
    }
   ],
   "source": [
    "lf[13]"
   ]
  },
  {
   "cell_type": "code",
   "execution_count": 224,
   "metadata": {},
   "outputs": [
    {
     "data": {
      "text/html": [
       "<div>\n",
       "<style scoped>\n",
       "    .dataframe tbody tr th:only-of-type {\n",
       "        vertical-align: middle;\n",
       "    }\n",
       "\n",
       "    .dataframe tbody tr th {\n",
       "        vertical-align: top;\n",
       "    }\n",
       "\n",
       "    .dataframe thead th {\n",
       "        text-align: right;\n",
       "    }\n",
       "</style>\n",
       "<table border=\"1\" class=\"dataframe\">\n",
       "  <thead>\n",
       "    <tr style=\"text-align: right;\">\n",
       "      <th></th>\n",
       "      <th>Dim1</th>\n",
       "      <th>Dim2</th>\n",
       "      <th>Dim3</th>\n",
       "      <th>Dim4</th>\n",
       "      <th>Dim5</th>\n",
       "      <th>Dim6</th>\n",
       "      <th>Dim7</th>\n",
       "      <th>Dim8</th>\n",
       "      <th>Val</th>\n",
       "    </tr>\n",
       "  </thead>\n",
       "  <tbody>\n",
       "    <tr>\n",
       "      <th>27</th>\n",
       "      <td>ScenarioResults_181_270</td>\n",
       "      <td>Scenario181</td>\n",
       "      <td>2025</td>\n",
       "      <td>DENMARK</td>\n",
       "      <td>DK1</td>\n",
       "      <td>DK1_Large</td>\n",
       "      <td>AVERAGE</td>\n",
       "      <td>Money_per_MWh</td>\n",
       "      <td>49.833987</td>\n",
       "    </tr>\n",
       "    <tr>\n",
       "      <th>28</th>\n",
       "      <td>ScenarioResults_181_270</td>\n",
       "      <td>Scenario181</td>\n",
       "      <td>2025</td>\n",
       "      <td>DENMARK</td>\n",
       "      <td>DK1</td>\n",
       "      <td>DK1_Rural</td>\n",
       "      <td>AVERAGE</td>\n",
       "      <td>Money_per_MWh</td>\n",
       "      <td>46.933958</td>\n",
       "    </tr>\n",
       "  </tbody>\n",
       "</table>\n",
       "</div>"
      ],
      "text/plain": [
       "                       Dim1         Dim2  Dim3     Dim4 Dim5       Dim6  \\\n",
       "27  ScenarioResults_181_270  Scenario181  2025  DENMARK  DK1  DK1_Large   \n",
       "28  ScenarioResults_181_270  Scenario181  2025  DENMARK  DK1  DK1_Rural   \n",
       "\n",
       "       Dim7           Dim8        Val  \n",
       "27  AVERAGE  Money_per_MWh  49.833987  \n",
       "28  AVERAGE  Money_per_MWh  46.933958  "
      ]
     },
     "execution_count": 224,
     "metadata": {},
     "output_type": "execute_result"
    }
   ],
   "source": [
    "# HEAT_PRICE\n",
    "df13 = readData(lf[13])\n",
    "df13 = epsToZeros(df13)\n",
    "df13 = filterYearAndCountry(df13,yyy,ccc)\n",
    "df13 = makeValFloat(df13)\n",
    "df13.head(2)"
   ]
  },
  {
   "cell_type": "code",
   "execution_count": 225,
   "metadata": {
    "scrolled": true
   },
   "outputs": [
    {
     "data": {
      "text/html": [
       "<div>\n",
       "<style scoped>\n",
       "    .dataframe tbody tr th:only-of-type {\n",
       "        vertical-align: middle;\n",
       "    }\n",
       "\n",
       "    .dataframe tbody tr th {\n",
       "        vertical-align: top;\n",
       "    }\n",
       "\n",
       "    .dataframe thead tr th {\n",
       "        text-align: left;\n",
       "    }\n",
       "\n",
       "    .dataframe thead tr:last-of-type th {\n",
       "        text-align: right;\n",
       "    }\n",
       "</style>\n",
       "<table border=\"1\" class=\"dataframe\">\n",
       "  <thead>\n",
       "    <tr>\n",
       "      <th></th>\n",
       "      <th>HEAT_PRICE</th>\n",
       "    </tr>\n",
       "    <tr>\n",
       "      <th>Dim7</th>\n",
       "      <th>AVERAGE</th>\n",
       "    </tr>\n",
       "    <tr>\n",
       "      <th>Dim2</th>\n",
       "      <th></th>\n",
       "    </tr>\n",
       "  </thead>\n",
       "  <tbody>\n",
       "    <tr>\n",
       "      <th>Scenario1</th>\n",
       "      <td>29.245563</td>\n",
       "    </tr>\n",
       "    <tr>\n",
       "      <th>Scenario10</th>\n",
       "      <td>43.473431</td>\n",
       "    </tr>\n",
       "  </tbody>\n",
       "</table>\n",
       "</div>"
      ],
      "text/plain": [
       "           HEAT_PRICE\n",
       "Dim7          AVERAGE\n",
       "Dim2                 \n",
       "Scenario1   29.245563\n",
       "Scenario10  43.473431"
      ]
     },
     "execution_count": 225,
     "metadata": {},
     "output_type": "execute_result"
    }
   ],
   "source": [
    "# group data frame\n",
    "df13 = df13.groupby(['Dim7','Dim2'])['Val'].mean().unstack().T\n",
    "df13 = df13.fillna(0)\n",
    "df13.columns = pd.MultiIndex.from_product([[lf[13]], df13.columns])\n",
    "df13.head(2)"
   ]
  },
  {
   "cell_type": "markdown",
   "metadata": {},
   "source": [
    "## HEAT_PRICE_HOURLY"
   ]
  },
  {
   "cell_type": "code",
   "execution_count": 226,
   "metadata": {},
   "outputs": [
    {
     "data": {
      "text/plain": [
       "'HEAT_PRICE_HOURLY'"
      ]
     },
     "execution_count": 226,
     "metadata": {},
     "output_type": "execute_result"
    }
   ],
   "source": [
    "lf[14]"
   ]
  },
  {
   "cell_type": "code",
   "execution_count": 230,
   "metadata": {
    "scrolled": true
   },
   "outputs": [
    {
     "ename": "ParserError",
     "evalue": "Error tokenizing data. C error: out of memory",
     "output_type": "error",
     "traceback": [
      "\u001b[1;31m---------------------------------------------------------------------------\u001b[0m",
      "\u001b[1;31mParserError\u001b[0m                               Traceback (most recent call last)",
      "\u001b[1;32m<ipython-input-230-de17d2a2e890>\u001b[0m in \u001b[0;36m<module>\u001b[1;34m\u001b[0m\n\u001b[0;32m      1\u001b[0m \u001b[1;31m# EMISSIONS_CO2\u001b[0m\u001b[1;33m\u001b[0m\u001b[1;33m\u001b[0m\u001b[1;33m\u001b[0m\u001b[0m\n\u001b[1;32m----> 2\u001b[1;33m \u001b[0mdf14\u001b[0m \u001b[1;33m=\u001b[0m \u001b[0mreadData\u001b[0m\u001b[1;33m(\u001b[0m\u001b[0mlf\u001b[0m\u001b[1;33m[\u001b[0m\u001b[1;36m14\u001b[0m\u001b[1;33m]\u001b[0m\u001b[1;33m)\u001b[0m\u001b[1;33m\u001b[0m\u001b[1;33m\u001b[0m\u001b[0m\n\u001b[0m\u001b[0;32m      3\u001b[0m \u001b[0mdf14\u001b[0m \u001b[1;33m=\u001b[0m \u001b[0mepsToZeros\u001b[0m\u001b[1;33m(\u001b[0m\u001b[0mdf14\u001b[0m\u001b[1;33m)\u001b[0m\u001b[1;33m\u001b[0m\u001b[1;33m\u001b[0m\u001b[0m\n\u001b[0;32m      4\u001b[0m \u001b[0mdf14\u001b[0m \u001b[1;33m=\u001b[0m \u001b[0mfilterYearAndCountry\u001b[0m\u001b[1;33m(\u001b[0m\u001b[0mdf14\u001b[0m\u001b[1;33m,\u001b[0m\u001b[0myyy\u001b[0m\u001b[1;33m,\u001b[0m\u001b[0mccc\u001b[0m\u001b[1;33m)\u001b[0m\u001b[1;33m\u001b[0m\u001b[1;33m\u001b[0m\u001b[0m\n\u001b[0;32m      5\u001b[0m \u001b[0mdf14\u001b[0m \u001b[1;33m=\u001b[0m \u001b[0mmakeValFloat\u001b[0m\u001b[1;33m(\u001b[0m\u001b[0mdf14\u001b[0m\u001b[1;33m)\u001b[0m\u001b[1;33m\u001b[0m\u001b[1;33m\u001b[0m\u001b[0m\n",
      "\u001b[1;32m<ipython-input-20-58c5f9f99ab0>\u001b[0m in \u001b[0;36mreadData\u001b[1;34m(f)\u001b[0m\n\u001b[0;32m      1\u001b[0m \u001b[1;32mdef\u001b[0m \u001b[0mreadData\u001b[0m\u001b[1;33m(\u001b[0m\u001b[0mf\u001b[0m\u001b[1;33m)\u001b[0m\u001b[1;33m:\u001b[0m\u001b[1;33m\u001b[0m\u001b[1;33m\u001b[0m\u001b[0m\n\u001b[1;32m----> 2\u001b[1;33m     \u001b[1;32mreturn\u001b[0m \u001b[0mpd\u001b[0m\u001b[1;33m.\u001b[0m\u001b[0mread_csv\u001b[0m\u001b[1;33m(\u001b[0m\u001b[1;34m'data/'\u001b[0m \u001b[1;33m+\u001b[0m \u001b[0mf\u001b[0m \u001b[1;33m+\u001b[0m \u001b[1;34m'.csv'\u001b[0m\u001b[1;33m,\u001b[0m \u001b[0mencoding\u001b[0m\u001b[1;33m=\u001b[0m\u001b[1;34m'utf8'\u001b[0m\u001b[1;33m,\u001b[0m \u001b[0mengine\u001b[0m\u001b[1;33m=\u001b[0m\u001b[1;34m'c'\u001b[0m\u001b[1;33m,\u001b[0m \u001b[0mlow_memory\u001b[0m\u001b[1;33m=\u001b[0m\u001b[1;32mFalse\u001b[0m\u001b[1;33m)\u001b[0m\u001b[1;33m\u001b[0m\u001b[1;33m\u001b[0m\u001b[0m\n\u001b[0m",
      "\u001b[1;32m~\\AppData\\Local\\Continuum\\miniconda3\\envs\\flexsus\\lib\\site-packages\\pandas\\io\\parsers.py\u001b[0m in \u001b[0;36mparser_f\u001b[1;34m(filepath_or_buffer, sep, delimiter, header, names, index_col, usecols, squeeze, prefix, mangle_dupe_cols, dtype, engine, converters, true_values, false_values, skipinitialspace, skiprows, skipfooter, nrows, na_values, keep_default_na, na_filter, verbose, skip_blank_lines, parse_dates, infer_datetime_format, keep_date_col, date_parser, dayfirst, cache_dates, iterator, chunksize, compression, thousands, decimal, lineterminator, quotechar, quoting, doublequote, escapechar, comment, encoding, dialect, error_bad_lines, warn_bad_lines, delim_whitespace, low_memory, memory_map, float_precision)\u001b[0m\n\u001b[0;32m    674\u001b[0m         )\n\u001b[0;32m    675\u001b[0m \u001b[1;33m\u001b[0m\u001b[0m\n\u001b[1;32m--> 676\u001b[1;33m         \u001b[1;32mreturn\u001b[0m \u001b[0m_read\u001b[0m\u001b[1;33m(\u001b[0m\u001b[0mfilepath_or_buffer\u001b[0m\u001b[1;33m,\u001b[0m \u001b[0mkwds\u001b[0m\u001b[1;33m)\u001b[0m\u001b[1;33m\u001b[0m\u001b[1;33m\u001b[0m\u001b[0m\n\u001b[0m\u001b[0;32m    677\u001b[0m \u001b[1;33m\u001b[0m\u001b[0m\n\u001b[0;32m    678\u001b[0m     \u001b[0mparser_f\u001b[0m\u001b[1;33m.\u001b[0m\u001b[0m__name__\u001b[0m \u001b[1;33m=\u001b[0m \u001b[0mname\u001b[0m\u001b[1;33m\u001b[0m\u001b[1;33m\u001b[0m\u001b[0m\n",
      "\u001b[1;32m~\\AppData\\Local\\Continuum\\miniconda3\\envs\\flexsus\\lib\\site-packages\\pandas\\io\\parsers.py\u001b[0m in \u001b[0;36m_read\u001b[1;34m(filepath_or_buffer, kwds)\u001b[0m\n\u001b[0;32m    452\u001b[0m \u001b[1;33m\u001b[0m\u001b[0m\n\u001b[0;32m    453\u001b[0m     \u001b[1;32mtry\u001b[0m\u001b[1;33m:\u001b[0m\u001b[1;33m\u001b[0m\u001b[1;33m\u001b[0m\u001b[0m\n\u001b[1;32m--> 454\u001b[1;33m         \u001b[0mdata\u001b[0m \u001b[1;33m=\u001b[0m \u001b[0mparser\u001b[0m\u001b[1;33m.\u001b[0m\u001b[0mread\u001b[0m\u001b[1;33m(\u001b[0m\u001b[0mnrows\u001b[0m\u001b[1;33m)\u001b[0m\u001b[1;33m\u001b[0m\u001b[1;33m\u001b[0m\u001b[0m\n\u001b[0m\u001b[0;32m    455\u001b[0m     \u001b[1;32mfinally\u001b[0m\u001b[1;33m:\u001b[0m\u001b[1;33m\u001b[0m\u001b[1;33m\u001b[0m\u001b[0m\n\u001b[0;32m    456\u001b[0m         \u001b[0mparser\u001b[0m\u001b[1;33m.\u001b[0m\u001b[0mclose\u001b[0m\u001b[1;33m(\u001b[0m\u001b[1;33m)\u001b[0m\u001b[1;33m\u001b[0m\u001b[1;33m\u001b[0m\u001b[0m\n",
      "\u001b[1;32m~\\AppData\\Local\\Continuum\\miniconda3\\envs\\flexsus\\lib\\site-packages\\pandas\\io\\parsers.py\u001b[0m in \u001b[0;36mread\u001b[1;34m(self, nrows)\u001b[0m\n\u001b[0;32m   1131\u001b[0m     \u001b[1;32mdef\u001b[0m \u001b[0mread\u001b[0m\u001b[1;33m(\u001b[0m\u001b[0mself\u001b[0m\u001b[1;33m,\u001b[0m \u001b[0mnrows\u001b[0m\u001b[1;33m=\u001b[0m\u001b[1;32mNone\u001b[0m\u001b[1;33m)\u001b[0m\u001b[1;33m:\u001b[0m\u001b[1;33m\u001b[0m\u001b[1;33m\u001b[0m\u001b[0m\n\u001b[0;32m   1132\u001b[0m         \u001b[0mnrows\u001b[0m \u001b[1;33m=\u001b[0m \u001b[0m_validate_integer\u001b[0m\u001b[1;33m(\u001b[0m\u001b[1;34m\"nrows\"\u001b[0m\u001b[1;33m,\u001b[0m \u001b[0mnrows\u001b[0m\u001b[1;33m)\u001b[0m\u001b[1;33m\u001b[0m\u001b[1;33m\u001b[0m\u001b[0m\n\u001b[1;32m-> 1133\u001b[1;33m         \u001b[0mret\u001b[0m \u001b[1;33m=\u001b[0m \u001b[0mself\u001b[0m\u001b[1;33m.\u001b[0m\u001b[0m_engine\u001b[0m\u001b[1;33m.\u001b[0m\u001b[0mread\u001b[0m\u001b[1;33m(\u001b[0m\u001b[0mnrows\u001b[0m\u001b[1;33m)\u001b[0m\u001b[1;33m\u001b[0m\u001b[1;33m\u001b[0m\u001b[0m\n\u001b[0m\u001b[0;32m   1134\u001b[0m \u001b[1;33m\u001b[0m\u001b[0m\n\u001b[0;32m   1135\u001b[0m         \u001b[1;31m# May alter columns / col_dict\u001b[0m\u001b[1;33m\u001b[0m\u001b[1;33m\u001b[0m\u001b[1;33m\u001b[0m\u001b[0m\n",
      "\u001b[1;32m~\\AppData\\Local\\Continuum\\miniconda3\\envs\\flexsus\\lib\\site-packages\\pandas\\io\\parsers.py\u001b[0m in \u001b[0;36mread\u001b[1;34m(self, nrows)\u001b[0m\n\u001b[0;32m   2035\u001b[0m     \u001b[1;32mdef\u001b[0m \u001b[0mread\u001b[0m\u001b[1;33m(\u001b[0m\u001b[0mself\u001b[0m\u001b[1;33m,\u001b[0m \u001b[0mnrows\u001b[0m\u001b[1;33m=\u001b[0m\u001b[1;32mNone\u001b[0m\u001b[1;33m)\u001b[0m\u001b[1;33m:\u001b[0m\u001b[1;33m\u001b[0m\u001b[1;33m\u001b[0m\u001b[0m\n\u001b[0;32m   2036\u001b[0m         \u001b[1;32mtry\u001b[0m\u001b[1;33m:\u001b[0m\u001b[1;33m\u001b[0m\u001b[1;33m\u001b[0m\u001b[0m\n\u001b[1;32m-> 2037\u001b[1;33m             \u001b[0mdata\u001b[0m \u001b[1;33m=\u001b[0m \u001b[0mself\u001b[0m\u001b[1;33m.\u001b[0m\u001b[0m_reader\u001b[0m\u001b[1;33m.\u001b[0m\u001b[0mread\u001b[0m\u001b[1;33m(\u001b[0m\u001b[0mnrows\u001b[0m\u001b[1;33m)\u001b[0m\u001b[1;33m\u001b[0m\u001b[1;33m\u001b[0m\u001b[0m\n\u001b[0m\u001b[0;32m   2038\u001b[0m         \u001b[1;32mexcept\u001b[0m \u001b[0mStopIteration\u001b[0m\u001b[1;33m:\u001b[0m\u001b[1;33m\u001b[0m\u001b[1;33m\u001b[0m\u001b[0m\n\u001b[0;32m   2039\u001b[0m             \u001b[1;32mif\u001b[0m \u001b[0mself\u001b[0m\u001b[1;33m.\u001b[0m\u001b[0m_first_chunk\u001b[0m\u001b[1;33m:\u001b[0m\u001b[1;33m\u001b[0m\u001b[1;33m\u001b[0m\u001b[0m\n",
      "\u001b[1;32mpandas\\_libs\\parsers.pyx\u001b[0m in \u001b[0;36mpandas._libs.parsers.TextReader.read\u001b[1;34m()\u001b[0m\n",
      "\u001b[1;32mpandas\\_libs\\parsers.pyx\u001b[0m in \u001b[0;36mpandas._libs.parsers.TextReader._read_rows\u001b[1;34m()\u001b[0m\n",
      "\u001b[1;32mpandas\\_libs\\parsers.pyx\u001b[0m in \u001b[0;36mpandas._libs.parsers.raise_parser_error\u001b[1;34m()\u001b[0m\n",
      "\u001b[1;31mParserError\u001b[0m: Error tokenizing data. C error: out of memory"
     ]
    }
   ],
   "source": [
    "# EMISSIONS_CO2\n",
    "df14 = readData(lf[14])\n",
    "df14 = epsToZeros(df14)\n",
    "df14 = filterYearAndCountry(df14,yyy,ccc)\n",
    "df14 = makeValFloat(df14)\n",
    "df14.head(2)"
   ]
  },
  {
   "cell_type": "code",
   "execution_count": 225,
   "metadata": {
    "scrolled": true
   },
   "outputs": [
    {
     "data": {
      "text/html": [
       "<div>\n",
       "<style scoped>\n",
       "    .dataframe tbody tr th:only-of-type {\n",
       "        vertical-align: middle;\n",
       "    }\n",
       "\n",
       "    .dataframe tbody tr th {\n",
       "        vertical-align: top;\n",
       "    }\n",
       "\n",
       "    .dataframe thead tr th {\n",
       "        text-align: left;\n",
       "    }\n",
       "\n",
       "    .dataframe thead tr:last-of-type th {\n",
       "        text-align: right;\n",
       "    }\n",
       "</style>\n",
       "<table border=\"1\" class=\"dataframe\">\n",
       "  <thead>\n",
       "    <tr>\n",
       "      <th></th>\n",
       "      <th>HEAT_PRICE</th>\n",
       "    </tr>\n",
       "    <tr>\n",
       "      <th>Dim7</th>\n",
       "      <th>AVERAGE</th>\n",
       "    </tr>\n",
       "    <tr>\n",
       "      <th>Dim2</th>\n",
       "      <th></th>\n",
       "    </tr>\n",
       "  </thead>\n",
       "  <tbody>\n",
       "    <tr>\n",
       "      <th>Scenario1</th>\n",
       "      <td>29.245563</td>\n",
       "    </tr>\n",
       "    <tr>\n",
       "      <th>Scenario10</th>\n",
       "      <td>43.473431</td>\n",
       "    </tr>\n",
       "  </tbody>\n",
       "</table>\n",
       "</div>"
      ],
      "text/plain": [
       "           HEAT_PRICE\n",
       "Dim7          AVERAGE\n",
       "Dim2                 \n",
       "Scenario1   29.245563\n",
       "Scenario10  43.473431"
      ]
     },
     "execution_count": 225,
     "metadata": {},
     "output_type": "execute_result"
    }
   ],
   "source": [
    "# group data frame\n",
    "df14 = df14.groupby(['Dim7','Dim2'])['Val'].mean().unstack().T\n",
    "df14 = df14.fillna(0)\n",
    "df14.columns = pd.MultiIndex.from_product([[lf[14]], df14.columns])\n",
    "df14.head(2)"
   ]
  },
  {
   "cell_type": "markdown",
   "metadata": {},
   "source": [
    "## HEAT_TRANSMISSION_CAPACITY"
   ]
  },
  {
   "cell_type": "code",
   "execution_count": 231,
   "metadata": {},
   "outputs": [
    {
     "data": {
      "text/plain": [
       "'HEAT_TRANSMISSION_CAPACITY'"
      ]
     },
     "execution_count": 231,
     "metadata": {},
     "output_type": "execute_result"
    }
   ],
   "source": [
    "lf[15]"
   ]
  },
  {
   "cell_type": "code",
   "execution_count": 241,
   "metadata": {
    "scrolled": true
   },
   "outputs": [
    {
     "data": {
      "text/html": [
       "<div>\n",
       "<style scoped>\n",
       "    .dataframe tbody tr th:only-of-type {\n",
       "        vertical-align: middle;\n",
       "    }\n",
       "\n",
       "    .dataframe tbody tr th {\n",
       "        vertical-align: top;\n",
       "    }\n",
       "\n",
       "    .dataframe thead th {\n",
       "        text-align: right;\n",
       "    }\n",
       "</style>\n",
       "<table border=\"1\" class=\"dataframe\">\n",
       "  <thead>\n",
       "    <tr style=\"text-align: right;\">\n",
       "      <th></th>\n",
       "      <th>Dim1</th>\n",
       "      <th>Dim2</th>\n",
       "      <th>Dim3</th>\n",
       "      <th>Dim4</th>\n",
       "      <th>Dim5</th>\n",
       "      <th>Dim6</th>\n",
       "      <th>Dim7</th>\n",
       "      <th>Dim8</th>\n",
       "      <th>Val</th>\n",
       "      <th>direction</th>\n",
       "    </tr>\n",
       "  </thead>\n",
       "  <tbody>\n",
       "    <tr>\n",
       "      <th>20</th>\n",
       "      <td>ScenarioResults_181_270</td>\n",
       "      <td>Scenario181</td>\n",
       "      <td>2025</td>\n",
       "      <td>DENMARK</td>\n",
       "      <td>DK1_Large</td>\n",
       "      <td>DK1_IND-LT-DH</td>\n",
       "      <td>EXOGENOUS</td>\n",
       "      <td>GW</td>\n",
       "      <td>0.257</td>\n",
       "      <td>DK1_DK1</td>\n",
       "    </tr>\n",
       "    <tr>\n",
       "      <th>21</th>\n",
       "      <td>ScenarioResults_181_270</td>\n",
       "      <td>Scenario181</td>\n",
       "      <td>2025</td>\n",
       "      <td>DENMARK</td>\n",
       "      <td>DK1_IND-HT-NODH</td>\n",
       "      <td>DK1_IND-LT-NODH</td>\n",
       "      <td>EXOGENOUS</td>\n",
       "      <td>GW</td>\n",
       "      <td>1000.000</td>\n",
       "      <td>DK1_DK1</td>\n",
       "    </tr>\n",
       "  </tbody>\n",
       "</table>\n",
       "</div>"
      ],
      "text/plain": [
       "                       Dim1         Dim2  Dim3     Dim4             Dim5  \\\n",
       "20  ScenarioResults_181_270  Scenario181  2025  DENMARK        DK1_Large   \n",
       "21  ScenarioResults_181_270  Scenario181  2025  DENMARK  DK1_IND-HT-NODH   \n",
       "\n",
       "               Dim6       Dim7 Dim8       Val direction  \n",
       "20    DK1_IND-LT-DH  EXOGENOUS   GW     0.257   DK1_DK1  \n",
       "21  DK1_IND-LT-NODH  EXOGENOUS   GW  1000.000   DK1_DK1  "
      ]
     },
     "execution_count": 241,
     "metadata": {},
     "output_type": "execute_result"
    }
   ],
   "source": [
    "# EMISSIONS_CO2\n",
    "df15 = readData(lf[15])\n",
    "df15 = epsToZeros(df15)\n",
    "df15 = filterYearAndCountry(df15,yyy,ccc)\n",
    "df15 = makeValFloat(df15)\n",
    "df15['direction'] = df15.Dim5.str.split('_').str[0] + '_' + df15.Dim6.str.split('_').str[0]\n",
    "df15.head(2)"
   ]
  },
  {
   "cell_type": "code",
   "execution_count": 242,
   "metadata": {
    "scrolled": true
   },
   "outputs": [
    {
     "data": {
      "text/html": [
       "<div>\n",
       "<style scoped>\n",
       "    .dataframe tbody tr th:only-of-type {\n",
       "        vertical-align: middle;\n",
       "    }\n",
       "\n",
       "    .dataframe tbody tr th {\n",
       "        vertical-align: top;\n",
       "    }\n",
       "\n",
       "    .dataframe thead tr th {\n",
       "        text-align: left;\n",
       "    }\n",
       "\n",
       "    .dataframe thead tr:last-of-type th {\n",
       "        text-align: right;\n",
       "    }\n",
       "</style>\n",
       "<table border=\"1\" class=\"dataframe\">\n",
       "  <thead>\n",
       "    <tr>\n",
       "      <th></th>\n",
       "      <th colspan=\"2\" halign=\"left\">HEAT_TRANSMISSION_CAPACITY</th>\n",
       "    </tr>\n",
       "    <tr>\n",
       "      <th>direction</th>\n",
       "      <th>DK1_DK1</th>\n",
       "      <th>DK2_DK2</th>\n",
       "    </tr>\n",
       "    <tr>\n",
       "      <th>Dim2</th>\n",
       "      <th></th>\n",
       "      <th></th>\n",
       "    </tr>\n",
       "  </thead>\n",
       "  <tbody>\n",
       "    <tr>\n",
       "      <th>Scenario1</th>\n",
       "      <td>6001.542</td>\n",
       "      <td>6001.056</td>\n",
       "    </tr>\n",
       "    <tr>\n",
       "      <th>Scenario10</th>\n",
       "      <td>6001.542</td>\n",
       "      <td>6001.056</td>\n",
       "    </tr>\n",
       "  </tbody>\n",
       "</table>\n",
       "</div>"
      ],
      "text/plain": [
       "           HEAT_TRANSMISSION_CAPACITY          \n",
       "direction                     DK1_DK1   DK2_DK2\n",
       "Dim2                                           \n",
       "Scenario1                    6001.542  6001.056\n",
       "Scenario10                   6001.542  6001.056"
      ]
     },
     "execution_count": 242,
     "metadata": {},
     "output_type": "execute_result"
    }
   ],
   "source": [
    "# group data frame\n",
    "df15 = df15.groupby(['direction','Dim2'])['Val'].sum().unstack().T\n",
    "df15 = df15.fillna(0)\n",
    "df15.columns = pd.MultiIndex.from_product([[lf[15]], df15.columns])\n",
    "df15.head(2)"
   ]
  },
  {
   "cell_type": "markdown",
   "metadata": {},
   "source": [
    "## HEAT_TRANSMISSION_FLOW"
   ]
  },
  {
   "cell_type": "code",
   "execution_count": 243,
   "metadata": {},
   "outputs": [
    {
     "data": {
      "text/plain": [
       "'HEAT_TRANSMISSION_FLOW'"
      ]
     },
     "execution_count": 243,
     "metadata": {},
     "output_type": "execute_result"
    }
   ],
   "source": [
    "lf[16]"
   ]
  },
  {
   "cell_type": "code",
   "execution_count": 251,
   "metadata": {
    "scrolled": true
   },
   "outputs": [
    {
     "data": {
      "text/html": [
       "<div>\n",
       "<style scoped>\n",
       "    .dataframe tbody tr th:only-of-type {\n",
       "        vertical-align: middle;\n",
       "    }\n",
       "\n",
       "    .dataframe tbody tr th {\n",
       "        vertical-align: top;\n",
       "    }\n",
       "\n",
       "    .dataframe thead th {\n",
       "        text-align: right;\n",
       "    }\n",
       "</style>\n",
       "<table border=\"1\" class=\"dataframe\">\n",
       "  <thead>\n",
       "    <tr style=\"text-align: right;\">\n",
       "      <th></th>\n",
       "      <th>Dim1</th>\n",
       "      <th>Dim2</th>\n",
       "      <th>Dim3</th>\n",
       "      <th>Dim4</th>\n",
       "      <th>Dim5</th>\n",
       "      <th>Dim6</th>\n",
       "      <th>Dim7</th>\n",
       "      <th>Val</th>\n",
       "      <th>direction</th>\n",
       "    </tr>\n",
       "  </thead>\n",
       "  <tbody>\n",
       "    <tr>\n",
       "      <th>16</th>\n",
       "      <td>ScenarioResults_181_270</td>\n",
       "      <td>Scenario181</td>\n",
       "      <td>2025</td>\n",
       "      <td>DENMARK</td>\n",
       "      <td>DK1_Large</td>\n",
       "      <td>DK1_IND-LT-DH</td>\n",
       "      <td>TWh</td>\n",
       "      <td>0.010155</td>\n",
       "      <td>DK1_Large_DK1_IND-LT-DH</td>\n",
       "    </tr>\n",
       "    <tr>\n",
       "      <th>17</th>\n",
       "      <td>ScenarioResults_181_270</td>\n",
       "      <td>Scenario181</td>\n",
       "      <td>2025</td>\n",
       "      <td>DENMARK</td>\n",
       "      <td>DK1_IND-HT-NODH</td>\n",
       "      <td>DK1_IND-LT-NODH</td>\n",
       "      <td>TWh</td>\n",
       "      <td>2.206051</td>\n",
       "      <td>DK1_IND-HT-NODH_DK1_IND-LT-NODH</td>\n",
       "    </tr>\n",
       "  </tbody>\n",
       "</table>\n",
       "</div>"
      ],
      "text/plain": [
       "                       Dim1         Dim2  Dim3     Dim4             Dim5  \\\n",
       "16  ScenarioResults_181_270  Scenario181  2025  DENMARK        DK1_Large   \n",
       "17  ScenarioResults_181_270  Scenario181  2025  DENMARK  DK1_IND-HT-NODH   \n",
       "\n",
       "               Dim6 Dim7       Val                        direction  \n",
       "16    DK1_IND-LT-DH  TWh  0.010155          DK1_Large_DK1_IND-LT-DH  \n",
       "17  DK1_IND-LT-NODH  TWh  2.206051  DK1_IND-HT-NODH_DK1_IND-LT-NODH  "
      ]
     },
     "execution_count": 251,
     "metadata": {},
     "output_type": "execute_result"
    }
   ],
   "source": [
    "# EMISSIONS_CO2\n",
    "df16 = readData(lf[16])\n",
    "df16 = epsToZeros(df16)\n",
    "df16 = filterYearAndCountry(df16,yyy,{})\n",
    "df16 = makeValFloat(df16)\n",
    "df16['direction'] = df16.Dim5.str.split('_').str[0] + '_' + df16.Dim6.str.split('_').str[0]\n",
    "df16['direction'] = df16.Dim5 + '_' + df16.Dim6\n",
    "df16 = df16.loc[(df16.direction.str.contains('|'.join(rrr))==True), :]\n",
    "df16.head(2)"
   ]
  },
  {
   "cell_type": "code",
   "execution_count": 252,
   "metadata": {
    "scrolled": true
   },
   "outputs": [
    {
     "data": {
      "text/html": [
       "<div>\n",
       "<style scoped>\n",
       "    .dataframe tbody tr th:only-of-type {\n",
       "        vertical-align: middle;\n",
       "    }\n",
       "\n",
       "    .dataframe tbody tr th {\n",
       "        vertical-align: top;\n",
       "    }\n",
       "\n",
       "    .dataframe thead tr th {\n",
       "        text-align: left;\n",
       "    }\n",
       "\n",
       "    .dataframe thead tr:last-of-type th {\n",
       "        text-align: right;\n",
       "    }\n",
       "</style>\n",
       "<table border=\"1\" class=\"dataframe\">\n",
       "  <thead>\n",
       "    <tr>\n",
       "      <th></th>\n",
       "      <th colspan=\"6\" halign=\"left\">HEAT_TRANSMISSION_FLOW</th>\n",
       "    </tr>\n",
       "    <tr>\n",
       "      <th>Dim6</th>\n",
       "      <th>DK1_IND-LT-DH</th>\n",
       "      <th>DK1_IND-LT-NODH</th>\n",
       "      <th>DK1_Large</th>\n",
       "      <th>DK2_IND-LT-DH</th>\n",
       "      <th>DK2_IND-LT-NODH</th>\n",
       "      <th>DK2_Large</th>\n",
       "    </tr>\n",
       "    <tr>\n",
       "      <th>Dim2</th>\n",
       "      <th></th>\n",
       "      <th></th>\n",
       "      <th></th>\n",
       "      <th></th>\n",
       "      <th></th>\n",
       "      <th></th>\n",
       "    </tr>\n",
       "  </thead>\n",
       "  <tbody>\n",
       "    <tr>\n",
       "      <th>Scenario1</th>\n",
       "      <td>2.902567</td>\n",
       "      <td>8.551676</td>\n",
       "      <td>0.380031</td>\n",
       "      <td>1.922255</td>\n",
       "      <td>5.848884</td>\n",
       "      <td>0.181006</td>\n",
       "    </tr>\n",
       "    <tr>\n",
       "      <th>Scenario10</th>\n",
       "      <td>2.551515</td>\n",
       "      <td>1.588260</td>\n",
       "      <td>2.254063</td>\n",
       "      <td>1.631079</td>\n",
       "      <td>1.355724</td>\n",
       "      <td>1.350027</td>\n",
       "    </tr>\n",
       "  </tbody>\n",
       "</table>\n",
       "</div>"
      ],
      "text/plain": [
       "           HEAT_TRANSMISSION_FLOW                                          \\\n",
       "Dim6                DK1_IND-LT-DH DK1_IND-LT-NODH DK1_Large DK2_IND-LT-DH   \n",
       "Dim2                                                                        \n",
       "Scenario1                2.902567        8.551676  0.380031      1.922255   \n",
       "Scenario10               2.551515        1.588260  2.254063      1.631079   \n",
       "\n",
       "                                      \n",
       "Dim6       DK2_IND-LT-NODH DK2_Large  \n",
       "Dim2                                  \n",
       "Scenario1         5.848884  0.181006  \n",
       "Scenario10        1.355724  1.350027  "
      ]
     },
     "execution_count": 252,
     "metadata": {},
     "output_type": "execute_result"
    }
   ],
   "source": [
    "# group data frame\n",
    "df16 = df16.groupby(['Dim6','Dim2'])['Val'].sum().unstack().T\n",
    "df16 = df16.fillna(0)\n",
    "df16.columns = pd.MultiIndex.from_product([[lf[16]], df16.columns])\n",
    "df16.head(2)"
   ]
  },
  {
   "cell_type": "markdown",
   "metadata": {},
   "source": [
    "## STORAGE_CAPACITY"
   ]
  },
  {
   "cell_type": "code",
   "execution_count": 253,
   "metadata": {},
   "outputs": [
    {
     "data": {
      "text/plain": [
       "'STORAGE_CAPACITY'"
      ]
     },
     "execution_count": 253,
     "metadata": {},
     "output_type": "execute_result"
    }
   ],
   "source": [
    "lf[17]"
   ]
  },
  {
   "cell_type": "code",
   "execution_count": 260,
   "metadata": {
    "scrolled": true
   },
   "outputs": [
    {
     "data": {
      "text/html": [
       "<div>\n",
       "<style scoped>\n",
       "    .dataframe tbody tr th:only-of-type {\n",
       "        vertical-align: middle;\n",
       "    }\n",
       "\n",
       "    .dataframe tbody tr th {\n",
       "        vertical-align: top;\n",
       "    }\n",
       "\n",
       "    .dataframe thead th {\n",
       "        text-align: right;\n",
       "    }\n",
       "</style>\n",
       "<table border=\"1\" class=\"dataframe\">\n",
       "  <thead>\n",
       "    <tr style=\"text-align: right;\">\n",
       "      <th></th>\n",
       "      <th>Dim1</th>\n",
       "      <th>Dim2</th>\n",
       "      <th>Dim3</th>\n",
       "      <th>Dim4</th>\n",
       "      <th>Dim5</th>\n",
       "      <th>Dim6</th>\n",
       "      <th>Dim7</th>\n",
       "      <th>Dim8</th>\n",
       "      <th>Dim9</th>\n",
       "      <th>Dim10</th>\n",
       "      <th>Dim11</th>\n",
       "      <th>Dim12</th>\n",
       "      <th>Val</th>\n",
       "    </tr>\n",
       "  </thead>\n",
       "  <tbody>\n",
       "    <tr>\n",
       "      <th>18</th>\n",
       "      <td>ScenarioResults_181_270</td>\n",
       "      <td>Scenario181</td>\n",
       "      <td>2025</td>\n",
       "      <td>DENMARK</td>\n",
       "      <td>DK1</td>\n",
       "      <td>DK1_Large</td>\n",
       "      <td>GNR_HS_HEAT_PIT_L-CEN_E-70_Y-2020</td>\n",
       "      <td>HEAT</td>\n",
       "      <td>HEAT</td>\n",
       "      <td>INTERSEASONAL-HEAT-STORAGE</td>\n",
       "      <td>ENDOGENOUS</td>\n",
       "      <td>GWh</td>\n",
       "      <td>34.896348</td>\n",
       "    </tr>\n",
       "    <tr>\n",
       "      <th>19</th>\n",
       "      <td>ScenarioResults_181_270</td>\n",
       "      <td>Scenario181</td>\n",
       "      <td>2025</td>\n",
       "      <td>DENMARK</td>\n",
       "      <td>DK1</td>\n",
       "      <td>DK1_Large</td>\n",
       "      <td>GNR_HS_HEAT_WTR-TANK_SS_E-95_Y-2010</td>\n",
       "      <td>HEAT</td>\n",
       "      <td>HEAT</td>\n",
       "      <td>INTRASEASONAL-HEAT-STORAGE</td>\n",
       "      <td>EXOGENOUS</td>\n",
       "      <td>GWh</td>\n",
       "      <td>6.730400</td>\n",
       "    </tr>\n",
       "  </tbody>\n",
       "</table>\n",
       "</div>"
      ],
      "text/plain": [
       "                       Dim1         Dim2  Dim3     Dim4 Dim5       Dim6  \\\n",
       "18  ScenarioResults_181_270  Scenario181  2025  DENMARK  DK1  DK1_Large   \n",
       "19  ScenarioResults_181_270  Scenario181  2025  DENMARK  DK1  DK1_Large   \n",
       "\n",
       "                                   Dim7  Dim8  Dim9  \\\n",
       "18    GNR_HS_HEAT_PIT_L-CEN_E-70_Y-2020  HEAT  HEAT   \n",
       "19  GNR_HS_HEAT_WTR-TANK_SS_E-95_Y-2010  HEAT  HEAT   \n",
       "\n",
       "                         Dim10       Dim11 Dim12        Val  \n",
       "18  INTERSEASONAL-HEAT-STORAGE  ENDOGENOUS   GWh  34.896348  \n",
       "19  INTRASEASONAL-HEAT-STORAGE   EXOGENOUS   GWh   6.730400  "
      ]
     },
     "execution_count": 260,
     "metadata": {},
     "output_type": "execute_result"
    }
   ],
   "source": [
    "# EMISSIONS_CO2\n",
    "df17 = readData(lf[17])\n",
    "df17 = epsToZeros(df17)\n",
    "df17 = filterYearAndCountry(df17,yyy,ccc)\n",
    "df17 = makeValFloat(df17)\n",
    "df17.head(2)"
   ]
  },
  {
   "cell_type": "code",
   "execution_count": 261,
   "metadata": {
    "scrolled": true
   },
   "outputs": [
    {
     "data": {
      "text/html": [
       "<div>\n",
       "<style scoped>\n",
       "    .dataframe tbody tr th:only-of-type {\n",
       "        vertical-align: middle;\n",
       "    }\n",
       "\n",
       "    .dataframe tbody tr th {\n",
       "        vertical-align: top;\n",
       "    }\n",
       "\n",
       "    .dataframe thead tr th {\n",
       "        text-align: left;\n",
       "    }\n",
       "\n",
       "    .dataframe thead tr:last-of-type th {\n",
       "        text-align: right;\n",
       "    }\n",
       "</style>\n",
       "<table border=\"1\" class=\"dataframe\">\n",
       "  <thead>\n",
       "    <tr>\n",
       "      <th></th>\n",
       "      <th colspan=\"3\" halign=\"left\">STORAGE_CAPACITY</th>\n",
       "    </tr>\n",
       "    <tr>\n",
       "      <th>Dim10</th>\n",
       "      <th>INTERSEASONAL-HEAT-STORAGE</th>\n",
       "      <th>INTRASEASONAL-ELECT-STORAGE</th>\n",
       "      <th>INTRASEASONAL-HEAT-STORAGE</th>\n",
       "    </tr>\n",
       "    <tr>\n",
       "      <th>Dim2</th>\n",
       "      <th></th>\n",
       "      <th></th>\n",
       "      <th></th>\n",
       "    </tr>\n",
       "  </thead>\n",
       "  <tbody>\n",
       "    <tr>\n",
       "      <th>Scenario1</th>\n",
       "      <td>799.197444</td>\n",
       "      <td>21.404056</td>\n",
       "      <td>331.346904</td>\n",
       "    </tr>\n",
       "    <tr>\n",
       "      <th>Scenario10</th>\n",
       "      <td>0.000000</td>\n",
       "      <td>0.000000</td>\n",
       "      <td>0.000000</td>\n",
       "    </tr>\n",
       "  </tbody>\n",
       "</table>\n",
       "</div>"
      ],
      "text/plain": [
       "                     STORAGE_CAPACITY                              \\\n",
       "Dim10      INTERSEASONAL-HEAT-STORAGE INTRASEASONAL-ELECT-STORAGE   \n",
       "Dim2                                                                \n",
       "Scenario1                  799.197444                   21.404056   \n",
       "Scenario10                   0.000000                    0.000000   \n",
       "\n",
       "                                       \n",
       "Dim10      INTRASEASONAL-HEAT-STORAGE  \n",
       "Dim2                                   \n",
       "Scenario1                  331.346904  \n",
       "Scenario10                   0.000000  "
      ]
     },
     "execution_count": 261,
     "metadata": {},
     "output_type": "execute_result"
    }
   ],
   "source": [
    "# group data frame\n",
    "df17 = df17.groupby(['Dim10','Dim2'])['Val'].sum().unstack().T\n",
    "df17 = df17.fillna(0)\n",
    "df17.columns = pd.MultiIndex.from_product([[lf[17]], df17.columns])\n",
    "df17.head(2)"
   ]
  },
  {
   "cell_type": "markdown",
   "metadata": {},
   "source": [
    "## SYSTEM_COSTS"
   ]
  },
  {
   "cell_type": "code",
   "execution_count": 262,
   "metadata": {
    "scrolled": true
   },
   "outputs": [
    {
     "data": {
      "text/plain": [
       "'SYSTEM_COSTS'"
      ]
     },
     "execution_count": 262,
     "metadata": {},
     "output_type": "execute_result"
    }
   ],
   "source": [
    "lf[18]"
   ]
  },
  {
   "cell_type": "code",
   "execution_count": 263,
   "metadata": {
    "scrolled": false
   },
   "outputs": [
    {
     "data": {
      "text/html": [
       "<div>\n",
       "<style scoped>\n",
       "    .dataframe tbody tr th:only-of-type {\n",
       "        vertical-align: middle;\n",
       "    }\n",
       "\n",
       "    .dataframe tbody tr th {\n",
       "        vertical-align: top;\n",
       "    }\n",
       "\n",
       "    .dataframe thead th {\n",
       "        text-align: right;\n",
       "    }\n",
       "</style>\n",
       "<table border=\"1\" class=\"dataframe\">\n",
       "  <thead>\n",
       "    <tr style=\"text-align: right;\">\n",
       "      <th></th>\n",
       "      <th>Dim1</th>\n",
       "      <th>Dim2</th>\n",
       "      <th>Dim3</th>\n",
       "      <th>Dim4</th>\n",
       "      <th>Dim5</th>\n",
       "      <th>Dim6</th>\n",
       "      <th>Dim7</th>\n",
       "      <th>Val</th>\n",
       "    </tr>\n",
       "  </thead>\n",
       "  <tbody>\n",
       "    <tr>\n",
       "      <th>60</th>\n",
       "      <td>ScenarioResults_181_270</td>\n",
       "      <td>Scenario181</td>\n",
       "      <td>2025</td>\n",
       "      <td>DENMARK</td>\n",
       "      <td>DK1</td>\n",
       "      <td>GENERATION_FIXED_COSTS</td>\n",
       "      <td>Mmoney</td>\n",
       "      <td>268.345965</td>\n",
       "    </tr>\n",
       "    <tr>\n",
       "      <th>61</th>\n",
       "      <td>ScenarioResults_181_270</td>\n",
       "      <td>Scenario181</td>\n",
       "      <td>2025</td>\n",
       "      <td>DENMARK</td>\n",
       "      <td>DK1</td>\n",
       "      <td>GENERATION_OPERATIONAL_COSTS</td>\n",
       "      <td>Mmoney</td>\n",
       "      <td>110.026918</td>\n",
       "    </tr>\n",
       "  </tbody>\n",
       "</table>\n",
       "</div>"
      ],
      "text/plain": [
       "                       Dim1         Dim2  Dim3     Dim4 Dim5  \\\n",
       "60  ScenarioResults_181_270  Scenario181  2025  DENMARK  DK1   \n",
       "61  ScenarioResults_181_270  Scenario181  2025  DENMARK  DK1   \n",
       "\n",
       "                            Dim6    Dim7         Val  \n",
       "60        GENERATION_FIXED_COSTS  Mmoney  268.345965  \n",
       "61  GENERATION_OPERATIONAL_COSTS  Mmoney  110.026918  "
      ]
     },
     "execution_count": 263,
     "metadata": {},
     "output_type": "execute_result"
    }
   ],
   "source": [
    "# EMISSIONS_CO2\n",
    "df18 = readData(lf[18])\n",
    "df18 = epsToZeros(df18)\n",
    "df18 = filterYearAndCountry(df18,yyy,ccc)\n",
    "df18 = makeValFloat(df18)\n",
    "df18.head(2)"
   ]
  },
  {
   "cell_type": "code",
   "execution_count": 264,
   "metadata": {
    "scrolled": false
   },
   "outputs": [
    {
     "data": {
      "text/html": [
       "<div>\n",
       "<style scoped>\n",
       "    .dataframe tbody tr th:only-of-type {\n",
       "        vertical-align: middle;\n",
       "    }\n",
       "\n",
       "    .dataframe tbody tr th {\n",
       "        vertical-align: top;\n",
       "    }\n",
       "\n",
       "    .dataframe thead tr th {\n",
       "        text-align: left;\n",
       "    }\n",
       "\n",
       "    .dataframe thead tr:last-of-type th {\n",
       "        text-align: right;\n",
       "    }\n",
       "</style>\n",
       "<table border=\"1\" class=\"dataframe\">\n",
       "  <thead>\n",
       "    <tr>\n",
       "      <th></th>\n",
       "      <th colspan=\"13\" halign=\"left\">SYSTEM_COSTS</th>\n",
       "    </tr>\n",
       "    <tr>\n",
       "      <th>Dim6</th>\n",
       "      <th>GENERATION_CAPITAL_COSTS</th>\n",
       "      <th>GENERATION_CO2_TAX</th>\n",
       "      <th>GENERATION_FIXED_COSTS</th>\n",
       "      <th>GENERATION_FUEL_COSTS</th>\n",
       "      <th>GENERATION_OPERATIONAL_COSTS</th>\n",
       "      <th>GENERATION_OTHER_EMI_TAX</th>\n",
       "      <th>GENERATION_UC_COSTS</th>\n",
       "      <th>GRID_TARIFFS</th>\n",
       "      <th>HEAT_TRANSMISSION_CAPITAL_COSTS</th>\n",
       "      <th>HEAT_TRANSMISSION_OPERATIONAL_COSTS</th>\n",
       "      <th>TAXES</th>\n",
       "      <th>TRANSMISSION_CAPITAL_COSTS</th>\n",
       "      <th>TRANSMISSION_OPERATIONAL_COSTS</th>\n",
       "    </tr>\n",
       "    <tr>\n",
       "      <th>Dim2</th>\n",
       "      <th></th>\n",
       "      <th></th>\n",
       "      <th></th>\n",
       "      <th></th>\n",
       "      <th></th>\n",
       "      <th></th>\n",
       "      <th></th>\n",
       "      <th></th>\n",
       "      <th></th>\n",
       "      <th></th>\n",
       "      <th></th>\n",
       "      <th></th>\n",
       "      <th></th>\n",
       "    </tr>\n",
       "  </thead>\n",
       "  <tbody>\n",
       "    <tr>\n",
       "      <th>Scenario1</th>\n",
       "      <td>6940.383171</td>\n",
       "      <td>86.642451</td>\n",
       "      <td>2664.404139</td>\n",
       "      <td>2606.018031</td>\n",
       "      <td>749.952190</td>\n",
       "      <td>0.020144</td>\n",
       "      <td>86.366213</td>\n",
       "      <td>4317.979857</td>\n",
       "      <td>0.0</td>\n",
       "      <td>0.000225</td>\n",
       "      <td>8188.898895</td>\n",
       "      <td>417.131961</td>\n",
       "      <td>0.020614</td>\n",
       "    </tr>\n",
       "    <tr>\n",
       "      <th>Scenario10</th>\n",
       "      <td>3209.519551</td>\n",
       "      <td>219.152990</td>\n",
       "      <td>1049.003067</td>\n",
       "      <td>922.158465</td>\n",
       "      <td>538.911484</td>\n",
       "      <td>0.012272</td>\n",
       "      <td>103.645321</td>\n",
       "      <td>4507.583569</td>\n",
       "      <td>0.0</td>\n",
       "      <td>0.000518</td>\n",
       "      <td>10072.631777</td>\n",
       "      <td>295.729468</td>\n",
       "      <td>0.009370</td>\n",
       "    </tr>\n",
       "  </tbody>\n",
       "</table>\n",
       "</div>"
      ],
      "text/plain": [
       "                       SYSTEM_COSTS                                            \\\n",
       "Dim6       GENERATION_CAPITAL_COSTS GENERATION_CO2_TAX GENERATION_FIXED_COSTS   \n",
       "Dim2                                                                            \n",
       "Scenario1               6940.383171          86.642451            2664.404139   \n",
       "Scenario10              3209.519551         219.152990            1049.003067   \n",
       "\n",
       "                                                               \\\n",
       "Dim6       GENERATION_FUEL_COSTS GENERATION_OPERATIONAL_COSTS   \n",
       "Dim2                                                            \n",
       "Scenario1            2606.018031                   749.952190   \n",
       "Scenario10            922.158465                   538.911484   \n",
       "\n",
       "                                                                      \\\n",
       "Dim6       GENERATION_OTHER_EMI_TAX GENERATION_UC_COSTS GRID_TARIFFS   \n",
       "Dim2                                                                   \n",
       "Scenario1                  0.020144           86.366213  4317.979857   \n",
       "Scenario10                 0.012272          103.645321  4507.583569   \n",
       "\n",
       "                                            \\\n",
       "Dim6       HEAT_TRANSMISSION_CAPITAL_COSTS   \n",
       "Dim2                                         \n",
       "Scenario1                              0.0   \n",
       "Scenario10                             0.0   \n",
       "\n",
       "                                                              \\\n",
       "Dim6       HEAT_TRANSMISSION_OPERATIONAL_COSTS         TAXES   \n",
       "Dim2                                                           \n",
       "Scenario1                             0.000225   8188.898895   \n",
       "Scenario10                            0.000518  10072.631777   \n",
       "\n",
       "                                                                      \n",
       "Dim6       TRANSMISSION_CAPITAL_COSTS TRANSMISSION_OPERATIONAL_COSTS  \n",
       "Dim2                                                                  \n",
       "Scenario1                  417.131961                       0.020614  \n",
       "Scenario10                 295.729468                       0.009370  "
      ]
     },
     "execution_count": 264,
     "metadata": {},
     "output_type": "execute_result"
    }
   ],
   "source": [
    "# group data frame\n",
    "df18 = df18.groupby(['Dim6','Dim2'])['Val'].sum().unstack().T\n",
    "df18 = df18.fillna(0)\n",
    "df18.columns = pd.MultiIndex.from_product([[lf[18]], df18.columns])\n",
    "df18.head(2)"
   ]
  },
  {
   "cell_type": "code",
   "execution_count": 284,
   "metadata": {},
   "outputs": [
    {
     "ename": "TypeError",
     "evalue": "eval() arg 1 must be a string, bytes or code object",
     "output_type": "error",
     "traceback": [
      "\u001b[1;31m---------------------------------------------------------------------------\u001b[0m",
      "\u001b[1;31mTypeError\u001b[0m                                 Traceback (most recent call last)",
      "\u001b[1;32m<ipython-input-284-9b8a21cf51f0>\u001b[0m in \u001b[0;36m<module>\u001b[1;34m\u001b[0m\n\u001b[1;32m----> 1\u001b[1;33m \u001b[0meval\u001b[0m\u001b[1;33m(\u001b[0m\u001b[0mframes\u001b[0m\u001b[1;33m)\u001b[0m\u001b[1;33m\u001b[0m\u001b[1;33m\u001b[0m\u001b[0m\n\u001b[0m",
      "\u001b[1;31mTypeError\u001b[0m: eval() arg 1 must be a string, bytes or code object"
     ]
    }
   ],
   "source": []
  },
  {
   "cell_type": "code",
   "execution_count": 286,
   "metadata": {},
   "outputs": [
    {
     "ename": "NameError",
     "evalue": "name 'df14' is not defined",
     "output_type": "error",
     "traceback": [
      "\u001b[1;31m---------------------------------------------------------------------------\u001b[0m",
      "\u001b[1;31mNameError\u001b[0m                                 Traceback (most recent call last)",
      "\u001b[1;32m<ipython-input-286-4ac746fceb86>\u001b[0m in \u001b[0;36m<module>\u001b[1;34m\u001b[0m\n\u001b[1;32m----> 1\u001b[1;33m \u001b[0mframes\u001b[0m \u001b[1;33m=\u001b[0m \u001b[1;33m[\u001b[0m\u001b[0meval\u001b[0m\u001b[1;33m(\u001b[0m\u001b[1;34m'df'\u001b[0m \u001b[1;33m+\u001b[0m \u001b[0mstr\u001b[0m\u001b[1;33m(\u001b[0m\u001b[0mi\u001b[0m\u001b[1;33m)\u001b[0m\u001b[1;33m)\u001b[0m \u001b[1;32mfor\u001b[0m \u001b[0mi\u001b[0m \u001b[1;32min\u001b[0m \u001b[0mrange\u001b[0m\u001b[1;33m(\u001b[0m\u001b[0mlen\u001b[0m\u001b[1;33m(\u001b[0m\u001b[0mlf\u001b[0m\u001b[1;33m)\u001b[0m\u001b[1;33m)\u001b[0m\u001b[1;33m]\u001b[0m\u001b[1;33m\u001b[0m\u001b[1;33m\u001b[0m\u001b[0m\n\u001b[0m\u001b[0;32m      2\u001b[0m \u001b[0mframes\u001b[0m\u001b[1;33m\u001b[0m\u001b[1;33m\u001b[0m\u001b[0m\n",
      "\u001b[1;32m<ipython-input-286-4ac746fceb86>\u001b[0m in \u001b[0;36m<listcomp>\u001b[1;34m(.0)\u001b[0m\n\u001b[1;32m----> 1\u001b[1;33m \u001b[0mframes\u001b[0m \u001b[1;33m=\u001b[0m \u001b[1;33m[\u001b[0m\u001b[0meval\u001b[0m\u001b[1;33m(\u001b[0m\u001b[1;34m'df'\u001b[0m \u001b[1;33m+\u001b[0m \u001b[0mstr\u001b[0m\u001b[1;33m(\u001b[0m\u001b[0mi\u001b[0m\u001b[1;33m)\u001b[0m\u001b[1;33m)\u001b[0m \u001b[1;32mfor\u001b[0m \u001b[0mi\u001b[0m \u001b[1;32min\u001b[0m \u001b[0mrange\u001b[0m\u001b[1;33m(\u001b[0m\u001b[0mlen\u001b[0m\u001b[1;33m(\u001b[0m\u001b[0mlf\u001b[0m\u001b[1;33m)\u001b[0m\u001b[1;33m)\u001b[0m\u001b[1;33m]\u001b[0m\u001b[1;33m\u001b[0m\u001b[1;33m\u001b[0m\u001b[0m\n\u001b[0m\u001b[0;32m      2\u001b[0m \u001b[0mframes\u001b[0m\u001b[1;33m\u001b[0m\u001b[1;33m\u001b[0m\u001b[0m\n",
      "\u001b[1;32m<string>\u001b[0m in \u001b[0;36m<module>\u001b[1;34m\u001b[0m\n",
      "\u001b[1;31mNameError\u001b[0m: name 'df14' is not defined"
     ]
    }
   ],
   "source": [
    "frames = [eval('df' + str(i)) for i in range(len(lf))]\n",
    "frames"
   ]
  },
  {
   "cell_type": "code",
   "execution_count": 278,
   "metadata": {},
   "outputs": [
    {
     "ename": "TypeError",
     "evalue": "cannot concatenate object of type '<class 'str'>'; only Series and DataFrame objs are valid",
     "output_type": "error",
     "traceback": [
      "\u001b[1;31m---------------------------------------------------------------------------\u001b[0m",
      "\u001b[1;31mTypeError\u001b[0m                                 Traceback (most recent call last)",
      "\u001b[1;32m<ipython-input-278-f9cf7f1225e6>\u001b[0m in \u001b[0;36m<module>\u001b[1;34m\u001b[0m\n\u001b[0;32m      1\u001b[0m \u001b[0mframes\u001b[0m \u001b[1;33m=\u001b[0m \u001b[1;33m[\u001b[0m\u001b[1;34m'df'\u001b[0m \u001b[1;33m+\u001b[0m \u001b[0mstr\u001b[0m\u001b[1;33m(\u001b[0m\u001b[0mi\u001b[0m\u001b[1;33m)\u001b[0m \u001b[1;32mfor\u001b[0m \u001b[0mi\u001b[0m \u001b[1;32min\u001b[0m \u001b[0mrange\u001b[0m\u001b[1;33m(\u001b[0m\u001b[0mlen\u001b[0m\u001b[1;33m(\u001b[0m\u001b[0mlf\u001b[0m\u001b[1;33m)\u001b[0m\u001b[1;33m)\u001b[0m\u001b[1;33m]\u001b[0m\u001b[1;33m\u001b[0m\u001b[1;33m\u001b[0m\u001b[0m\n\u001b[1;32m----> 2\u001b[1;33m \u001b[0mpd\u001b[0m\u001b[1;33m.\u001b[0m\u001b[0mconcat\u001b[0m\u001b[1;33m(\u001b[0m\u001b[0mframes\u001b[0m\u001b[1;33m,\u001b[0m \u001b[0maxis\u001b[0m\u001b[1;33m=\u001b[0m\u001b[1;36m1\u001b[0m\u001b[1;33m,\u001b[0m \u001b[0msort\u001b[0m\u001b[1;33m=\u001b[0m\u001b[1;32mFalse\u001b[0m\u001b[1;33m)\u001b[0m\u001b[1;33m\u001b[0m\u001b[1;33m\u001b[0m\u001b[0m\n\u001b[0m",
      "\u001b[1;32m~\\AppData\\Local\\Continuum\\miniconda3\\envs\\flexsus\\lib\\site-packages\\pandas\\core\\reshape\\concat.py\u001b[0m in \u001b[0;36mconcat\u001b[1;34m(objs, axis, join, ignore_index, keys, levels, names, verify_integrity, sort, copy)\u001b[0m\n\u001b[0;32m    279\u001b[0m         \u001b[0mverify_integrity\u001b[0m\u001b[1;33m=\u001b[0m\u001b[0mverify_integrity\u001b[0m\u001b[1;33m,\u001b[0m\u001b[1;33m\u001b[0m\u001b[1;33m\u001b[0m\u001b[0m\n\u001b[0;32m    280\u001b[0m         \u001b[0mcopy\u001b[0m\u001b[1;33m=\u001b[0m\u001b[0mcopy\u001b[0m\u001b[1;33m,\u001b[0m\u001b[1;33m\u001b[0m\u001b[1;33m\u001b[0m\u001b[0m\n\u001b[1;32m--> 281\u001b[1;33m         \u001b[0msort\u001b[0m\u001b[1;33m=\u001b[0m\u001b[0msort\u001b[0m\u001b[1;33m,\u001b[0m\u001b[1;33m\u001b[0m\u001b[1;33m\u001b[0m\u001b[0m\n\u001b[0m\u001b[0;32m    282\u001b[0m     )\n\u001b[0;32m    283\u001b[0m \u001b[1;33m\u001b[0m\u001b[0m\n",
      "\u001b[1;32m~\\AppData\\Local\\Continuum\\miniconda3\\envs\\flexsus\\lib\\site-packages\\pandas\\core\\reshape\\concat.py\u001b[0m in \u001b[0;36m__init__\u001b[1;34m(self, objs, axis, join, keys, levels, names, ignore_index, verify_integrity, copy, sort)\u001b[0m\n\u001b[0;32m    355\u001b[0m                     \u001b[1;34m\"only Series and DataFrame objs are valid\"\u001b[0m\u001b[1;33m.\u001b[0m\u001b[0mformat\u001b[0m\u001b[1;33m(\u001b[0m\u001b[0mtyp\u001b[0m\u001b[1;33m=\u001b[0m\u001b[0mtype\u001b[0m\u001b[1;33m(\u001b[0m\u001b[0mobj\u001b[0m\u001b[1;33m)\u001b[0m\u001b[1;33m)\u001b[0m\u001b[1;33m\u001b[0m\u001b[1;33m\u001b[0m\u001b[0m\n\u001b[0;32m    356\u001b[0m                 )\n\u001b[1;32m--> 357\u001b[1;33m                 \u001b[1;32mraise\u001b[0m \u001b[0mTypeError\u001b[0m\u001b[1;33m(\u001b[0m\u001b[0mmsg\u001b[0m\u001b[1;33m)\u001b[0m\u001b[1;33m\u001b[0m\u001b[1;33m\u001b[0m\u001b[0m\n\u001b[0m\u001b[0;32m    358\u001b[0m \u001b[1;33m\u001b[0m\u001b[0m\n\u001b[0;32m    359\u001b[0m             \u001b[1;31m# consolidate\u001b[0m\u001b[1;33m\u001b[0m\u001b[1;33m\u001b[0m\u001b[1;33m\u001b[0m\u001b[0m\n",
      "\u001b[1;31mTypeError\u001b[0m: cannot concatenate object of type '<class 'str'>'; only Series and DataFrame objs are valid"
     ]
    }
   ],
   "source": [
    "frames = ['df' + str(i) for i in range(len(lf))]\n",
    "pd.concat([df1, df4], axis=1, sort=False)"
   ]
  }
 ],
 "metadata": {
  "kernelspec": {
   "display_name": "Python 3",
   "language": "python",
   "name": "python3"
  },
  "language_info": {
   "codemirror_mode": {
    "name": "ipython",
    "version": 3
   },
   "file_extension": ".py",
   "mimetype": "text/x-python",
   "name": "python",
   "nbconvert_exporter": "python",
   "pygments_lexer": "ipython3",
   "version": "3.7.6"
  }
 },
 "nbformat": 4,
 "nbformat_minor": 4
}
