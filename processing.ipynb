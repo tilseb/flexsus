{
 "cells": [
  {
   "cell_type": "markdown",
   "metadata": {},
   "source": [
    "# Data processing for FlexSUS"
   ]
  },
  {
   "cell_type": "markdown",
   "metadata": {},
   "source": [
    "institution: DTU\n",
    "\n",
    "author: [tilseb](mailto:tilseb@dtu.dk)\n",
    "\n",
    "date created: 2020-01-30\n",
    "\n",
    "licensed under: [GNU GENERAL PUBLIC LICENSE Version 3, 29 June 2007](https://www.gnu.org/licenses/gpl-3.0.html)"
   ]
  },
  {
   "cell_type": "markdown",
   "metadata": {},
   "source": [
    "## Installation"
   ]
  },
  {
   "cell_type": "markdown",
   "metadata": {},
   "source": [
    "1. Download the repository and put it in a convenient location of your choice.\n",
    "1. Installation via miniconda. Get miniconda with Python 3.7 [here](https://docs.conda.io/en/latest/miniconda.html).\n",
    "2. Open the anaconda promt: press `start button` , type `anaconda promt` and hit enter.\n",
    "3. Navigate to the folder containing this script: `cd <path_to_folder>`\n",
    "3. Use the requirements.yml file in the root directory to set up the environment: `conda env create -f requirements.yml`\n",
    "5. Activate the flexus environment: `conda activate flexsus`\n",
    "5. Open the notebook: `jupyter notebook`"
   ]
  },
  {
   "cell_type": "markdown",
   "metadata": {},
   "source": [
    "## Description"
   ]
  },
  {
   "cell_type": "markdown",
   "metadata": {},
   "source": [
    "## Content"
   ]
  },
  {
   "cell_type": "markdown",
   "metadata": {},
   "source": [
    "## Script set-up"
   ]
  },
  {
   "cell_type": "code",
   "execution_count": 1,
   "metadata": {},
   "outputs": [],
   "source": [
    "# import packages\n",
    "import os\n",
    "import pandas as pd"
   ]
  },
  {
   "cell_type": "code",
   "execution_count": 2,
   "metadata": {},
   "outputs": [],
   "source": [
    "# make directories\n",
    "dirs = {'output'}\n",
    "for i in dirs:\n",
    "    if not os.path.isdir(i):\n",
    "        os.mkdir(i)"
   ]
  },
  {
   "cell_type": "markdown",
   "metadata": {},
   "source": [
    "## Define output resolution"
   ]
  },
  {
   "cell_type": "code",
   "execution_count": 3,
   "metadata": {},
   "outputs": [],
   "source": [
    "# set of considered countries (if empty, select all)\n",
    "ccc = {'DENMARK'}\n",
    "\n",
    "# set of considered regions (if empty, select all)\n",
    "rrr = {'DK1', 'DK2'}"
   ]
  },
  {
   "cell_type": "code",
   "execution_count": 6,
   "metadata": {},
   "outputs": [],
   "source": [
    "# set of years (if empty, select all)\n",
    "yyy = {}  # 2025, 2035, 2045"
   ]
  },
  {
   "cell_type": "markdown",
   "metadata": {},
   "source": [
    "## Load data"
   ]
  },
  {
   "cell_type": "code",
   "execution_count": 7,
   "metadata": {},
   "outputs": [],
   "source": [
    "# get list of data files (w/o file extension, i.e. '.csv')\n",
    "lf = [i.split('.')[0] for i in os.listdir('data')]\n",
    "#lf = os.listdir('data')"
   ]
  },
  {
   "cell_type": "markdown",
   "metadata": {},
   "source": [
    "## Load and process data "
   ]
  },
  {
   "cell_type": "code",
   "execution_count": 60,
   "metadata": {},
   "outputs": [],
   "source": [
    "def readData(f):\n",
    "    return pd.read_csv('data/' + f + '.csv', encoding='utf8', engine='c', low_memory=False)"
   ]
  },
  {
   "cell_type": "code",
   "execution_count": 61,
   "metadata": {},
   "outputs": [],
   "source": [
    "def readBigData(f):\n",
    "    tmp = []\n",
    "    for chunk in pd.read_csv('data/' + f + '.csv', encoding='utf8', engine='c', low_memory=False,\n",
    "                             chunksize=500000):\n",
    "        tmp.append(chunk)\n",
    "    return pd.concat(tmp, axis=0)\n",
    "    del tmp"
   ]
  },
  {
   "cell_type": "code",
   "execution_count": 9,
   "metadata": {},
   "outputs": [],
   "source": [
    "def epsToZeros(df):\n",
    "    df = df.replace('Eps', 0)\n",
    "    return df"
   ]
  },
  {
   "cell_type": "code",
   "execution_count": 10,
   "metadata": {},
   "outputs": [],
   "source": [
    "def filterYearAndCountry(df,y,c):\n",
    "    if y: df = df.loc[~df.Dim3.isin(set(df.Dim3).difference(y)), :]\n",
    "    if c: df = df.loc[~df.Dim4.isin(set(df.Dim4).difference(c)), :]\n",
    "    return df"
   ]
  },
  {
   "cell_type": "code",
   "execution_count": 11,
   "metadata": {},
   "outputs": [],
   "source": [
    "def makeValFloat(df):\n",
    "    df.Val = df.Val.astype(float)\n",
    "    return df"
   ]
  },
  {
   "cell_type": "code",
   "execution_count": 34,
   "metadata": {},
   "outputs": [],
   "source": [
    "def groupFrame(df,i,f,aver):\n",
    "    if aver:\n",
    "        df = df.groupby([i,'Dim2'])['Val'].mean().unstack().T\n",
    "        df.columns = pd.MultiIndex.from_product([[f + ' (mean)'], df.columns])\n",
    "    else:\n",
    "        df = df.groupby([i,'Dim2'])['Val'].sum().unstack().T\n",
    "        df.columns = pd.MultiIndex.from_product([[f + ' (sum)'], df.columns])\n",
    "    df = df.fillna(0)\n",
    "    return df"
   ]
  },
  {
   "cell_type": "code",
   "execution_count": 13,
   "metadata": {},
   "outputs": [
    {
     "data": {
      "text/plain": [
       "['ECONOMY_ELEC_TRANSMISSION',\n",
       " 'ECONOMY_GENERATION',\n",
       " 'ECONOMY_HEAT_TRANSMISSION',\n",
       " 'ELEC_DEMAND',\n",
       " 'ELEC_PRICE',\n",
       " 'ELEC_PRICE_HOURLY',\n",
       " 'ELEC_TRANSMISSION_CAPACITY',\n",
       " 'ELEC_TRANSMISSION_FLOW',\n",
       " 'EMISSIONS_CO2',\n",
       " 'ENERGY_PRODUCTION',\n",
       " 'FUEL_CONSUMPTION',\n",
       " 'GENERATION_CAPACITY',\n",
       " 'HEAT_DEMAND',\n",
       " 'HEAT_PRICE',\n",
       " 'HEAT_PRICE_HOURLY',\n",
       " 'HEAT_TRANSMISSION_CAPACITY',\n",
       " 'HEAT_TRANSMISSION_FLOW',\n",
       " 'STORAGE_CAPACITY',\n",
       " 'SYSTEM_COSTS']"
      ]
     },
     "execution_count": 13,
     "metadata": {},
     "output_type": "execute_result"
    }
   ],
   "source": [
    "lf"
   ]
  },
  {
   "cell_type": "markdown",
   "metadata": {},
   "source": [
    "### ECONOMY_ELEC_TRANSMISSION"
   ]
  },
  {
   "cell_type": "code",
   "execution_count": 14,
   "metadata": {},
   "outputs": [
    {
     "data": {
      "text/plain": [
       "'ECONOMY_ELEC_TRANSMISSION'"
      ]
     },
     "execution_count": 14,
     "metadata": {},
     "output_type": "execute_result"
    }
   ],
   "source": [
    "lf[0]"
   ]
  },
  {
   "cell_type": "code",
   "execution_count": 35,
   "metadata": {},
   "outputs": [
    {
     "data": {
      "text/html": [
       "<div>\n",
       "<style scoped>\n",
       "    .dataframe tbody tr th:only-of-type {\n",
       "        vertical-align: middle;\n",
       "    }\n",
       "\n",
       "    .dataframe tbody tr th {\n",
       "        vertical-align: top;\n",
       "    }\n",
       "\n",
       "    .dataframe thead tr th {\n",
       "        text-align: left;\n",
       "    }\n",
       "\n",
       "    .dataframe thead tr:last-of-type th {\n",
       "        text-align: right;\n",
       "    }\n",
       "</style>\n",
       "<table border=\"1\" class=\"dataframe\">\n",
       "  <thead>\n",
       "    <tr>\n",
       "      <th></th>\n",
       "      <th colspan=\"4\" halign=\"left\">ECONOMY_ELEC_TRANSMISSION (sum)</th>\n",
       "    </tr>\n",
       "    <tr>\n",
       "      <th>Dim7</th>\n",
       "      <th>TRANSMISSION_CAPITAL_COSTS</th>\n",
       "      <th>TRANSMISSION_OPERATIONAL_COSTS</th>\n",
       "      <th>TRANSMISSION_TRADE_COSTS</th>\n",
       "      <th>TRANSMISSION_TRADE_INCOME</th>\n",
       "    </tr>\n",
       "    <tr>\n",
       "      <th>Dim2</th>\n",
       "      <th></th>\n",
       "      <th></th>\n",
       "      <th></th>\n",
       "      <th></th>\n",
       "    </tr>\n",
       "  </thead>\n",
       "  <tbody>\n",
       "    <tr>\n",
       "      <th>Scenario1</th>\n",
       "      <td>417.131961</td>\n",
       "      <td>0.020614</td>\n",
       "      <td>223.822992</td>\n",
       "      <td>10198.187747</td>\n",
       "    </tr>\n",
       "    <tr>\n",
       "      <th>Scenario10</th>\n",
       "      <td>295.729468</td>\n",
       "      <td>0.009370</td>\n",
       "      <td>392.203384</td>\n",
       "      <td>5148.391004</td>\n",
       "    </tr>\n",
       "  </tbody>\n",
       "</table>\n",
       "</div>"
      ],
      "text/plain": [
       "           ECONOMY_ELEC_TRANSMISSION (sum)                                 \\\n",
       "Dim7            TRANSMISSION_CAPITAL_COSTS TRANSMISSION_OPERATIONAL_COSTS   \n",
       "Dim2                                                                        \n",
       "Scenario1                       417.131961                       0.020614   \n",
       "Scenario10                      295.729468                       0.009370   \n",
       "\n",
       "                                                               \n",
       "Dim7       TRANSMISSION_TRADE_COSTS TRANSMISSION_TRADE_INCOME  \n",
       "Dim2                                                           \n",
       "Scenario1                223.822992              10198.187747  \n",
       "Scenario10               392.203384               5148.391004  "
      ]
     },
     "execution_count": 35,
     "metadata": {},
     "output_type": "execute_result"
    }
   ],
   "source": [
    "# ECONOMY_ELEC_TRANSMISSION\n",
    "df0 = readData(lf[0])\n",
    "df0 = epsToZeros(df0)\n",
    "df0 = filterYearAndCountry(df0,yyy,ccc)\n",
    "df0 = makeValFloat(df0)\n",
    "df0 = groupFrame(df0,'Dim7',lf[0],aver=False)\n",
    "df0.head(2)"
   ]
  },
  {
   "cell_type": "markdown",
   "metadata": {},
   "source": [
    "### ECONOMY_GENERATION"
   ]
  },
  {
   "cell_type": "code",
   "execution_count": 36,
   "metadata": {},
   "outputs": [
    {
     "data": {
      "text/plain": [
       "'ECONOMY_GENERATION'"
      ]
     },
     "execution_count": 36,
     "metadata": {},
     "output_type": "execute_result"
    }
   ],
   "source": [
    "lf[1]"
   ]
  },
  {
   "cell_type": "code",
   "execution_count": 38,
   "metadata": {},
   "outputs": [
    {
     "data": {
      "text/html": [
       "<div>\n",
       "<style scoped>\n",
       "    .dataframe tbody tr th:only-of-type {\n",
       "        vertical-align: middle;\n",
       "    }\n",
       "\n",
       "    .dataframe tbody tr th {\n",
       "        vertical-align: top;\n",
       "    }\n",
       "\n",
       "    .dataframe thead tr th {\n",
       "        text-align: left;\n",
       "    }\n",
       "\n",
       "    .dataframe thead tr:last-of-type th {\n",
       "        text-align: right;\n",
       "    }\n",
       "</style>\n",
       "<table border=\"1\" class=\"dataframe\">\n",
       "  <thead>\n",
       "    <tr>\n",
       "      <th></th>\n",
       "      <th colspan=\"13\" halign=\"left\">ECONOMY_GENERATION (sum)</th>\n",
       "    </tr>\n",
       "    <tr>\n",
       "      <th>Dim11</th>\n",
       "      <th>ELECTRICITY_SALE</th>\n",
       "      <th>ENERGY_SPECIFIC_REVENUE</th>\n",
       "      <th>GENERATION_CAPITAL_COSTS</th>\n",
       "      <th>GENERATION_CO2_TAX</th>\n",
       "      <th>GENERATION_FIXED_COSTS</th>\n",
       "      <th>GENERATION_FUEL_COSTS</th>\n",
       "      <th>GENERATION_GRID_TARIFFS</th>\n",
       "      <th>GENERATION_OPERATIONAL_COSTS</th>\n",
       "      <th>GENERATION_OTHER_EMI_TAX</th>\n",
       "      <th>GENERATION_TAXES</th>\n",
       "      <th>GENERATION_UC_COSTS</th>\n",
       "      <th>HEAT_SALE</th>\n",
       "      <th>TOTAL_REVENUE</th>\n",
       "    </tr>\n",
       "    <tr>\n",
       "      <th>Dim2</th>\n",
       "      <th></th>\n",
       "      <th></th>\n",
       "      <th></th>\n",
       "      <th></th>\n",
       "      <th></th>\n",
       "      <th></th>\n",
       "      <th></th>\n",
       "      <th></th>\n",
       "      <th></th>\n",
       "      <th></th>\n",
       "      <th></th>\n",
       "      <th></th>\n",
       "      <th></th>\n",
       "    </tr>\n",
       "  </thead>\n",
       "  <tbody>\n",
       "    <tr>\n",
       "      <th>Scenario1</th>\n",
       "      <td>12210.059270</td>\n",
       "      <td>31621.444182</td>\n",
       "      <td>6940.383171</td>\n",
       "      <td>86.642451</td>\n",
       "      <td>2664.404139</td>\n",
       "      <td>2620.16481</td>\n",
       "      <td>56.057248</td>\n",
       "      <td>749.952190</td>\n",
       "      <td>0.020144</td>\n",
       "      <td>87.905015</td>\n",
       "      <td>86.366213</td>\n",
       "      <td>5405.295318</td>\n",
       "      <td>4323.459207</td>\n",
       "    </tr>\n",
       "    <tr>\n",
       "      <th>Scenario10</th>\n",
       "      <td>4098.555644</td>\n",
       "      <td>29221.484573</td>\n",
       "      <td>3209.519551</td>\n",
       "      <td>219.152990</td>\n",
       "      <td>1049.003067</td>\n",
       "      <td>936.82982</td>\n",
       "      <td>245.660960</td>\n",
       "      <td>538.911484</td>\n",
       "      <td>0.012272</td>\n",
       "      <td>1971.637897</td>\n",
       "      <td>103.645321</td>\n",
       "      <td>7820.944328</td>\n",
       "      <td>3645.126609</td>\n",
       "    </tr>\n",
       "  </tbody>\n",
       "</table>\n",
       "</div>"
      ],
      "text/plain": [
       "           ECONOMY_GENERATION (sum)                          \\\n",
       "Dim11              ELECTRICITY_SALE ENERGY_SPECIFIC_REVENUE   \n",
       "Dim2                                                          \n",
       "Scenario1              12210.059270            31621.444182   \n",
       "Scenario10              4098.555644            29221.484573   \n",
       "\n",
       "                                                                               \\\n",
       "Dim11      GENERATION_CAPITAL_COSTS GENERATION_CO2_TAX GENERATION_FIXED_COSTS   \n",
       "Dim2                                                                            \n",
       "Scenario1               6940.383171          86.642451            2664.404139   \n",
       "Scenario10              3209.519551         219.152990            1049.003067   \n",
       "\n",
       "                                                          \\\n",
       "Dim11      GENERATION_FUEL_COSTS GENERATION_GRID_TARIFFS   \n",
       "Dim2                                                       \n",
       "Scenario1             2620.16481               56.057248   \n",
       "Scenario10             936.82982              245.660960   \n",
       "\n",
       "                                                                  \\\n",
       "Dim11      GENERATION_OPERATIONAL_COSTS GENERATION_OTHER_EMI_TAX   \n",
       "Dim2                                                               \n",
       "Scenario1                    749.952190                 0.020144   \n",
       "Scenario10                   538.911484                 0.012272   \n",
       "\n",
       "                                                                            \n",
       "Dim11      GENERATION_TAXES GENERATION_UC_COSTS    HEAT_SALE TOTAL_REVENUE  \n",
       "Dim2                                                                        \n",
       "Scenario1         87.905015           86.366213  5405.295318   4323.459207  \n",
       "Scenario10      1971.637897          103.645321  7820.944328   3645.126609  "
      ]
     },
     "execution_count": 38,
     "metadata": {},
     "output_type": "execute_result"
    }
   ],
   "source": [
    "# ECONOMY_GENERATION\n",
    "df1 = readData(lf[1])\n",
    "df1 = epsToZeros(df1)\n",
    "df1 = filterYearAndCountry(df1,yyy,ccc)\n",
    "df1 = makeValFloat(df1)\n",
    "df1 = groupFrame(df1,'Dim11',lf[1],aver=False)\n",
    "df1.head(2)"
   ]
  },
  {
   "cell_type": "markdown",
   "metadata": {},
   "source": [
    "### ECONOMY_HEAT_TRANSMISSION"
   ]
  },
  {
   "cell_type": "code",
   "execution_count": 51,
   "metadata": {},
   "outputs": [
    {
     "data": {
      "text/plain": [
       "'ECONOMY_HEAT_TRANSMISSION'"
      ]
     },
     "execution_count": 51,
     "metadata": {},
     "output_type": "execute_result"
    }
   ],
   "source": [
    "lf[2]"
   ]
  },
  {
   "cell_type": "code",
   "execution_count": 39,
   "metadata": {},
   "outputs": [
    {
     "data": {
      "text/html": [
       "<div>\n",
       "<style scoped>\n",
       "    .dataframe tbody tr th:only-of-type {\n",
       "        vertical-align: middle;\n",
       "    }\n",
       "\n",
       "    .dataframe tbody tr th {\n",
       "        vertical-align: top;\n",
       "    }\n",
       "\n",
       "    .dataframe thead tr th {\n",
       "        text-align: left;\n",
       "    }\n",
       "\n",
       "    .dataframe thead tr:last-of-type th {\n",
       "        text-align: right;\n",
       "    }\n",
       "</style>\n",
       "<table border=\"1\" class=\"dataframe\">\n",
       "  <thead>\n",
       "    <tr>\n",
       "      <th></th>\n",
       "      <th colspan=\"4\" halign=\"left\">ECONOMY_HEAT_TRANSMISSION (sum)</th>\n",
       "    </tr>\n",
       "    <tr>\n",
       "      <th>Dim8</th>\n",
       "      <th>HEAT_TRANSMISSION_CAPITAL_COSTS</th>\n",
       "      <th>HEAT_TRANSMISSION_OPERATIONAL_COSTS</th>\n",
       "      <th>TRANSMISSION_TRADE_COSTS</th>\n",
       "      <th>TRANSMISSION_TRADE_INCOME</th>\n",
       "    </tr>\n",
       "    <tr>\n",
       "      <th>Dim2</th>\n",
       "      <th></th>\n",
       "      <th></th>\n",
       "      <th></th>\n",
       "      <th></th>\n",
       "    </tr>\n",
       "  </thead>\n",
       "  <tbody>\n",
       "    <tr>\n",
       "      <th>Scenario1</th>\n",
       "      <td>0.0</td>\n",
       "      <td>0.000225</td>\n",
       "      <td>630.736822</td>\n",
       "      <td>630.736822</td>\n",
       "    </tr>\n",
       "    <tr>\n",
       "      <th>Scenario10</th>\n",
       "      <td>0.0</td>\n",
       "      <td>0.000518</td>\n",
       "      <td>461.310127</td>\n",
       "      <td>461.310127</td>\n",
       "    </tr>\n",
       "  </tbody>\n",
       "</table>\n",
       "</div>"
      ],
      "text/plain": [
       "           ECONOMY_HEAT_TRANSMISSION (sum)  \\\n",
       "Dim8       HEAT_TRANSMISSION_CAPITAL_COSTS   \n",
       "Dim2                                         \n",
       "Scenario1                              0.0   \n",
       "Scenario10                             0.0   \n",
       "\n",
       "                                                                         \\\n",
       "Dim8       HEAT_TRANSMISSION_OPERATIONAL_COSTS TRANSMISSION_TRADE_COSTS   \n",
       "Dim2                                                                      \n",
       "Scenario1                             0.000225               630.736822   \n",
       "Scenario10                            0.000518               461.310127   \n",
       "\n",
       "                                      \n",
       "Dim8       TRANSMISSION_TRADE_INCOME  \n",
       "Dim2                                  \n",
       "Scenario1                 630.736822  \n",
       "Scenario10                461.310127  "
      ]
     },
     "execution_count": 39,
     "metadata": {},
     "output_type": "execute_result"
    }
   ],
   "source": [
    "# ECONOMY_HEAT_TRANSMISSION\n",
    "df2 = readData(lf[2])\n",
    "df2 = epsToZeros(df2)\n",
    "df2 = filterYearAndCountry(df2,yyy,ccc)\n",
    "df2 = makeValFloat(df2)\n",
    "df2 = groupFrame(df2,'Dim8',lf[2],aver=False)\n",
    "df2.head(2)"
   ]
  },
  {
   "cell_type": "markdown",
   "metadata": {},
   "source": [
    "## ELEC_DEMAND"
   ]
  },
  {
   "cell_type": "code",
   "execution_count": 39,
   "metadata": {},
   "outputs": [
    {
     "data": {
      "text/plain": [
       "'ELEC_DEMAND'"
      ]
     },
     "execution_count": 39,
     "metadata": {},
     "output_type": "execute_result"
    }
   ],
   "source": [
    "lf[3]"
   ]
  },
  {
   "cell_type": "code",
   "execution_count": 40,
   "metadata": {},
   "outputs": [
    {
     "data": {
      "text/html": [
       "<div>\n",
       "<style scoped>\n",
       "    .dataframe tbody tr th:only-of-type {\n",
       "        vertical-align: middle;\n",
       "    }\n",
       "\n",
       "    .dataframe tbody tr th {\n",
       "        vertical-align: top;\n",
       "    }\n",
       "\n",
       "    .dataframe thead tr th {\n",
       "        text-align: left;\n",
       "    }\n",
       "\n",
       "    .dataframe thead tr:last-of-type th {\n",
       "        text-align: right;\n",
       "    }\n",
       "</style>\n",
       "<table border=\"1\" class=\"dataframe\">\n",
       "  <thead>\n",
       "    <tr>\n",
       "      <th></th>\n",
       "      <th colspan=\"5\" halign=\"left\">ELEC_DEMAND (sum)</th>\n",
       "    </tr>\n",
       "    <tr>\n",
       "      <th>Dim6</th>\n",
       "      <th>ENDO_ELBOILER</th>\n",
       "      <th>ENDO_EV</th>\n",
       "      <th>ENDO_HEATPUMP</th>\n",
       "      <th>ENDO_INTRASTO</th>\n",
       "      <th>EXOGENOUS</th>\n",
       "    </tr>\n",
       "    <tr>\n",
       "      <th>Dim2</th>\n",
       "      <th></th>\n",
       "      <th></th>\n",
       "      <th></th>\n",
       "      <th></th>\n",
       "      <th></th>\n",
       "    </tr>\n",
       "  </thead>\n",
       "  <tbody>\n",
       "    <tr>\n",
       "      <th>Scenario1</th>\n",
       "      <td>0.017731</td>\n",
       "      <td>7.389184</td>\n",
       "      <td>2.440897</td>\n",
       "      <td>0.549655</td>\n",
       "      <td>100.122479</td>\n",
       "    </tr>\n",
       "    <tr>\n",
       "      <th>Scenario10</th>\n",
       "      <td>0.241952</td>\n",
       "      <td>7.389184</td>\n",
       "      <td>19.760165</td>\n",
       "      <td>0.000000</td>\n",
       "      <td>100.122479</td>\n",
       "    </tr>\n",
       "  </tbody>\n",
       "</table>\n",
       "</div>"
      ],
      "text/plain": [
       "           ELEC_DEMAND (sum)                                                  \n",
       "Dim6           ENDO_ELBOILER   ENDO_EV ENDO_HEATPUMP ENDO_INTRASTO   EXOGENOUS\n",
       "Dim2                                                                          \n",
       "Scenario1           0.017731  7.389184      2.440897      0.549655  100.122479\n",
       "Scenario10          0.241952  7.389184     19.760165      0.000000  100.122479"
      ]
     },
     "execution_count": 40,
     "metadata": {},
     "output_type": "execute_result"
    }
   ],
   "source": [
    "# ELEC_DEMAND\n",
    "df3 = readData(lf[3])\n",
    "df3 = epsToZeros(df3)\n",
    "df3 = filterYearAndCountry(df3,yyy,ccc)\n",
    "df3 = makeValFloat(df3)\n",
    "df3 = groupFrame(df3,'Dim6',lf[3],aver=False)\n",
    "df3.head(2)"
   ]
  },
  {
   "cell_type": "markdown",
   "metadata": {},
   "source": [
    "## ELEC_PRICE"
   ]
  },
  {
   "cell_type": "code",
   "execution_count": 64,
   "metadata": {},
   "outputs": [
    {
     "data": {
      "text/plain": [
       "'ELEC_PRICE'"
      ]
     },
     "execution_count": 64,
     "metadata": {},
     "output_type": "execute_result"
    }
   ],
   "source": [
    "lf[4]"
   ]
  },
  {
   "cell_type": "code",
   "execution_count": 41,
   "metadata": {},
   "outputs": [
    {
     "data": {
      "text/html": [
       "<div>\n",
       "<style scoped>\n",
       "    .dataframe tbody tr th:only-of-type {\n",
       "        vertical-align: middle;\n",
       "    }\n",
       "\n",
       "    .dataframe tbody tr th {\n",
       "        vertical-align: top;\n",
       "    }\n",
       "\n",
       "    .dataframe thead tr th {\n",
       "        text-align: left;\n",
       "    }\n",
       "\n",
       "    .dataframe thead tr:last-of-type th {\n",
       "        text-align: right;\n",
       "    }\n",
       "</style>\n",
       "<table border=\"1\" class=\"dataframe\">\n",
       "  <thead>\n",
       "    <tr>\n",
       "      <th></th>\n",
       "      <th>ELEC_PRICE (mean)</th>\n",
       "    </tr>\n",
       "    <tr>\n",
       "      <th>Dim7</th>\n",
       "      <th>Money_per_MWh</th>\n",
       "    </tr>\n",
       "    <tr>\n",
       "      <th>Dim2</th>\n",
       "      <th></th>\n",
       "    </tr>\n",
       "  </thead>\n",
       "  <tbody>\n",
       "    <tr>\n",
       "      <th>Scenario1</th>\n",
       "      <td>54.064789</td>\n",
       "    </tr>\n",
       "    <tr>\n",
       "      <th>Scenario10</th>\n",
       "      <td>58.679853</td>\n",
       "    </tr>\n",
       "  </tbody>\n",
       "</table>\n",
       "</div>"
      ],
      "text/plain": [
       "           ELEC_PRICE (mean)\n",
       "Dim7           Money_per_MWh\n",
       "Dim2                        \n",
       "Scenario1          54.064789\n",
       "Scenario10         58.679853"
      ]
     },
     "execution_count": 41,
     "metadata": {},
     "output_type": "execute_result"
    }
   ],
   "source": [
    "# ELEC_PRICE\n",
    "df4 = readData(lf[4])\n",
    "df4 = epsToZeros(df4)\n",
    "df4 = filterYearAndCountry(df4,yyy,ccc)\n",
    "df4 = makeValFloat(df4)\n",
    "df4 = groupFrame(df4,'Dim7',lf[4],aver=True)\n",
    "df4.head(2)"
   ]
  },
  {
   "cell_type": "markdown",
   "metadata": {},
   "source": [
    "## ELEC_PRICE_HOURLY"
   ]
  },
  {
   "cell_type": "code",
   "execution_count": 70,
   "metadata": {},
   "outputs": [
    {
     "data": {
      "text/plain": [
       "'ELEC_PRICE_HOURLY'"
      ]
     },
     "execution_count": 70,
     "metadata": {},
     "output_type": "execute_result"
    }
   ],
   "source": [
    "lf[5]"
   ]
  },
  {
   "cell_type": "code",
   "execution_count": 42,
   "metadata": {},
   "outputs": [
    {
     "data": {
      "text/html": [
       "<div>\n",
       "<style scoped>\n",
       "    .dataframe tbody tr th:only-of-type {\n",
       "        vertical-align: middle;\n",
       "    }\n",
       "\n",
       "    .dataframe tbody tr th {\n",
       "        vertical-align: top;\n",
       "    }\n",
       "\n",
       "    .dataframe thead tr th {\n",
       "        text-align: left;\n",
       "    }\n",
       "\n",
       "    .dataframe thead tr:last-of-type th {\n",
       "        text-align: right;\n",
       "    }\n",
       "</style>\n",
       "<table border=\"1\" class=\"dataframe\">\n",
       "  <thead>\n",
       "    <tr>\n",
       "      <th></th>\n",
       "      <th colspan=\"5\" halign=\"left\">ELEC_PRICE_HOURLY (mean)</th>\n",
       "    </tr>\n",
       "    <tr>\n",
       "      <th>Dim6</th>\n",
       "      <th>S01</th>\n",
       "      <th>S11</th>\n",
       "      <th>S22</th>\n",
       "      <th>S32</th>\n",
       "      <th>S43</th>\n",
       "    </tr>\n",
       "    <tr>\n",
       "      <th>Dim2</th>\n",
       "      <th></th>\n",
       "      <th></th>\n",
       "      <th></th>\n",
       "      <th></th>\n",
       "      <th></th>\n",
       "    </tr>\n",
       "  </thead>\n",
       "  <tbody>\n",
       "    <tr>\n",
       "      <th>Scenario1</th>\n",
       "      <td>31.226674</td>\n",
       "      <td>74.843637</td>\n",
       "      <td>46.551809</td>\n",
       "      <td>46.288509</td>\n",
       "      <td>71.413314</td>\n",
       "    </tr>\n",
       "    <tr>\n",
       "      <th>Scenario10</th>\n",
       "      <td>34.390692</td>\n",
       "      <td>78.171579</td>\n",
       "      <td>51.718559</td>\n",
       "      <td>54.248490</td>\n",
       "      <td>74.869942</td>\n",
       "    </tr>\n",
       "  </tbody>\n",
       "</table>\n",
       "</div>"
      ],
      "text/plain": [
       "           ELEC_PRICE_HOURLY (mean)                                   \\\n",
       "Dim6                            S01        S11        S22        S32   \n",
       "Dim2                                                                   \n",
       "Scenario1                 31.226674  74.843637  46.551809  46.288509   \n",
       "Scenario10                34.390692  78.171579  51.718559  54.248490   \n",
       "\n",
       "                       \n",
       "Dim6              S43  \n",
       "Dim2                   \n",
       "Scenario1   71.413314  \n",
       "Scenario10  74.869942  "
      ]
     },
     "execution_count": 42,
     "metadata": {},
     "output_type": "execute_result"
    }
   ],
   "source": [
    "# ELEC_PRICE_HOURLY\n",
    "df5 = readData(lf[5])\n",
    "df5 = epsToZeros(df5)\n",
    "df5 = filterYearAndCountry(df5,yyy,ccc)\n",
    "df5 = makeValFloat(df5)\n",
    "df5 = groupFrame(df5,'Dim6',lf[5],aver=True)\n",
    "df5.head(2)"
   ]
  },
  {
   "cell_type": "markdown",
   "metadata": {},
   "source": [
    "## ELEC_TRANSMISSION_CAPACITY"
   ]
  },
  {
   "cell_type": "code",
   "execution_count": 78,
   "metadata": {},
   "outputs": [
    {
     "data": {
      "text/plain": [
       "'ELEC_TRANSMISSION_CAPACITY'"
      ]
     },
     "execution_count": 78,
     "metadata": {},
     "output_type": "execute_result"
    }
   ],
   "source": [
    "lf[6]"
   ]
  },
  {
   "cell_type": "code",
   "execution_count": 43,
   "metadata": {},
   "outputs": [
    {
     "data": {
      "text/html": [
       "<div>\n",
       "<style scoped>\n",
       "    .dataframe tbody tr th:only-of-type {\n",
       "        vertical-align: middle;\n",
       "    }\n",
       "\n",
       "    .dataframe tbody tr th {\n",
       "        vertical-align: top;\n",
       "    }\n",
       "\n",
       "    .dataframe thead tr th {\n",
       "        text-align: left;\n",
       "    }\n",
       "\n",
       "    .dataframe thead tr:last-of-type th {\n",
       "        text-align: right;\n",
       "    }\n",
       "</style>\n",
       "<table border=\"1\" class=\"dataframe\">\n",
       "  <thead>\n",
       "    <tr>\n",
       "      <th></th>\n",
       "      <th colspan=\"9\" halign=\"left\">ELEC_TRANSMISSION_CAPACITY (sum)</th>\n",
       "    </tr>\n",
       "    <tr>\n",
       "      <th>direction</th>\n",
       "      <th>DK1_DE4-N</th>\n",
       "      <th>DK1_DK2</th>\n",
       "      <th>DK1_NL</th>\n",
       "      <th>DK1_NO2</th>\n",
       "      <th>DK1_SE3</th>\n",
       "      <th>DK1_UK</th>\n",
       "      <th>DK2_DE4-E</th>\n",
       "      <th>DK2_DK1</th>\n",
       "      <th>DK2_SE4</th>\n",
       "    </tr>\n",
       "    <tr>\n",
       "      <th>Dim2</th>\n",
       "      <th></th>\n",
       "      <th></th>\n",
       "      <th></th>\n",
       "      <th></th>\n",
       "      <th></th>\n",
       "      <th></th>\n",
       "      <th></th>\n",
       "      <th></th>\n",
       "      <th></th>\n",
       "    </tr>\n",
       "  </thead>\n",
       "  <tbody>\n",
       "    <tr>\n",
       "      <th>Scenario1</th>\n",
       "      <td>10.411282</td>\n",
       "      <td>1.77</td>\n",
       "      <td>9.375176</td>\n",
       "      <td>4.896000</td>\n",
       "      <td>9.519111</td>\n",
       "      <td>4.2</td>\n",
       "      <td>5.651687</td>\n",
       "      <td>1.8</td>\n",
       "      <td>5.100000</td>\n",
       "    </tr>\n",
       "    <tr>\n",
       "      <th>Scenario10</th>\n",
       "      <td>9.060000</td>\n",
       "      <td>1.77</td>\n",
       "      <td>4.089523</td>\n",
       "      <td>5.124768</td>\n",
       "      <td>11.571565</td>\n",
       "      <td>4.2</td>\n",
       "      <td>2.955000</td>\n",
       "      <td>1.8</td>\n",
       "      <td>6.892446</td>\n",
       "    </tr>\n",
       "  </tbody>\n",
       "</table>\n",
       "</div>"
      ],
      "text/plain": [
       "           ELEC_TRANSMISSION_CAPACITY (sum)                              \\\n",
       "direction                         DK1_DE4-N DK1_DK2    DK1_NL   DK1_NO2   \n",
       "Dim2                                                                      \n",
       "Scenario1                         10.411282    1.77  9.375176  4.896000   \n",
       "Scenario10                         9.060000    1.77  4.089523  5.124768   \n",
       "\n",
       "                                                          \n",
       "direction     DK1_SE3 DK1_UK DK2_DE4-E DK2_DK1   DK2_SE4  \n",
       "Dim2                                                      \n",
       "Scenario1    9.519111    4.2  5.651687     1.8  5.100000  \n",
       "Scenario10  11.571565    4.2  2.955000     1.8  6.892446  "
      ]
     },
     "execution_count": 43,
     "metadata": {},
     "output_type": "execute_result"
    }
   ],
   "source": [
    "# ELEC_TRANSMISSION_CAPACITY\n",
    "df6 = readData(lf[6])\n",
    "df6 = epsToZeros(df6)\n",
    "df6 = filterYearAndCountry(df6,yyy,ccc)\n",
    "df6 = makeValFloat(df6)\n",
    "df6['direction'] = df6.Dim5 + '_' + df6.Dim6\n",
    "df6 = groupFrame(df6,'direction',lf[6],aver=False)\n",
    "df6.head(2)"
   ]
  },
  {
   "cell_type": "markdown",
   "metadata": {},
   "source": [
    "## ELEC_TRANSMISSION_FLOW"
   ]
  },
  {
   "cell_type": "code",
   "execution_count": 83,
   "metadata": {
    "scrolled": true
   },
   "outputs": [
    {
     "data": {
      "text/plain": [
       "'ELEC_TRANSMISSION_FLOW'"
      ]
     },
     "execution_count": 83,
     "metadata": {},
     "output_type": "execute_result"
    }
   ],
   "source": [
    "lf[7]"
   ]
  },
  {
   "cell_type": "code",
   "execution_count": 46,
   "metadata": {},
   "outputs": [
    {
     "data": {
      "text/html": [
       "<div>\n",
       "<style scoped>\n",
       "    .dataframe tbody tr th:only-of-type {\n",
       "        vertical-align: middle;\n",
       "    }\n",
       "\n",
       "    .dataframe tbody tr th {\n",
       "        vertical-align: top;\n",
       "    }\n",
       "\n",
       "    .dataframe thead tr th {\n",
       "        text-align: left;\n",
       "    }\n",
       "\n",
       "    .dataframe thead tr:last-of-type th {\n",
       "        text-align: right;\n",
       "    }\n",
       "</style>\n",
       "<table border=\"1\" class=\"dataframe\">\n",
       "  <thead>\n",
       "    <tr>\n",
       "      <th></th>\n",
       "      <th colspan=\"16\" halign=\"left\">ELEC_TRANSMISSION_FLOW (sum)</th>\n",
       "    </tr>\n",
       "    <tr>\n",
       "      <th>direction</th>\n",
       "      <th>DE4-E_DK2</th>\n",
       "      <th>DE4-N_DK1</th>\n",
       "      <th>DK1_DE4-N</th>\n",
       "      <th>DK1_DK2</th>\n",
       "      <th>DK1_NL</th>\n",
       "      <th>DK1_NO2</th>\n",
       "      <th>DK1_SE3</th>\n",
       "      <th>DK1_UK</th>\n",
       "      <th>DK2_DE4-E</th>\n",
       "      <th>DK2_DK1</th>\n",
       "      <th>DK2_SE4</th>\n",
       "      <th>NL_DK1</th>\n",
       "      <th>NO2_DK1</th>\n",
       "      <th>SE3_DK1</th>\n",
       "      <th>SE4_DK2</th>\n",
       "      <th>UK_DK1</th>\n",
       "    </tr>\n",
       "    <tr>\n",
       "      <th>Dim2</th>\n",
       "      <th></th>\n",
       "      <th></th>\n",
       "      <th></th>\n",
       "      <th></th>\n",
       "      <th></th>\n",
       "      <th></th>\n",
       "      <th></th>\n",
       "      <th></th>\n",
       "      <th></th>\n",
       "      <th></th>\n",
       "      <th></th>\n",
       "      <th></th>\n",
       "      <th></th>\n",
       "      <th></th>\n",
       "      <th></th>\n",
       "      <th></th>\n",
       "    </tr>\n",
       "  </thead>\n",
       "  <tbody>\n",
       "    <tr>\n",
       "      <th>Scenario1</th>\n",
       "      <td>0.060723</td>\n",
       "      <td>0.498527</td>\n",
       "      <td>52.263303</td>\n",
       "      <td>3.300211</td>\n",
       "      <td>51.288917</td>\n",
       "      <td>7.427024</td>\n",
       "      <td>26.622734</td>\n",
       "      <td>18.645123</td>\n",
       "      <td>30.606655</td>\n",
       "      <td>1.998565</td>\n",
       "      <td>9.547093</td>\n",
       "      <td>4.493234</td>\n",
       "      <td>13.833772</td>\n",
       "      <td>31.765463</td>\n",
       "      <td>10.255517</td>\n",
       "      <td>6.740544</td>\n",
       "    </tr>\n",
       "    <tr>\n",
       "      <th>Scenario10</th>\n",
       "      <td>6.642211</td>\n",
       "      <td>11.211683</td>\n",
       "      <td>22.533587</td>\n",
       "      <td>5.471912</td>\n",
       "      <td>15.292184</td>\n",
       "      <td>2.452366</td>\n",
       "      <td>22.249023</td>\n",
       "      <td>13.229752</td>\n",
       "      <td>8.620229</td>\n",
       "      <td>1.330232</td>\n",
       "      <td>0.499585</td>\n",
       "      <td>6.950268</td>\n",
       "      <td>26.196357</td>\n",
       "      <td>49.469099</td>\n",
       "      <td>28.458313</td>\n",
       "      <td>10.171865</td>\n",
       "    </tr>\n",
       "  </tbody>\n",
       "</table>\n",
       "</div>"
      ],
      "text/plain": [
       "           ELEC_TRANSMISSION_FLOW (sum)                                  \\\n",
       "direction                     DE4-E_DK2  DE4-N_DK1  DK1_DE4-N   DK1_DK2   \n",
       "Dim2                                                                      \n",
       "Scenario1                      0.060723   0.498527  52.263303  3.300211   \n",
       "Scenario10                     6.642211  11.211683  22.533587  5.471912   \n",
       "\n",
       "                                                                            \\\n",
       "direction      DK1_NL   DK1_NO2    DK1_SE3     DK1_UK  DK2_DE4-E   DK2_DK1   \n",
       "Dim2                                                                         \n",
       "Scenario1   51.288917  7.427024  26.622734  18.645123  30.606655  1.998565   \n",
       "Scenario10  15.292184  2.452366  22.249023  13.229752   8.620229  1.330232   \n",
       "\n",
       "                                                                            \n",
       "direction    DK2_SE4    NL_DK1    NO2_DK1    SE3_DK1    SE4_DK2     UK_DK1  \n",
       "Dim2                                                                        \n",
       "Scenario1   9.547093  4.493234  13.833772  31.765463  10.255517   6.740544  \n",
       "Scenario10  0.499585  6.950268  26.196357  49.469099  28.458313  10.171865  "
      ]
     },
     "execution_count": 46,
     "metadata": {},
     "output_type": "execute_result"
    }
   ],
   "source": [
    "# ELEC_TRANSMISSION_FLOW\n",
    "df7 = readData(lf[7])\n",
    "df7 = epsToZeros(df7)\n",
    "df7 = filterYearAndCountry(df7,yyy,{})\n",
    "df7 = makeValFloat(df7)\n",
    "df7['direction'] = df7.Dim5 + '_' + df7.Dim6\n",
    "df7 = df7.loc[(df7.direction.str.contains('|'.join(rrr))==True), :]\n",
    "df7 = groupFrame(df7,'direction',lf[7],aver=False)\n",
    "df7.head(2)"
   ]
  },
  {
   "cell_type": "markdown",
   "metadata": {},
   "source": [
    "## EMISSIONS_CO2"
   ]
  },
  {
   "cell_type": "code",
   "execution_count": 135,
   "metadata": {},
   "outputs": [
    {
     "data": {
      "text/plain": [
       "'EMISSIONS_CO2'"
      ]
     },
     "execution_count": 135,
     "metadata": {},
     "output_type": "execute_result"
    }
   ],
   "source": [
    "lf[8]"
   ]
  },
  {
   "cell_type": "code",
   "execution_count": 48,
   "metadata": {},
   "outputs": [
    {
     "data": {
      "text/html": [
       "<div>\n",
       "<style scoped>\n",
       "    .dataframe tbody tr th:only-of-type {\n",
       "        vertical-align: middle;\n",
       "    }\n",
       "\n",
       "    .dataframe tbody tr th {\n",
       "        vertical-align: top;\n",
       "    }\n",
       "\n",
       "    .dataframe thead tr th {\n",
       "        text-align: left;\n",
       "    }\n",
       "\n",
       "    .dataframe thead tr:last-of-type th {\n",
       "        text-align: right;\n",
       "    }\n",
       "</style>\n",
       "<table border=\"1\" class=\"dataframe\">\n",
       "  <thead>\n",
       "    <tr>\n",
       "      <th></th>\n",
       "      <th colspan=\"14\" halign=\"left\">EMISSIONS_CO2 (sum)</th>\n",
       "    </tr>\n",
       "    <tr>\n",
       "      <th>technology</th>\n",
       "      <th>COAL_BOILERS</th>\n",
       "      <th>COAL_CHP-BACK-PRESSURE</th>\n",
       "      <th>COAL_CHP-EXTRACTION</th>\n",
       "      <th>COAL_CONDENSING</th>\n",
       "      <th>FUELOIL_BOILERS</th>\n",
       "      <th>FUELOIL_CHP-BACK-PRESSURE</th>\n",
       "      <th>FUELOIL_CONDENSING</th>\n",
       "      <th>LIGHTOIL_BOILERS</th>\n",
       "      <th>LIGHTOIL_CHP-BACK-PRESSURE</th>\n",
       "      <th>LIGHTOIL_CONDENSING</th>\n",
       "      <th>NATGAS_BOILERS</th>\n",
       "      <th>NATGAS_CHP-BACK-PRESSURE</th>\n",
       "      <th>NATGAS_CHP-EXTRACTION</th>\n",
       "      <th>NATGAS_CONDENSING</th>\n",
       "    </tr>\n",
       "    <tr>\n",
       "      <th>Dim2</th>\n",
       "      <th></th>\n",
       "      <th></th>\n",
       "      <th></th>\n",
       "      <th></th>\n",
       "      <th></th>\n",
       "      <th></th>\n",
       "      <th></th>\n",
       "      <th></th>\n",
       "      <th></th>\n",
       "      <th></th>\n",
       "      <th></th>\n",
       "      <th></th>\n",
       "      <th></th>\n",
       "      <th></th>\n",
       "    </tr>\n",
       "  </thead>\n",
       "  <tbody>\n",
       "    <tr>\n",
       "      <th>Scenario1</th>\n",
       "      <td>0.000000</td>\n",
       "      <td>41.917468</td>\n",
       "      <td>6.883196e-09</td>\n",
       "      <td>0.0</td>\n",
       "      <td>0.000000</td>\n",
       "      <td>0.000000</td>\n",
       "      <td>0.031298</td>\n",
       "      <td>0.000000</td>\n",
       "      <td>6.170311</td>\n",
       "      <td>9.072628</td>\n",
       "      <td>2.858547</td>\n",
       "      <td>55.022099</td>\n",
       "      <td>0.0</td>\n",
       "      <td>773.219416</td>\n",
       "    </tr>\n",
       "    <tr>\n",
       "      <th>Scenario10</th>\n",
       "      <td>5.326626</td>\n",
       "      <td>894.718410</td>\n",
       "      <td>4.328434e+03</td>\n",
       "      <td>0.0</td>\n",
       "      <td>0.439693</td>\n",
       "      <td>1.958605</td>\n",
       "      <td>0.031298</td>\n",
       "      <td>5.551103</td>\n",
       "      <td>6.854302</td>\n",
       "      <td>9.072628</td>\n",
       "      <td>897.469777</td>\n",
       "      <td>211.306336</td>\n",
       "      <td>0.0</td>\n",
       "      <td>6.199197</td>\n",
       "    </tr>\n",
       "  </tbody>\n",
       "</table>\n",
       "</div>"
      ],
      "text/plain": [
       "           EMISSIONS_CO2 (sum)                                             \\\n",
       "technology        COAL_BOILERS COAL_CHP-BACK-PRESSURE COAL_CHP-EXTRACTION   \n",
       "Dim2                                                                        \n",
       "Scenario1             0.000000              41.917468        6.883196e-09   \n",
       "Scenario10            5.326626             894.718410        4.328434e+03   \n",
       "\n",
       "                                                                      \\\n",
       "technology COAL_CONDENSING FUELOIL_BOILERS FUELOIL_CHP-BACK-PRESSURE   \n",
       "Dim2                                                                   \n",
       "Scenario1              0.0        0.000000                  0.000000   \n",
       "Scenario10             0.0        0.439693                  1.958605   \n",
       "\n",
       "                                                                           \\\n",
       "technology FUELOIL_CONDENSING LIGHTOIL_BOILERS LIGHTOIL_CHP-BACK-PRESSURE   \n",
       "Dim2                                                                        \n",
       "Scenario1            0.031298         0.000000                   6.170311   \n",
       "Scenario10           0.031298         5.551103                   6.854302   \n",
       "\n",
       "                                                                        \\\n",
       "technology LIGHTOIL_CONDENSING NATGAS_BOILERS NATGAS_CHP-BACK-PRESSURE   \n",
       "Dim2                                                                     \n",
       "Scenario1             9.072628       2.858547                55.022099   \n",
       "Scenario10            9.072628     897.469777               211.306336   \n",
       "\n",
       "                                                    \n",
       "technology NATGAS_CHP-EXTRACTION NATGAS_CONDENSING  \n",
       "Dim2                                                \n",
       "Scenario1                    0.0        773.219416  \n",
       "Scenario10                   0.0          6.199197  "
      ]
     },
     "execution_count": 48,
     "metadata": {},
     "output_type": "execute_result"
    }
   ],
   "source": [
    "# EMISSIONS_CO2\n",
    "df8 = readData(lf[8])\n",
    "df8 = epsToZeros(df8)\n",
    "df8 = filterYearAndCountry(df8,yyy,ccc)\n",
    "df8 = makeValFloat(df8)\n",
    "df8['technology'] = df8.Dim8 + '_' + df8.Dim9\n",
    "df8 = groupFrame(df8,'technology',lf[8],aver=False)\n",
    "df8.head(2)"
   ]
  },
  {
   "cell_type": "markdown",
   "metadata": {},
   "source": [
    "## ENERGY_PRODUCTION"
   ]
  },
  {
   "cell_type": "code",
   "execution_count": 187,
   "metadata": {},
   "outputs": [
    {
     "data": {
      "text/plain": [
       "'ENERGY_PRODUCTION'"
      ]
     },
     "execution_count": 187,
     "metadata": {},
     "output_type": "execute_result"
    }
   ],
   "source": [
    "lf[9]"
   ]
  },
  {
   "cell_type": "code",
   "execution_count": 49,
   "metadata": {},
   "outputs": [
    {
     "data": {
      "text/html": [
       "<div>\n",
       "<style scoped>\n",
       "    .dataframe tbody tr th:only-of-type {\n",
       "        vertical-align: middle;\n",
       "    }\n",
       "\n",
       "    .dataframe tbody tr th {\n",
       "        vertical-align: top;\n",
       "    }\n",
       "\n",
       "    .dataframe thead tr th {\n",
       "        text-align: left;\n",
       "    }\n",
       "\n",
       "    .dataframe thead tr:last-of-type th {\n",
       "        text-align: right;\n",
       "    }\n",
       "</style>\n",
       "<table border=\"1\" class=\"dataframe\">\n",
       "  <thead>\n",
       "    <tr>\n",
       "      <th></th>\n",
       "      <th colspan=\"21\" halign=\"left\">ENERGY_PRODUCTION (sum)</th>\n",
       "    </tr>\n",
       "    <tr>\n",
       "      <th>technology</th>\n",
       "      <th>ELECTRICITY_BIOGAS_CHP-BACK-PRESSURE</th>\n",
       "      <th>ELECTRICITY_BIOGAS_CONDENSING</th>\n",
       "      <th>ELECTRICITY_COAL_CHP-BACK-PRESSURE</th>\n",
       "      <th>ELECTRICITY_COAL_CHP-EXTRACTION</th>\n",
       "      <th>ELECTRICITY_COAL_CONDENSING</th>\n",
       "      <th>ELECTRICITY_ELECTRIC_INTRASEASONAL-ELECT-STORAGE</th>\n",
       "      <th>ELECTRICITY_FUELOIL_CHP-BACK-PRESSURE</th>\n",
       "      <th>ELECTRICITY_FUELOIL_CONDENSING</th>\n",
       "      <th>ELECTRICITY_LIGHTOIL_CHP-BACK-PRESSURE</th>\n",
       "      <th>ELECTRICITY_LIGHTOIL_CONDENSING</th>\n",
       "      <th>...</th>\n",
       "      <th>HEAT_STRAW_BOILERS</th>\n",
       "      <th>HEAT_STRAW_CHP-BACK-PRESSURE</th>\n",
       "      <th>HEAT_SUN_SOLAR-HEATING</th>\n",
       "      <th>HEAT_WASTEHEAT_BOILERS</th>\n",
       "      <th>HEAT_WOODCHIPS_BOILERS</th>\n",
       "      <th>HEAT_WOODCHIPS_CHP-BACK-PRESSURE</th>\n",
       "      <th>HEAT_WOODPELLETS_BOILERS</th>\n",
       "      <th>HEAT_WOODPELLETS_CHP-BACK-PRESSURE</th>\n",
       "      <th>HEAT_WOODPELLETS_CHP-EXTRACTION</th>\n",
       "      <th>HEAT_WOODWASTE_BOILERS</th>\n",
       "    </tr>\n",
       "    <tr>\n",
       "      <th>Dim2</th>\n",
       "      <th></th>\n",
       "      <th></th>\n",
       "      <th></th>\n",
       "      <th></th>\n",
       "      <th></th>\n",
       "      <th></th>\n",
       "      <th></th>\n",
       "      <th></th>\n",
       "      <th></th>\n",
       "      <th></th>\n",
       "      <th></th>\n",
       "      <th></th>\n",
       "      <th></th>\n",
       "      <th></th>\n",
       "      <th></th>\n",
       "      <th></th>\n",
       "      <th></th>\n",
       "      <th></th>\n",
       "      <th></th>\n",
       "      <th></th>\n",
       "      <th></th>\n",
       "    </tr>\n",
       "  </thead>\n",
       "  <tbody>\n",
       "    <tr>\n",
       "      <th>Scenario1</th>\n",
       "      <td>0.142967</td>\n",
       "      <td>0.000373</td>\n",
       "      <td>0.046772</td>\n",
       "      <td>6.815530e-12</td>\n",
       "      <td>0.0</td>\n",
       "      <td>7.647365</td>\n",
       "      <td>0.0000</td>\n",
       "      <td>0.000049</td>\n",
       "      <td>0.008555</td>\n",
       "      <td>0.013303</td>\n",
       "      <td>...</td>\n",
       "      <td>4.020378</td>\n",
       "      <td>15.861445</td>\n",
       "      <td>6.048965</td>\n",
       "      <td>0.474354</td>\n",
       "      <td>5.069544</td>\n",
       "      <td>83.567709</td>\n",
       "      <td>0.00000</td>\n",
       "      <td>2.631275</td>\n",
       "      <td>1.066647</td>\n",
       "      <td>0.831019</td>\n",
       "    </tr>\n",
       "    <tr>\n",
       "      <th>Scenario10</th>\n",
       "      <td>1.977862</td>\n",
       "      <td>0.000250</td>\n",
       "      <td>0.979251</td>\n",
       "      <td>4.641724e+00</td>\n",
       "      <td>0.0</td>\n",
       "      <td>0.000000</td>\n",
       "      <td>0.0025</td>\n",
       "      <td>0.000049</td>\n",
       "      <td>0.009506</td>\n",
       "      <td>0.013303</td>\n",
       "      <td>...</td>\n",
       "      <td>0.147762</td>\n",
       "      <td>0.750449</td>\n",
       "      <td>1.145687</td>\n",
       "      <td>0.474354</td>\n",
       "      <td>31.960424</td>\n",
       "      <td>4.428785</td>\n",
       "      <td>0.09084</td>\n",
       "      <td>0.007574</td>\n",
       "      <td>1.064476</td>\n",
       "      <td>0.799486</td>\n",
       "    </tr>\n",
       "  </tbody>\n",
       "</table>\n",
       "<p>2 rows × 50 columns</p>\n",
       "</div>"
      ],
      "text/plain": [
       "                        ENERGY_PRODUCTION (sum)                                \\\n",
       "technology ELECTRICITY_BIOGAS_CHP-BACK-PRESSURE ELECTRICITY_BIOGAS_CONDENSING   \n",
       "Dim2                                                                            \n",
       "Scenario1                              0.142967                      0.000373   \n",
       "Scenario10                             1.977862                      0.000250   \n",
       "\n",
       "                                                                               \\\n",
       "technology ELECTRICITY_COAL_CHP-BACK-PRESSURE ELECTRICITY_COAL_CHP-EXTRACTION   \n",
       "Dim2                                                                            \n",
       "Scenario1                            0.046772                    6.815530e-12   \n",
       "Scenario10                           0.979251                    4.641724e+00   \n",
       "\n",
       "                                        \\\n",
       "technology ELECTRICITY_COAL_CONDENSING   \n",
       "Dim2                                     \n",
       "Scenario1                          0.0   \n",
       "Scenario10                         0.0   \n",
       "\n",
       "                                                             \\\n",
       "technology ELECTRICITY_ELECTRIC_INTRASEASONAL-ELECT-STORAGE   \n",
       "Dim2                                                          \n",
       "Scenario1                                          7.647365   \n",
       "Scenario10                                         0.000000   \n",
       "\n",
       "                                                  \\\n",
       "technology ELECTRICITY_FUELOIL_CHP-BACK-PRESSURE   \n",
       "Dim2                                               \n",
       "Scenario1                                 0.0000   \n",
       "Scenario10                                0.0025   \n",
       "\n",
       "                                           \\\n",
       "technology ELECTRICITY_FUELOIL_CONDENSING   \n",
       "Dim2                                        \n",
       "Scenario1                        0.000049   \n",
       "Scenario10                       0.000049   \n",
       "\n",
       "                                                   \\\n",
       "technology ELECTRICITY_LIGHTOIL_CHP-BACK-PRESSURE   \n",
       "Dim2                                                \n",
       "Scenario1                                0.008555   \n",
       "Scenario10                               0.009506   \n",
       "\n",
       "                                            ...                     \\\n",
       "technology ELECTRICITY_LIGHTOIL_CONDENSING  ... HEAT_STRAW_BOILERS   \n",
       "Dim2                                        ...                      \n",
       "Scenario1                         0.013303  ...           4.020378   \n",
       "Scenario10                        0.013303  ...           0.147762   \n",
       "\n",
       "                                                                \\\n",
       "technology HEAT_STRAW_CHP-BACK-PRESSURE HEAT_SUN_SOLAR-HEATING   \n",
       "Dim2                                                             \n",
       "Scenario1                     15.861445               6.048965   \n",
       "Scenario10                     0.750449               1.145687   \n",
       "\n",
       "                                                          \\\n",
       "technology HEAT_WASTEHEAT_BOILERS HEAT_WOODCHIPS_BOILERS   \n",
       "Dim2                                                       \n",
       "Scenario1                0.474354               5.069544   \n",
       "Scenario10               0.474354              31.960424   \n",
       "\n",
       "                                                                      \\\n",
       "technology HEAT_WOODCHIPS_CHP-BACK-PRESSURE HEAT_WOODPELLETS_BOILERS   \n",
       "Dim2                                                                   \n",
       "Scenario1                         83.567709                  0.00000   \n",
       "Scenario10                         4.428785                  0.09084   \n",
       "\n",
       "                                                                               \\\n",
       "technology HEAT_WOODPELLETS_CHP-BACK-PRESSURE HEAT_WOODPELLETS_CHP-EXTRACTION   \n",
       "Dim2                                                                            \n",
       "Scenario1                            2.631275                        1.066647   \n",
       "Scenario10                           0.007574                        1.064476   \n",
       "\n",
       "                                   \n",
       "technology HEAT_WOODWASTE_BOILERS  \n",
       "Dim2                               \n",
       "Scenario1                0.831019  \n",
       "Scenario10               0.799486  \n",
       "\n",
       "[2 rows x 50 columns]"
      ]
     },
     "execution_count": 49,
     "metadata": {},
     "output_type": "execute_result"
    }
   ],
   "source": [
    "# EMISSIONS_CO2\n",
    "df9 = readData(lf[9])\n",
    "df9 = epsToZeros(df9)\n",
    "df9 = filterYearAndCountry(df9,yyy,ccc)\n",
    "df9 = makeValFloat(df9)\n",
    "df9['technology'] = df9.Dim9 + '_' + df9.Dim8 + '_' + df9.Dim10\n",
    "df9 = groupFrame(df9,'technology',lf[9],aver=False)\n",
    "df9.head(2)"
   ]
  },
  {
   "cell_type": "markdown",
   "metadata": {},
   "source": [
    "## FUEL_CONSUMPTION"
   ]
  },
  {
   "cell_type": "code",
   "execution_count": 195,
   "metadata": {},
   "outputs": [
    {
     "data": {
      "text/plain": [
       "'FUEL_CONSUMPTION'"
      ]
     },
     "execution_count": 195,
     "metadata": {},
     "output_type": "execute_result"
    }
   ],
   "source": [
    "lf[10]"
   ]
  },
  {
   "cell_type": "code",
   "execution_count": 52,
   "metadata": {},
   "outputs": [
    {
     "data": {
      "text/html": [
       "<div>\n",
       "<style scoped>\n",
       "    .dataframe tbody tr th:only-of-type {\n",
       "        vertical-align: middle;\n",
       "    }\n",
       "\n",
       "    .dataframe tbody tr th {\n",
       "        vertical-align: top;\n",
       "    }\n",
       "\n",
       "    .dataframe thead tr th {\n",
       "        text-align: left;\n",
       "    }\n",
       "\n",
       "    .dataframe thead tr:last-of-type th {\n",
       "        text-align: right;\n",
       "    }\n",
       "</style>\n",
       "<table border=\"1\" class=\"dataframe\">\n",
       "  <thead>\n",
       "    <tr>\n",
       "      <th></th>\n",
       "      <th colspan=\"17\" halign=\"left\">FUEL_CONSUMPTION (sum)</th>\n",
       "    </tr>\n",
       "    <tr>\n",
       "      <th>Dim8</th>\n",
       "      <th>BIOGAS</th>\n",
       "      <th>BIOOIL</th>\n",
       "      <th>COAL</th>\n",
       "      <th>ELECTRIC</th>\n",
       "      <th>FUELOIL</th>\n",
       "      <th>HEAT</th>\n",
       "      <th>LIGHTOIL</th>\n",
       "      <th>MUNIWASTE</th>\n",
       "      <th>NATGAS</th>\n",
       "      <th>STRAW</th>\n",
       "      <th>SUN</th>\n",
       "      <th>WASTEHEAT</th>\n",
       "      <th>WATER</th>\n",
       "      <th>WIND</th>\n",
       "      <th>WOODCHIPS</th>\n",
       "      <th>WOODPELLETS</th>\n",
       "      <th>WOODWASTE</th>\n",
       "    </tr>\n",
       "    <tr>\n",
       "      <th>Dim2</th>\n",
       "      <th></th>\n",
       "      <th></th>\n",
       "      <th></th>\n",
       "      <th></th>\n",
       "      <th></th>\n",
       "      <th></th>\n",
       "      <th></th>\n",
       "      <th></th>\n",
       "      <th></th>\n",
       "      <th></th>\n",
       "      <th></th>\n",
       "      <th></th>\n",
       "      <th></th>\n",
       "      <th></th>\n",
       "      <th></th>\n",
       "      <th></th>\n",
       "      <th></th>\n",
       "    </tr>\n",
       "  </thead>\n",
       "  <tbody>\n",
       "    <tr>\n",
       "      <th>Scenario1</th>\n",
       "      <td>0.335388</td>\n",
       "      <td>0.00000</td>\n",
       "      <td>0.123084</td>\n",
       "      <td>10.655648</td>\n",
       "      <td>0.000117</td>\n",
       "      <td>27.200714</td>\n",
       "      <td>0.057218</td>\n",
       "      <td>32.617654</td>\n",
       "      <td>4.115172</td>\n",
       "      <td>22.098829</td>\n",
       "      <td>48.799530</td>\n",
       "      <td>0.474354</td>\n",
       "      <td>0.100566</td>\n",
       "      <td>163.564812</td>\n",
       "      <td>95.554043</td>\n",
       "      <td>6.035170</td>\n",
       "      <td>0.870664</td>\n",
       "    </tr>\n",
       "    <tr>\n",
       "      <th>Scenario10</th>\n",
       "      <td>4.426154</td>\n",
       "      <td>1.38773</td>\n",
       "      <td>15.352594</td>\n",
       "      <td>20.002117</td>\n",
       "      <td>0.009120</td>\n",
       "      <td>0.000000</td>\n",
       "      <td>0.080623</td>\n",
       "      <td>31.989164</td>\n",
       "      <td>5.520773</td>\n",
       "      <td>1.164413</td>\n",
       "      <td>2.847284</td>\n",
       "      <td>0.474354</td>\n",
       "      <td>0.100566</td>\n",
       "      <td>59.727893</td>\n",
       "      <td>32.983738</td>\n",
       "      <td>2.020647</td>\n",
       "      <td>0.836717</td>\n",
       "    </tr>\n",
       "  </tbody>\n",
       "</table>\n",
       "</div>"
      ],
      "text/plain": [
       "           FUEL_CONSUMPTION (sum)                                           \\\n",
       "Dim8                       BIOGAS   BIOOIL       COAL   ELECTRIC   FUELOIL   \n",
       "Dim2                                                                         \n",
       "Scenario1                0.335388  0.00000   0.123084  10.655648  0.000117   \n",
       "Scenario10               4.426154  1.38773  15.352594  20.002117  0.009120   \n",
       "\n",
       "                                                                            \\\n",
       "Dim8             HEAT  LIGHTOIL  MUNIWASTE    NATGAS      STRAW        SUN   \n",
       "Dim2                                                                         \n",
       "Scenario1   27.200714  0.057218  32.617654  4.115172  22.098829  48.799530   \n",
       "Scenario10   0.000000  0.080623  31.989164  5.520773   1.164413   2.847284   \n",
       "\n",
       "                                                                             \n",
       "Dim8       WASTEHEAT     WATER        WIND  WOODCHIPS WOODPELLETS WOODWASTE  \n",
       "Dim2                                                                         \n",
       "Scenario1   0.474354  0.100566  163.564812  95.554043    6.035170  0.870664  \n",
       "Scenario10  0.474354  0.100566   59.727893  32.983738    2.020647  0.836717  "
      ]
     },
     "execution_count": 52,
     "metadata": {},
     "output_type": "execute_result"
    }
   ],
   "source": [
    "# FUEL_CONSUMPTION\n",
    "df10 = readData(lf[10])\n",
    "df10 = epsToZeros(df10)\n",
    "df10 = filterYearAndCountry(df10,yyy,ccc)\n",
    "df10 = makeValFloat(df10)\n",
    "#df10['technology'] = df10.Dim8 + '_' + df10.Dim9\n",
    "df10 = groupFrame(df10,'Dim8',lf[10],aver=False)\n",
    "df10.head(2)"
   ]
  },
  {
   "cell_type": "markdown",
   "metadata": {},
   "source": [
    "## GENERATION_CAPACITY"
   ]
  },
  {
   "cell_type": "code",
   "execution_count": 202,
   "metadata": {},
   "outputs": [
    {
     "data": {
      "text/plain": [
       "'GENERATION_CAPACITY'"
      ]
     },
     "execution_count": 202,
     "metadata": {},
     "output_type": "execute_result"
    }
   ],
   "source": [
    "lf[11]"
   ]
  },
  {
   "cell_type": "code",
   "execution_count": 53,
   "metadata": {},
   "outputs": [
    {
     "data": {
      "text/html": [
       "<div>\n",
       "<style scoped>\n",
       "    .dataframe tbody tr th:only-of-type {\n",
       "        vertical-align: middle;\n",
       "    }\n",
       "\n",
       "    .dataframe tbody tr th {\n",
       "        vertical-align: top;\n",
       "    }\n",
       "\n",
       "    .dataframe thead tr th {\n",
       "        text-align: left;\n",
       "    }\n",
       "\n",
       "    .dataframe thead tr:last-of-type th {\n",
       "        text-align: right;\n",
       "    }\n",
       "</style>\n",
       "<table border=\"1\" class=\"dataframe\">\n",
       "  <thead>\n",
       "    <tr>\n",
       "      <th></th>\n",
       "      <th colspan=\"13\" halign=\"left\">GENERATION_CAPACITY (sum)</th>\n",
       "    </tr>\n",
       "    <tr>\n",
       "      <th>Dim10</th>\n",
       "      <th>BOILERS</th>\n",
       "      <th>CHP-BACK-PRESSURE</th>\n",
       "      <th>CHP-EXTRACTION</th>\n",
       "      <th>CONDENSING</th>\n",
       "      <th>ELECT-TO-HEAT</th>\n",
       "      <th>HYDRO-RUN-OF-RIVER</th>\n",
       "      <th>INTERSEASONAL-HEAT-STORAGE</th>\n",
       "      <th>INTRASEASONAL-ELECT-STORAGE</th>\n",
       "      <th>INTRASEASONAL-HEAT-STORAGE</th>\n",
       "      <th>SOLAR-HEATING</th>\n",
       "      <th>SOLAR-PV</th>\n",
       "      <th>WIND-OFF</th>\n",
       "      <th>WIND-ON</th>\n",
       "    </tr>\n",
       "    <tr>\n",
       "      <th>Dim2</th>\n",
       "      <th></th>\n",
       "      <th></th>\n",
       "      <th></th>\n",
       "      <th></th>\n",
       "      <th></th>\n",
       "      <th></th>\n",
       "      <th></th>\n",
       "      <th></th>\n",
       "      <th></th>\n",
       "      <th></th>\n",
       "      <th></th>\n",
       "      <th></th>\n",
       "      <th></th>\n",
       "    </tr>\n",
       "  </thead>\n",
       "  <tbody>\n",
       "    <tr>\n",
       "      <th>Scenario1</th>\n",
       "      <td>1.690526</td>\n",
       "      <td>23.202771</td>\n",
       "      <td>0.588961</td>\n",
       "      <td>15.099901</td>\n",
       "      <td>2.344929</td>\n",
       "      <td>0.020865</td>\n",
       "      <td>6.921221</td>\n",
       "      <td>5.351014</td>\n",
       "      <td>14.620806</td>\n",
       "      <td>8.640058</td>\n",
       "      <td>41.818506</td>\n",
       "      <td>22.559131</td>\n",
       "      <td>24.000000</td>\n",
       "    </tr>\n",
       "    <tr>\n",
       "      <th>Scenario10</th>\n",
       "      <td>17.240726</td>\n",
       "      <td>9.776967</td>\n",
       "      <td>2.508599</td>\n",
       "      <td>0.149460</td>\n",
       "      <td>14.107220</td>\n",
       "      <td>0.020865</td>\n",
       "      <td>0.000000</td>\n",
       "      <td>0.000000</td>\n",
       "      <td>0.000000</td>\n",
       "      <td>1.648190</td>\n",
       "      <td>1.747898</td>\n",
       "      <td>5.591300</td>\n",
       "      <td>13.210993</td>\n",
       "    </tr>\n",
       "  </tbody>\n",
       "</table>\n",
       "</div>"
      ],
      "text/plain": [
       "           GENERATION_CAPACITY (sum)                                   \\\n",
       "Dim10                        BOILERS CHP-BACK-PRESSURE CHP-EXTRACTION   \n",
       "Dim2                                                                    \n",
       "Scenario1                   1.690526         23.202771       0.588961   \n",
       "Scenario10                 17.240726          9.776967       2.508599   \n",
       "\n",
       "                                                        \\\n",
       "Dim10      CONDENSING ELECT-TO-HEAT HYDRO-RUN-OF-RIVER   \n",
       "Dim2                                                     \n",
       "Scenario1   15.099901      2.344929           0.020865   \n",
       "Scenario10   0.149460     14.107220           0.020865   \n",
       "\n",
       "                                                                   \\\n",
       "Dim10      INTERSEASONAL-HEAT-STORAGE INTRASEASONAL-ELECT-STORAGE   \n",
       "Dim2                                                                \n",
       "Scenario1                    6.921221                    5.351014   \n",
       "Scenario10                   0.000000                    0.000000   \n",
       "\n",
       "                                                                           \\\n",
       "Dim10      INTRASEASONAL-HEAT-STORAGE SOLAR-HEATING   SOLAR-PV   WIND-OFF   \n",
       "Dim2                                                                        \n",
       "Scenario1                   14.620806      8.640058  41.818506  22.559131   \n",
       "Scenario10                   0.000000      1.648190   1.747898   5.591300   \n",
       "\n",
       "                       \n",
       "Dim10         WIND-ON  \n",
       "Dim2                   \n",
       "Scenario1   24.000000  \n",
       "Scenario10  13.210993  "
      ]
     },
     "execution_count": 53,
     "metadata": {},
     "output_type": "execute_result"
    }
   ],
   "source": [
    "# GENERATION_CAPACITY\n",
    "df11 = readData(lf[11])\n",
    "df11 = epsToZeros(df11)\n",
    "df11 = filterYearAndCountry(df11,yyy,ccc)\n",
    "df11 = makeValFloat(df11)\n",
    "df11['technology'] = df11.Dim8 + '_' + df11.Dim9\n",
    "df11 = groupFrame(df11,'Dim10',lf[11],aver=False)\n",
    "df11.head(2)"
   ]
  },
  {
   "cell_type": "markdown",
   "metadata": {},
   "source": [
    "## HEAT_DEMAND"
   ]
  },
  {
   "cell_type": "code",
   "execution_count": 213,
   "metadata": {},
   "outputs": [
    {
     "data": {
      "text/plain": [
       "'HEAT_DEMAND'"
      ]
     },
     "execution_count": 213,
     "metadata": {},
     "output_type": "execute_result"
    }
   ],
   "source": [
    "lf[12]"
   ]
  },
  {
   "cell_type": "code",
   "execution_count": 54,
   "metadata": {},
   "outputs": [
    {
     "data": {
      "text/html": [
       "<div>\n",
       "<style scoped>\n",
       "    .dataframe tbody tr th:only-of-type {\n",
       "        vertical-align: middle;\n",
       "    }\n",
       "\n",
       "    .dataframe tbody tr th {\n",
       "        vertical-align: top;\n",
       "    }\n",
       "\n",
       "    .dataframe thead tr th {\n",
       "        text-align: left;\n",
       "    }\n",
       "\n",
       "    .dataframe thead tr:last-of-type th {\n",
       "        text-align: right;\n",
       "    }\n",
       "</style>\n",
       "<table border=\"1\" class=\"dataframe\">\n",
       "  <thead>\n",
       "    <tr>\n",
       "      <th></th>\n",
       "      <th colspan=\"3\" halign=\"left\">HEAT_DEMAND (sum)</th>\n",
       "    </tr>\n",
       "    <tr>\n",
       "      <th>Dim7</th>\n",
       "      <th>ENDO_INTERSTO</th>\n",
       "      <th>ENDO_INTRASTO</th>\n",
       "      <th>EXOGENOUS</th>\n",
       "    </tr>\n",
       "    <tr>\n",
       "      <th>Dim2</th>\n",
       "      <th></th>\n",
       "      <th></th>\n",
       "      <th></th>\n",
       "    </tr>\n",
       "  </thead>\n",
       "  <tbody>\n",
       "    <tr>\n",
       "      <th>Scenario1</th>\n",
       "      <td>4.652332</td>\n",
       "      <td>0.298073</td>\n",
       "      <td>149.765004</td>\n",
       "    </tr>\n",
       "    <tr>\n",
       "      <th>Scenario10</th>\n",
       "      <td>0.000000</td>\n",
       "      <td>0.000000</td>\n",
       "      <td>149.765004</td>\n",
       "    </tr>\n",
       "  </tbody>\n",
       "</table>\n",
       "</div>"
      ],
      "text/plain": [
       "           HEAT_DEMAND (sum)                          \n",
       "Dim7           ENDO_INTERSTO ENDO_INTRASTO   EXOGENOUS\n",
       "Dim2                                                  \n",
       "Scenario1           4.652332      0.298073  149.765004\n",
       "Scenario10          0.000000      0.000000  149.765004"
      ]
     },
     "execution_count": 54,
     "metadata": {},
     "output_type": "execute_result"
    }
   ],
   "source": [
    "# HEAT_DEMAND\n",
    "df12 = readData(lf[12])\n",
    "df12 = epsToZeros(df12)\n",
    "df12 = filterYearAndCountry(df12,yyy,ccc)\n",
    "df12 = makeValFloat(df12)\n",
    "df12 = groupFrame(df12,'Dim7',lf[12],aver=False)\n",
    "df12.head(2)"
   ]
  },
  {
   "cell_type": "markdown",
   "metadata": {},
   "source": [
    "## HEAT_PRICE"
   ]
  },
  {
   "cell_type": "code",
   "execution_count": 219,
   "metadata": {},
   "outputs": [
    {
     "data": {
      "text/plain": [
       "'HEAT_PRICE'"
      ]
     },
     "execution_count": 219,
     "metadata": {},
     "output_type": "execute_result"
    }
   ],
   "source": [
    "lf[13]"
   ]
  },
  {
   "cell_type": "code",
   "execution_count": 56,
   "metadata": {},
   "outputs": [
    {
     "data": {
      "text/html": [
       "<div>\n",
       "<style scoped>\n",
       "    .dataframe tbody tr th:only-of-type {\n",
       "        vertical-align: middle;\n",
       "    }\n",
       "\n",
       "    .dataframe tbody tr th {\n",
       "        vertical-align: top;\n",
       "    }\n",
       "\n",
       "    .dataframe thead tr th {\n",
       "        text-align: left;\n",
       "    }\n",
       "\n",
       "    .dataframe thead tr:last-of-type th {\n",
       "        text-align: right;\n",
       "    }\n",
       "</style>\n",
       "<table border=\"1\" class=\"dataframe\">\n",
       "  <thead>\n",
       "    <tr>\n",
       "      <th></th>\n",
       "      <th>HEAT_PRICE (mean)</th>\n",
       "    </tr>\n",
       "    <tr>\n",
       "      <th>Dim7</th>\n",
       "      <th>AVERAGE</th>\n",
       "    </tr>\n",
       "    <tr>\n",
       "      <th>Dim2</th>\n",
       "      <th></th>\n",
       "    </tr>\n",
       "  </thead>\n",
       "  <tbody>\n",
       "    <tr>\n",
       "      <th>Scenario1</th>\n",
       "      <td>29.245563</td>\n",
       "    </tr>\n",
       "    <tr>\n",
       "      <th>Scenario10</th>\n",
       "      <td>43.473431</td>\n",
       "    </tr>\n",
       "  </tbody>\n",
       "</table>\n",
       "</div>"
      ],
      "text/plain": [
       "           HEAT_PRICE (mean)\n",
       "Dim7                 AVERAGE\n",
       "Dim2                        \n",
       "Scenario1          29.245563\n",
       "Scenario10         43.473431"
      ]
     },
     "execution_count": 56,
     "metadata": {},
     "output_type": "execute_result"
    }
   ],
   "source": [
    "# HEAT_PRICE\n",
    "df13 = readData(lf[13])\n",
    "df13 = epsToZeros(df13)\n",
    "df13 = filterYearAndCountry(df13,yyy,ccc)\n",
    "df13 = makeValFloat(df13)\n",
    "df13 = groupFrame(df13,'Dim7',lf[13],aver=True)\n",
    "df13.head(2)"
   ]
  },
  {
   "cell_type": "markdown",
   "metadata": {},
   "source": [
    "## HEAT_PRICE_HOURLY"
   ]
  },
  {
   "cell_type": "code",
   "execution_count": 226,
   "metadata": {},
   "outputs": [
    {
     "data": {
      "text/plain": [
       "'HEAT_PRICE_HOURLY'"
      ]
     },
     "execution_count": 226,
     "metadata": {},
     "output_type": "execute_result"
    }
   ],
   "source": [
    "lf[14]"
   ]
  },
  {
   "cell_type": "code",
   "execution_count": 62,
   "metadata": {},
   "outputs": [
    {
     "data": {
      "text/html": [
       "<div>\n",
       "<style scoped>\n",
       "    .dataframe tbody tr th:only-of-type {\n",
       "        vertical-align: middle;\n",
       "    }\n",
       "\n",
       "    .dataframe tbody tr th {\n",
       "        vertical-align: top;\n",
       "    }\n",
       "\n",
       "    .dataframe thead tr th {\n",
       "        text-align: left;\n",
       "    }\n",
       "\n",
       "    .dataframe thead tr:last-of-type th {\n",
       "        text-align: right;\n",
       "    }\n",
       "</style>\n",
       "<table border=\"1\" class=\"dataframe\">\n",
       "  <thead>\n",
       "    <tr>\n",
       "      <th></th>\n",
       "      <th colspan=\"5\" halign=\"left\">HEAT_PRICE_HOURLY (mean)</th>\n",
       "    </tr>\n",
       "    <tr>\n",
       "      <th>Dim7</th>\n",
       "      <th>S01</th>\n",
       "      <th>S11</th>\n",
       "      <th>S22</th>\n",
       "      <th>S32</th>\n",
       "      <th>S43</th>\n",
       "    </tr>\n",
       "    <tr>\n",
       "      <th>Dim2</th>\n",
       "      <th></th>\n",
       "      <th></th>\n",
       "      <th></th>\n",
       "      <th></th>\n",
       "      <th></th>\n",
       "    </tr>\n",
       "  </thead>\n",
       "  <tbody>\n",
       "    <tr>\n",
       "      <th>Scenario1</th>\n",
       "      <td>40.500100</td>\n",
       "      <td>33.761938</td>\n",
       "      <td>22.985762</td>\n",
       "      <td>22.630149</td>\n",
       "      <td>26.349864</td>\n",
       "    </tr>\n",
       "    <tr>\n",
       "      <th>Scenario10</th>\n",
       "      <td>54.792336</td>\n",
       "      <td>52.853598</td>\n",
       "      <td>36.305398</td>\n",
       "      <td>28.667533</td>\n",
       "      <td>44.748293</td>\n",
       "    </tr>\n",
       "  </tbody>\n",
       "</table>\n",
       "</div>"
      ],
      "text/plain": [
       "           HEAT_PRICE_HOURLY (mean)                                   \\\n",
       "Dim7                            S01        S11        S22        S32   \n",
       "Dim2                                                                   \n",
       "Scenario1                 40.500100  33.761938  22.985762  22.630149   \n",
       "Scenario10                54.792336  52.853598  36.305398  28.667533   \n",
       "\n",
       "                       \n",
       "Dim7              S43  \n",
       "Dim2                   \n",
       "Scenario1   26.349864  \n",
       "Scenario10  44.748293  "
      ]
     },
     "execution_count": 62,
     "metadata": {},
     "output_type": "execute_result"
    }
   ],
   "source": [
    "# HEAT_PRICE_HOURLY\n",
    "df14 = readBigData(lf[14])\n",
    "df14 = epsToZeros(df14)\n",
    "df14 = filterYearAndCountry(df14,yyy,ccc)\n",
    "df14 = makeValFloat(df14)\n",
    "df14 = groupFrame(df14,'Dim7',lf[14],aver=True)\n",
    "df14.head(2)"
   ]
  },
  {
   "cell_type": "markdown",
   "metadata": {},
   "source": [
    "## HEAT_TRANSMISSION_CAPACITY"
   ]
  },
  {
   "cell_type": "code",
   "execution_count": 231,
   "metadata": {},
   "outputs": [
    {
     "data": {
      "text/plain": [
       "'HEAT_TRANSMISSION_CAPACITY'"
      ]
     },
     "execution_count": 231,
     "metadata": {},
     "output_type": "execute_result"
    }
   ],
   "source": [
    "lf[15]"
   ]
  },
  {
   "cell_type": "code",
   "execution_count": 64,
   "metadata": {},
   "outputs": [
    {
     "data": {
      "text/html": [
       "<div>\n",
       "<style scoped>\n",
       "    .dataframe tbody tr th:only-of-type {\n",
       "        vertical-align: middle;\n",
       "    }\n",
       "\n",
       "    .dataframe tbody tr th {\n",
       "        vertical-align: top;\n",
       "    }\n",
       "\n",
       "    .dataframe thead tr th {\n",
       "        text-align: left;\n",
       "    }\n",
       "\n",
       "    .dataframe thead tr:last-of-type th {\n",
       "        text-align: right;\n",
       "    }\n",
       "</style>\n",
       "<table border=\"1\" class=\"dataframe\">\n",
       "  <thead>\n",
       "    <tr>\n",
       "      <th></th>\n",
       "      <th colspan=\"2\" halign=\"left\">HEAT_TRANSMISSION_CAPACITY (sum)</th>\n",
       "    </tr>\n",
       "    <tr>\n",
       "      <th>direction</th>\n",
       "      <th>DK1_DK1</th>\n",
       "      <th>DK2_DK2</th>\n",
       "    </tr>\n",
       "    <tr>\n",
       "      <th>Dim2</th>\n",
       "      <th></th>\n",
       "      <th></th>\n",
       "    </tr>\n",
       "  </thead>\n",
       "  <tbody>\n",
       "    <tr>\n",
       "      <th>Scenario1</th>\n",
       "      <td>6001.542</td>\n",
       "      <td>6001.056</td>\n",
       "    </tr>\n",
       "    <tr>\n",
       "      <th>Scenario10</th>\n",
       "      <td>6001.542</td>\n",
       "      <td>6001.056</td>\n",
       "    </tr>\n",
       "  </tbody>\n",
       "</table>\n",
       "</div>"
      ],
      "text/plain": [
       "           HEAT_TRANSMISSION_CAPACITY (sum)          \n",
       "direction                           DK1_DK1   DK2_DK2\n",
       "Dim2                                                 \n",
       "Scenario1                          6001.542  6001.056\n",
       "Scenario10                         6001.542  6001.056"
      ]
     },
     "execution_count": 64,
     "metadata": {},
     "output_type": "execute_result"
    }
   ],
   "source": [
    "# HEAT_TRANSMISSION_CAPACITY\n",
    "df15 = readBigData(lf[15])\n",
    "df15 = epsToZeros(df15)\n",
    "df15 = filterYearAndCountry(df15,yyy,ccc)\n",
    "df15 = makeValFloat(df15)\n",
    "df15['direction'] = df15.Dim5.str.split('_').str[0] + '_' + df15.Dim6.str.split('_').str[0]\n",
    "df15 = groupFrame(df15,'direction',lf[15],aver=False)\n",
    "df15.head(2)"
   ]
  },
  {
   "cell_type": "markdown",
   "metadata": {},
   "source": [
    "## HEAT_TRANSMISSION_FLOW"
   ]
  },
  {
   "cell_type": "code",
   "execution_count": 243,
   "metadata": {},
   "outputs": [
    {
     "data": {
      "text/plain": [
       "'HEAT_TRANSMISSION_FLOW'"
      ]
     },
     "execution_count": 243,
     "metadata": {},
     "output_type": "execute_result"
    }
   ],
   "source": [
    "lf[16]"
   ]
  },
  {
   "cell_type": "code",
   "execution_count": 72,
   "metadata": {},
   "outputs": [
    {
     "data": {
      "text/html": [
       "<div>\n",
       "<style scoped>\n",
       "    .dataframe tbody tr th:only-of-type {\n",
       "        vertical-align: middle;\n",
       "    }\n",
       "\n",
       "    .dataframe tbody tr th {\n",
       "        vertical-align: top;\n",
       "    }\n",
       "\n",
       "    .dataframe thead tr th {\n",
       "        text-align: left;\n",
       "    }\n",
       "\n",
       "    .dataframe thead tr:last-of-type th {\n",
       "        text-align: right;\n",
       "    }\n",
       "</style>\n",
       "<table border=\"1\" class=\"dataframe\">\n",
       "  <thead>\n",
       "    <tr>\n",
       "      <th></th>\n",
       "      <th colspan=\"2\" halign=\"left\">HEAT_TRANSMISSION_FLOW (sum)</th>\n",
       "    </tr>\n",
       "    <tr>\n",
       "      <th>direction</th>\n",
       "      <th>DK1-DK1</th>\n",
       "      <th>DK2-DK2</th>\n",
       "    </tr>\n",
       "    <tr>\n",
       "      <th>Dim2</th>\n",
       "      <th></th>\n",
       "      <th></th>\n",
       "    </tr>\n",
       "  </thead>\n",
       "  <tbody>\n",
       "    <tr>\n",
       "      <th>Scenario1</th>\n",
       "      <td>11.834274</td>\n",
       "      <td>7.952145</td>\n",
       "    </tr>\n",
       "    <tr>\n",
       "      <th>Scenario10</th>\n",
       "      <td>6.393838</td>\n",
       "      <td>4.336831</td>\n",
       "    </tr>\n",
       "  </tbody>\n",
       "</table>\n",
       "</div>"
      ],
      "text/plain": [
       "           HEAT_TRANSMISSION_FLOW (sum)          \n",
       "direction                       DK1-DK1   DK2-DK2\n",
       "Dim2                                             \n",
       "Scenario1                     11.834274  7.952145\n",
       "Scenario10                     6.393838  4.336831"
      ]
     },
     "execution_count": 72,
     "metadata": {},
     "output_type": "execute_result"
    }
   ],
   "source": [
    "# HEAT_TRANSMISSION_FLOW\n",
    "df16 = readBigData(lf[16])\n",
    "df16 = epsToZeros(df16)\n",
    "df16 = filterYearAndCountry(df16,yyy,ccc)\n",
    "df16 = makeValFloat(df16)\n",
    "df16['direction'] = df16.Dim5.str.split('_').str[0] + '-' + df16.Dim6.str.split('_').str[0]\n",
    "#df16['direction'] = df16.Dim5 + '-' + df16.Dim6\n",
    "#or use 'Dim6'\n",
    "df16 = groupFrame(df16,'direction',lf[16],aver=False)\n",
    "df16.head(2)"
   ]
  },
  {
   "cell_type": "markdown",
   "metadata": {},
   "source": [
    "## STORAGE_CAPACITY"
   ]
  },
  {
   "cell_type": "code",
   "execution_count": 253,
   "metadata": {},
   "outputs": [
    {
     "data": {
      "text/plain": [
       "'STORAGE_CAPACITY'"
      ]
     },
     "execution_count": 253,
     "metadata": {},
     "output_type": "execute_result"
    }
   ],
   "source": [
    "lf[17]"
   ]
  },
  {
   "cell_type": "code",
   "execution_count": 73,
   "metadata": {},
   "outputs": [
    {
     "data": {
      "text/html": [
       "<div>\n",
       "<style scoped>\n",
       "    .dataframe tbody tr th:only-of-type {\n",
       "        vertical-align: middle;\n",
       "    }\n",
       "\n",
       "    .dataframe tbody tr th {\n",
       "        vertical-align: top;\n",
       "    }\n",
       "\n",
       "    .dataframe thead tr th {\n",
       "        text-align: left;\n",
       "    }\n",
       "\n",
       "    .dataframe thead tr:last-of-type th {\n",
       "        text-align: right;\n",
       "    }\n",
       "</style>\n",
       "<table border=\"1\" class=\"dataframe\">\n",
       "  <thead>\n",
       "    <tr>\n",
       "      <th></th>\n",
       "      <th colspan=\"3\" halign=\"left\">STORAGE_CAPACITY (sum)</th>\n",
       "    </tr>\n",
       "    <tr>\n",
       "      <th>Dim10</th>\n",
       "      <th>INTERSEASONAL-HEAT-STORAGE</th>\n",
       "      <th>INTRASEASONAL-ELECT-STORAGE</th>\n",
       "      <th>INTRASEASONAL-HEAT-STORAGE</th>\n",
       "    </tr>\n",
       "    <tr>\n",
       "      <th>Dim2</th>\n",
       "      <th></th>\n",
       "      <th></th>\n",
       "      <th></th>\n",
       "    </tr>\n",
       "  </thead>\n",
       "  <tbody>\n",
       "    <tr>\n",
       "      <th>Scenario1</th>\n",
       "      <td>799.197444</td>\n",
       "      <td>21.404056</td>\n",
       "      <td>331.346904</td>\n",
       "    </tr>\n",
       "    <tr>\n",
       "      <th>Scenario10</th>\n",
       "      <td>0.000000</td>\n",
       "      <td>0.000000</td>\n",
       "      <td>0.000000</td>\n",
       "    </tr>\n",
       "  </tbody>\n",
       "</table>\n",
       "</div>"
      ],
      "text/plain": [
       "               STORAGE_CAPACITY (sum)                              \\\n",
       "Dim10      INTERSEASONAL-HEAT-STORAGE INTRASEASONAL-ELECT-STORAGE   \n",
       "Dim2                                                                \n",
       "Scenario1                  799.197444                   21.404056   \n",
       "Scenario10                   0.000000                    0.000000   \n",
       "\n",
       "                                       \n",
       "Dim10      INTRASEASONAL-HEAT-STORAGE  \n",
       "Dim2                                   \n",
       "Scenario1                  331.346904  \n",
       "Scenario10                   0.000000  "
      ]
     },
     "execution_count": 73,
     "metadata": {},
     "output_type": "execute_result"
    }
   ],
   "source": [
    "# STORAGE_CAPACITY\n",
    "df17 = readBigData(lf[17])\n",
    "df17 = epsToZeros(df17)\n",
    "df17 = filterYearAndCountry(df17,yyy,ccc)\n",
    "df17 = makeValFloat(df17)\n",
    "df17 = groupFrame(df17,'Dim10',lf[17],aver=False)\n",
    "df17.head(2)"
   ]
  },
  {
   "cell_type": "markdown",
   "metadata": {},
   "source": [
    "## SYSTEM_COSTS"
   ]
  },
  {
   "cell_type": "code",
   "execution_count": 262,
   "metadata": {
    "scrolled": true
   },
   "outputs": [
    {
     "data": {
      "text/plain": [
       "'SYSTEM_COSTS'"
      ]
     },
     "execution_count": 262,
     "metadata": {},
     "output_type": "execute_result"
    }
   ],
   "source": [
    "lf[18]"
   ]
  },
  {
   "cell_type": "code",
   "execution_count": 74,
   "metadata": {},
   "outputs": [
    {
     "data": {
      "text/html": [
       "<div>\n",
       "<style scoped>\n",
       "    .dataframe tbody tr th:only-of-type {\n",
       "        vertical-align: middle;\n",
       "    }\n",
       "\n",
       "    .dataframe tbody tr th {\n",
       "        vertical-align: top;\n",
       "    }\n",
       "\n",
       "    .dataframe thead tr th {\n",
       "        text-align: left;\n",
       "    }\n",
       "\n",
       "    .dataframe thead tr:last-of-type th {\n",
       "        text-align: right;\n",
       "    }\n",
       "</style>\n",
       "<table border=\"1\" class=\"dataframe\">\n",
       "  <thead>\n",
       "    <tr>\n",
       "      <th></th>\n",
       "      <th colspan=\"13\" halign=\"left\">SYSTEM_COSTS (sum)</th>\n",
       "    </tr>\n",
       "    <tr>\n",
       "      <th>Dim6</th>\n",
       "      <th>GENERATION_CAPITAL_COSTS</th>\n",
       "      <th>GENERATION_CO2_TAX</th>\n",
       "      <th>GENERATION_FIXED_COSTS</th>\n",
       "      <th>GENERATION_FUEL_COSTS</th>\n",
       "      <th>GENERATION_OPERATIONAL_COSTS</th>\n",
       "      <th>GENERATION_OTHER_EMI_TAX</th>\n",
       "      <th>GENERATION_UC_COSTS</th>\n",
       "      <th>GRID_TARIFFS</th>\n",
       "      <th>HEAT_TRANSMISSION_CAPITAL_COSTS</th>\n",
       "      <th>HEAT_TRANSMISSION_OPERATIONAL_COSTS</th>\n",
       "      <th>TAXES</th>\n",
       "      <th>TRANSMISSION_CAPITAL_COSTS</th>\n",
       "      <th>TRANSMISSION_OPERATIONAL_COSTS</th>\n",
       "    </tr>\n",
       "    <tr>\n",
       "      <th>Dim2</th>\n",
       "      <th></th>\n",
       "      <th></th>\n",
       "      <th></th>\n",
       "      <th></th>\n",
       "      <th></th>\n",
       "      <th></th>\n",
       "      <th></th>\n",
       "      <th></th>\n",
       "      <th></th>\n",
       "      <th></th>\n",
       "      <th></th>\n",
       "      <th></th>\n",
       "      <th></th>\n",
       "    </tr>\n",
       "  </thead>\n",
       "  <tbody>\n",
       "    <tr>\n",
       "      <th>Scenario1</th>\n",
       "      <td>6940.383171</td>\n",
       "      <td>86.642451</td>\n",
       "      <td>2664.404139</td>\n",
       "      <td>2606.018031</td>\n",
       "      <td>749.952190</td>\n",
       "      <td>0.020144</td>\n",
       "      <td>86.366213</td>\n",
       "      <td>4317.979857</td>\n",
       "      <td>0.0</td>\n",
       "      <td>0.000225</td>\n",
       "      <td>8188.898895</td>\n",
       "      <td>417.131961</td>\n",
       "      <td>0.020614</td>\n",
       "    </tr>\n",
       "    <tr>\n",
       "      <th>Scenario10</th>\n",
       "      <td>3209.519551</td>\n",
       "      <td>219.152990</td>\n",
       "      <td>1049.003067</td>\n",
       "      <td>922.158465</td>\n",
       "      <td>538.911484</td>\n",
       "      <td>0.012272</td>\n",
       "      <td>103.645321</td>\n",
       "      <td>4507.583569</td>\n",
       "      <td>0.0</td>\n",
       "      <td>0.000518</td>\n",
       "      <td>10072.631777</td>\n",
       "      <td>295.729468</td>\n",
       "      <td>0.009370</td>\n",
       "    </tr>\n",
       "  </tbody>\n",
       "</table>\n",
       "</div>"
      ],
      "text/plain": [
       "                 SYSTEM_COSTS (sum)                                            \\\n",
       "Dim6       GENERATION_CAPITAL_COSTS GENERATION_CO2_TAX GENERATION_FIXED_COSTS   \n",
       "Dim2                                                                            \n",
       "Scenario1               6940.383171          86.642451            2664.404139   \n",
       "Scenario10              3209.519551         219.152990            1049.003067   \n",
       "\n",
       "                                                               \\\n",
       "Dim6       GENERATION_FUEL_COSTS GENERATION_OPERATIONAL_COSTS   \n",
       "Dim2                                                            \n",
       "Scenario1            2606.018031                   749.952190   \n",
       "Scenario10            922.158465                   538.911484   \n",
       "\n",
       "                                                                      \\\n",
       "Dim6       GENERATION_OTHER_EMI_TAX GENERATION_UC_COSTS GRID_TARIFFS   \n",
       "Dim2                                                                   \n",
       "Scenario1                  0.020144           86.366213  4317.979857   \n",
       "Scenario10                 0.012272          103.645321  4507.583569   \n",
       "\n",
       "                                            \\\n",
       "Dim6       HEAT_TRANSMISSION_CAPITAL_COSTS   \n",
       "Dim2                                         \n",
       "Scenario1                              0.0   \n",
       "Scenario10                             0.0   \n",
       "\n",
       "                                                              \\\n",
       "Dim6       HEAT_TRANSMISSION_OPERATIONAL_COSTS         TAXES   \n",
       "Dim2                                                           \n",
       "Scenario1                             0.000225   8188.898895   \n",
       "Scenario10                            0.000518  10072.631777   \n",
       "\n",
       "                                                                      \n",
       "Dim6       TRANSMISSION_CAPITAL_COSTS TRANSMISSION_OPERATIONAL_COSTS  \n",
       "Dim2                                                                  \n",
       "Scenario1                  417.131961                       0.020614  \n",
       "Scenario10                 295.729468                       0.009370  "
      ]
     },
     "execution_count": 74,
     "metadata": {},
     "output_type": "execute_result"
    }
   ],
   "source": [
    "# SYSTEM_COSTS\n",
    "df18 = readBigData(lf[18])\n",
    "df18 = epsToZeros(df18)\n",
    "df18 = filterYearAndCountry(df18,yyy,ccc)\n",
    "df18 = makeValFloat(df18)\n",
    "df18 = groupFrame(df18,'Dim6',lf[18],aver=False)\n",
    "df18.head(2)"
   ]
  },
  {
   "cell_type": "code",
   "execution_count": 98,
   "metadata": {},
   "outputs": [
    {
     "data": {
      "text/html": [
       "<div>\n",
       "<style scoped>\n",
       "    .dataframe tbody tr th:only-of-type {\n",
       "        vertical-align: middle;\n",
       "    }\n",
       "\n",
       "    .dataframe tbody tr th {\n",
       "        vertical-align: top;\n",
       "    }\n",
       "\n",
       "    .dataframe thead tr th {\n",
       "        text-align: left;\n",
       "    }\n",
       "</style>\n",
       "<table border=\"1\" class=\"dataframe\">\n",
       "  <thead>\n",
       "    <tr>\n",
       "      <th></th>\n",
       "      <th colspan=\"10\" halign=\"left\">ECONOMY_GENERATION (sum)</th>\n",
       "      <th>...</th>\n",
       "      <th colspan=\"10\" halign=\"left\">SYSTEM_COSTS (sum)</th>\n",
       "    </tr>\n",
       "    <tr>\n",
       "      <th></th>\n",
       "      <th>ELECTRICITY_SALE</th>\n",
       "      <th>ENERGY_SPECIFIC_REVENUE</th>\n",
       "      <th>GENERATION_CAPITAL_COSTS</th>\n",
       "      <th>GENERATION_CO2_TAX</th>\n",
       "      <th>GENERATION_FIXED_COSTS</th>\n",
       "      <th>GENERATION_FUEL_COSTS</th>\n",
       "      <th>GENERATION_GRID_TARIFFS</th>\n",
       "      <th>GENERATION_OPERATIONAL_COSTS</th>\n",
       "      <th>GENERATION_OTHER_EMI_TAX</th>\n",
       "      <th>GENERATION_TAXES</th>\n",
       "      <th>...</th>\n",
       "      <th>GENERATION_FUEL_COSTS</th>\n",
       "      <th>GENERATION_OPERATIONAL_COSTS</th>\n",
       "      <th>GENERATION_OTHER_EMI_TAX</th>\n",
       "      <th>GENERATION_UC_COSTS</th>\n",
       "      <th>GRID_TARIFFS</th>\n",
       "      <th>HEAT_TRANSMISSION_CAPITAL_COSTS</th>\n",
       "      <th>HEAT_TRANSMISSION_OPERATIONAL_COSTS</th>\n",
       "      <th>TAXES</th>\n",
       "      <th>TRANSMISSION_CAPITAL_COSTS</th>\n",
       "      <th>TRANSMISSION_OPERATIONAL_COSTS</th>\n",
       "    </tr>\n",
       "  </thead>\n",
       "  <tbody>\n",
       "    <tr>\n",
       "      <th>Scenario1</th>\n",
       "      <td>12210.059270</td>\n",
       "      <td>31621.444182</td>\n",
       "      <td>6940.383171</td>\n",
       "      <td>86.642451</td>\n",
       "      <td>2664.404139</td>\n",
       "      <td>2620.16481</td>\n",
       "      <td>56.057248</td>\n",
       "      <td>749.952190</td>\n",
       "      <td>0.020144</td>\n",
       "      <td>87.905015</td>\n",
       "      <td>...</td>\n",
       "      <td>2606.018031</td>\n",
       "      <td>749.952190</td>\n",
       "      <td>0.020144</td>\n",
       "      <td>86.366213</td>\n",
       "      <td>4317.979857</td>\n",
       "      <td>0.0</td>\n",
       "      <td>0.000225</td>\n",
       "      <td>8188.898895</td>\n",
       "      <td>417.131961</td>\n",
       "      <td>0.020614</td>\n",
       "    </tr>\n",
       "    <tr>\n",
       "      <th>Scenario10</th>\n",
       "      <td>4098.555644</td>\n",
       "      <td>29221.484573</td>\n",
       "      <td>3209.519551</td>\n",
       "      <td>219.152990</td>\n",
       "      <td>1049.003067</td>\n",
       "      <td>936.82982</td>\n",
       "      <td>245.660960</td>\n",
       "      <td>538.911484</td>\n",
       "      <td>0.012272</td>\n",
       "      <td>1971.637897</td>\n",
       "      <td>...</td>\n",
       "      <td>922.158465</td>\n",
       "      <td>538.911484</td>\n",
       "      <td>0.012272</td>\n",
       "      <td>103.645321</td>\n",
       "      <td>4507.583569</td>\n",
       "      <td>0.0</td>\n",
       "      <td>0.000518</td>\n",
       "      <td>10072.631777</td>\n",
       "      <td>295.729468</td>\n",
       "      <td>0.009370</td>\n",
       "    </tr>\n",
       "  </tbody>\n",
       "</table>\n",
       "<p>2 rows × 176 columns</p>\n",
       "</div>"
      ],
      "text/plain": [
       "           ECONOMY_GENERATION (sum)                          \\\n",
       "                   ELECTRICITY_SALE ENERGY_SPECIFIC_REVENUE   \n",
       "Scenario1              12210.059270            31621.444182   \n",
       "Scenario10              4098.555644            29221.484573   \n",
       "\n",
       "                                                                               \\\n",
       "           GENERATION_CAPITAL_COSTS GENERATION_CO2_TAX GENERATION_FIXED_COSTS   \n",
       "Scenario1               6940.383171          86.642451            2664.404139   \n",
       "Scenario10              3209.519551         219.152990            1049.003067   \n",
       "\n",
       "                                                          \\\n",
       "           GENERATION_FUEL_COSTS GENERATION_GRID_TARIFFS   \n",
       "Scenario1             2620.16481               56.057248   \n",
       "Scenario10             936.82982              245.660960   \n",
       "\n",
       "                                                                  \\\n",
       "           GENERATION_OPERATIONAL_COSTS GENERATION_OTHER_EMI_TAX   \n",
       "Scenario1                    749.952190                 0.020144   \n",
       "Scenario10                   538.911484                 0.012272   \n",
       "\n",
       "                             ...    SYSTEM_COSTS (sum)  \\\n",
       "           GENERATION_TAXES  ... GENERATION_FUEL_COSTS   \n",
       "Scenario1         87.905015  ...           2606.018031   \n",
       "Scenario10      1971.637897  ...            922.158465   \n",
       "\n",
       "                                                                  \\\n",
       "           GENERATION_OPERATIONAL_COSTS GENERATION_OTHER_EMI_TAX   \n",
       "Scenario1                    749.952190                 0.020144   \n",
       "Scenario10                   538.911484                 0.012272   \n",
       "\n",
       "                                                                             \\\n",
       "           GENERATION_UC_COSTS GRID_TARIFFS HEAT_TRANSMISSION_CAPITAL_COSTS   \n",
       "Scenario1            86.366213  4317.979857                             0.0   \n",
       "Scenario10          103.645321  4507.583569                             0.0   \n",
       "\n",
       "                                                              \\\n",
       "           HEAT_TRANSMISSION_OPERATIONAL_COSTS         TAXES   \n",
       "Scenario1                             0.000225   8188.898895   \n",
       "Scenario10                            0.000518  10072.631777   \n",
       "\n",
       "                                                                      \n",
       "           TRANSMISSION_CAPITAL_COSTS TRANSMISSION_OPERATIONAL_COSTS  \n",
       "Scenario1                  417.131961                       0.020614  \n",
       "Scenario10                 295.729468                       0.009370  \n",
       "\n",
       "[2 rows x 176 columns]"
      ]
     },
     "execution_count": 98,
     "metadata": {},
     "output_type": "execute_result"
    }
   ],
   "source": [
    "frames = [df1, df2, df3, df4, df5, df6, df7, df8, df9, df10, df11, df12, df13, df14, df15, df16, df17, df18]\n",
    "df_all = pd.concat(frames, axis=1, sort=False)\n",
    "df_all.index.set_names([None], inplace=True)\n",
    "df_all.columns.set_names([None, None], inplace=True)\n",
    "df_all.to_csv('output/data_all.csv', encoding='utf8')\n",
    "df_all.head(2)"
   ]
  }
 ],
 "metadata": {
  "kernelspec": {
   "display_name": "Python 3",
   "language": "python",
   "name": "python3"
  },
  "language_info": {
   "codemirror_mode": {
    "name": "ipython",
    "version": 3
   },
   "file_extension": ".py",
   "mimetype": "text/x-python",
   "name": "python",
   "nbconvert_exporter": "python",
   "pygments_lexer": "ipython3",
   "version": "3.7.6"
  }
 },
 "nbformat": 4,
 "nbformat_minor": 4
}
